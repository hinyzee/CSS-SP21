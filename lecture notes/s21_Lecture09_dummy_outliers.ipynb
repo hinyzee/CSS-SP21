{
  "nbformat": 4,
  "nbformat_minor": 0,
  "metadata": {
    "colab": {
      "name": "s21_Lecture09_dummy_outliers.ipynb",
      "provenance": [],
      "collapsed_sections": []
    },
    "kernelspec": {
      "name": "python3",
      "display_name": "Python 3"
    }
  },
  "cells": [
    {
      "cell_type": "markdown",
      "metadata": {
        "id": "YDZ1v_yBclFs"
      },
      "source": [
        "\n",
        "Announcements:\n",
        "1. Problem set 4 due Tuesday at midnight instead\n",
        "2. Problem set 5 and quiz 5 due at the end of the week\n",
        "3. Remember to attend sections!\n",
        "4. If you are doing the github extra credit, please send me an email with your github account. \n",
        "\n",
        "#### Today, we will be dealing with transforming categorical and ordinal data into numerical data\n",
        "1. Dummy coding\n",
        "2. Binning continuous data into categories\n",
        "3. Outliers\n"
      ]
    },
    {
      "cell_type": "code",
      "metadata": {
        "id": "uVzoXWc7cPPD"
      },
      "source": [
        "import numpy as np\n",
        "import pandas as pd\n",
        "import matplotlib.pyplot as plt\n",
        "import seaborn as sns"
      ],
      "execution_count": null,
      "outputs": []
    },
    {
      "cell_type": "markdown",
      "metadata": {
        "id": "4haEVNbwX0pS"
      },
      "source": [
        "#### Load the dataset we saved from last class"
      ]
    },
    {
      "cell_type": "code",
      "metadata": {
        "id": "hOodFw4actIM"
      },
      "source": [
        "filename = 'Data_no_nans.csv'\n",
        "inital_data = pd.read_csv(filename,delimiter=',')"
      ],
      "execution_count": null,
      "outputs": []
    },
    {
      "cell_type": "markdown",
      "metadata": {
        "id": "bzbqM2hcX2r1"
      },
      "source": [
        "#### Check the data quick"
      ]
    },
    {
      "cell_type": "code",
      "metadata": {
        "id": "AWa4L_HKc6A9",
        "colab": {
          "base_uri": "https://localhost:8080/",
          "height": 241
        },
        "outputId": "6675b884-ce1b-4236-e4b4-5d7d64cfa9ef"
      },
      "source": [
        "inital_data.head()"
      ],
      "execution_count": null,
      "outputs": [
        {
          "output_type": "execute_result",
          "data": {
            "text/html": [
              "<div>\n",
              "<style scoped>\n",
              "    .dataframe tbody tr th:only-of-type {\n",
              "        vertical-align: middle;\n",
              "    }\n",
              "\n",
              "    .dataframe tbody tr th {\n",
              "        vertical-align: top;\n",
              "    }\n",
              "\n",
              "    .dataframe thead th {\n",
              "        text-align: right;\n",
              "    }\n",
              "</style>\n",
              "<table border=\"1\" class=\"dataframe\">\n",
              "  <thead>\n",
              "    <tr style=\"text-align: right;\">\n",
              "      <th></th>\n",
              "      <th>Unnamed: 0</th>\n",
              "      <th>mpg</th>\n",
              "      <th>cylinders</th>\n",
              "      <th>displacement</th>\n",
              "      <th>horsepower</th>\n",
              "      <th>weight</th>\n",
              "      <th>acceleration</th>\n",
              "      <th>model_year</th>\n",
              "      <th>origin</th>\n",
              "      <th>name</th>\n",
              "      <th>Type</th>\n",
              "    </tr>\n",
              "  </thead>\n",
              "  <tbody>\n",
              "    <tr>\n",
              "      <th>0</th>\n",
              "      <td>0</td>\n",
              "      <td>18.0</td>\n",
              "      <td>8.0</td>\n",
              "      <td>307.0</td>\n",
              "      <td>130.0</td>\n",
              "      <td>3504.0</td>\n",
              "      <td>12.0</td>\n",
              "      <td>70.0</td>\n",
              "      <td>usa</td>\n",
              "      <td>chevrolet</td>\n",
              "      <td>Sedan</td>\n",
              "    </tr>\n",
              "    <tr>\n",
              "      <th>1</th>\n",
              "      <td>1</td>\n",
              "      <td>14.0</td>\n",
              "      <td>8.0</td>\n",
              "      <td>454.0</td>\n",
              "      <td>220.0</td>\n",
              "      <td>4354.0</td>\n",
              "      <td>9.0</td>\n",
              "      <td>70.0</td>\n",
              "      <td>usa</td>\n",
              "      <td>chevrolet</td>\n",
              "      <td>Sedan</td>\n",
              "    </tr>\n",
              "    <tr>\n",
              "      <th>2</th>\n",
              "      <td>2</td>\n",
              "      <td>15.0</td>\n",
              "      <td>8.0</td>\n",
              "      <td>400.0</td>\n",
              "      <td>150.0</td>\n",
              "      <td>3761.0</td>\n",
              "      <td>9.5</td>\n",
              "      <td>70.0</td>\n",
              "      <td>usa</td>\n",
              "      <td>chevrolet</td>\n",
              "      <td>Sedan</td>\n",
              "    </tr>\n",
              "    <tr>\n",
              "      <th>3</th>\n",
              "      <td>3</td>\n",
              "      <td>24.0</td>\n",
              "      <td>4.0</td>\n",
              "      <td>113.0</td>\n",
              "      <td>95.0</td>\n",
              "      <td>2372.0</td>\n",
              "      <td>15.0</td>\n",
              "      <td>70.0</td>\n",
              "      <td>japan</td>\n",
              "      <td>toyota</td>\n",
              "      <td>Coupe</td>\n",
              "    </tr>\n",
              "    <tr>\n",
              "      <th>4</th>\n",
              "      <td>4</td>\n",
              "      <td>26.0</td>\n",
              "      <td>4.0</td>\n",
              "      <td>12.0</td>\n",
              "      <td>46.0</td>\n",
              "      <td>1835.0</td>\n",
              "      <td>20.5</td>\n",
              "      <td>70.0</td>\n",
              "      <td>europe</td>\n",
              "      <td>volkswagen</td>\n",
              "      <td>Coupe</td>\n",
              "    </tr>\n",
              "  </tbody>\n",
              "</table>\n",
              "</div>"
            ],
            "text/plain": [
              "   Unnamed: 0   mpg  cylinders  ...  origin        name   Type\n",
              "0           0  18.0        8.0  ...     usa   chevrolet  Sedan\n",
              "1           1  14.0        8.0  ...     usa   chevrolet  Sedan\n",
              "2           2  15.0        8.0  ...     usa   chevrolet  Sedan\n",
              "3           3  24.0        4.0  ...   japan      toyota  Coupe\n",
              "4           4  26.0        4.0  ...  europe  volkswagen  Coupe\n",
              "\n",
              "[5 rows x 11 columns]"
            ]
          },
          "metadata": {
            "tags": []
          },
          "execution_count": 3
        }
      ]
    },
    {
      "cell_type": "markdown",
      "metadata": {
        "id": "xVExD1GsX4Yj"
      },
      "source": [
        "#### Whoops. We need to take care of that. How do we do that again?"
      ]
    },
    {
      "cell_type": "code",
      "metadata": {
        "id": "ZfDzruURtnK0"
      },
      "source": [
        "data = pd.read_csv(filename,delimiter=',',index_col=0)"
      ],
      "execution_count": null,
      "outputs": []
    },
    {
      "cell_type": "code",
      "metadata": {
        "id": "Jdf4Jzr2tr8s",
        "colab": {
          "base_uri": "https://localhost:8080/",
          "height": 224
        },
        "outputId": "80376ee7-6786-4968-af81-ed483bd9fe57"
      },
      "source": [
        "data.head()"
      ],
      "execution_count": null,
      "outputs": [
        {
          "output_type": "execute_result",
          "data": {
            "text/html": [
              "<div>\n",
              "<style scoped>\n",
              "    .dataframe tbody tr th:only-of-type {\n",
              "        vertical-align: middle;\n",
              "    }\n",
              "\n",
              "    .dataframe tbody tr th {\n",
              "        vertical-align: top;\n",
              "    }\n",
              "\n",
              "    .dataframe thead th {\n",
              "        text-align: right;\n",
              "    }\n",
              "</style>\n",
              "<table border=\"1\" class=\"dataframe\">\n",
              "  <thead>\n",
              "    <tr style=\"text-align: right;\">\n",
              "      <th></th>\n",
              "      <th>mpg</th>\n",
              "      <th>cylinders</th>\n",
              "      <th>displacement</th>\n",
              "      <th>horsepower</th>\n",
              "      <th>weight</th>\n",
              "      <th>acceleration</th>\n",
              "      <th>model_year</th>\n",
              "      <th>origin</th>\n",
              "      <th>name</th>\n",
              "      <th>Type</th>\n",
              "    </tr>\n",
              "  </thead>\n",
              "  <tbody>\n",
              "    <tr>\n",
              "      <th>0</th>\n",
              "      <td>18.0</td>\n",
              "      <td>8.0</td>\n",
              "      <td>307.0</td>\n",
              "      <td>130.0</td>\n",
              "      <td>3504.0</td>\n",
              "      <td>12.0</td>\n",
              "      <td>70.0</td>\n",
              "      <td>usa</td>\n",
              "      <td>chevrolet</td>\n",
              "      <td>Sedan</td>\n",
              "    </tr>\n",
              "    <tr>\n",
              "      <th>1</th>\n",
              "      <td>14.0</td>\n",
              "      <td>8.0</td>\n",
              "      <td>454.0</td>\n",
              "      <td>220.0</td>\n",
              "      <td>4354.0</td>\n",
              "      <td>9.0</td>\n",
              "      <td>70.0</td>\n",
              "      <td>usa</td>\n",
              "      <td>chevrolet</td>\n",
              "      <td>Sedan</td>\n",
              "    </tr>\n",
              "    <tr>\n",
              "      <th>2</th>\n",
              "      <td>15.0</td>\n",
              "      <td>8.0</td>\n",
              "      <td>400.0</td>\n",
              "      <td>150.0</td>\n",
              "      <td>3761.0</td>\n",
              "      <td>9.5</td>\n",
              "      <td>70.0</td>\n",
              "      <td>usa</td>\n",
              "      <td>chevrolet</td>\n",
              "      <td>Sedan</td>\n",
              "    </tr>\n",
              "    <tr>\n",
              "      <th>3</th>\n",
              "      <td>24.0</td>\n",
              "      <td>4.0</td>\n",
              "      <td>113.0</td>\n",
              "      <td>95.0</td>\n",
              "      <td>2372.0</td>\n",
              "      <td>15.0</td>\n",
              "      <td>70.0</td>\n",
              "      <td>japan</td>\n",
              "      <td>toyota</td>\n",
              "      <td>Coupe</td>\n",
              "    </tr>\n",
              "    <tr>\n",
              "      <th>4</th>\n",
              "      <td>26.0</td>\n",
              "      <td>4.0</td>\n",
              "      <td>12.0</td>\n",
              "      <td>46.0</td>\n",
              "      <td>1835.0</td>\n",
              "      <td>20.5</td>\n",
              "      <td>70.0</td>\n",
              "      <td>europe</td>\n",
              "      <td>volkswagen</td>\n",
              "      <td>Coupe</td>\n",
              "    </tr>\n",
              "  </tbody>\n",
              "</table>\n",
              "</div>"
            ],
            "text/plain": [
              "    mpg  cylinders  displacement  ...  origin        name   Type\n",
              "0  18.0        8.0         307.0  ...     usa   chevrolet  Sedan\n",
              "1  14.0        8.0         454.0  ...     usa   chevrolet  Sedan\n",
              "2  15.0        8.0         400.0  ...     usa   chevrolet  Sedan\n",
              "3  24.0        4.0         113.0  ...   japan      toyota  Coupe\n",
              "4  26.0        4.0          12.0  ...  europe  volkswagen  Coupe\n",
              "\n",
              "[5 rows x 10 columns]"
            ]
          },
          "metadata": {
            "tags": []
          },
          "execution_count": 5
        }
      ]
    },
    {
      "cell_type": "markdown",
      "metadata": {
        "id": "PUFYW5lVLB1n"
      },
      "source": [
        "#### This is the dataset with no nans, right?\n",
        "\n",
        "#### Let's just double check that quickly. "
      ]
    },
    {
      "cell_type": "code",
      "metadata": {
        "id": "31RGEoyILF8R",
        "colab": {
          "base_uri": "https://localhost:8080/"
        },
        "outputId": "e8f11e01-2c2e-4d0a-921f-fb14396be5a8"
      },
      "source": [
        "data.info() # or describe"
      ],
      "execution_count": null,
      "outputs": [
        {
          "output_type": "stream",
          "text": [
            "<class 'pandas.core.frame.DataFrame'>\n",
            "Int64Index: 371 entries, 0 to 370\n",
            "Data columns (total 10 columns):\n",
            " #   Column        Non-Null Count  Dtype  \n",
            "---  ------        --------------  -----  \n",
            " 0   mpg           371 non-null    float64\n",
            " 1   cylinders     371 non-null    float64\n",
            " 2   displacement  371 non-null    float64\n",
            " 3   horsepower    371 non-null    float64\n",
            " 4   weight        371 non-null    float64\n",
            " 5   acceleration  371 non-null    float64\n",
            " 6   model_year    371 non-null    float64\n",
            " 7   origin        371 non-null    object \n",
            " 8   name          371 non-null    object \n",
            " 9   Type          371 non-null    object \n",
            "dtypes: float64(7), object(3)\n",
            "memory usage: 31.9+ KB\n"
          ],
          "name": "stdout"
        }
      ]
    },
    {
      "cell_type": "markdown",
      "metadata": {
        "id": "A5dy4X9hvhsH"
      },
      "source": [
        "#### Now, let's look at our string variables and convert them into boolean values\n",
        "\n"
      ]
    },
    {
      "cell_type": "code",
      "metadata": {
        "id": "66yprEsevqXf",
        "colab": {
          "base_uri": "https://localhost:8080/",
          "height": 224
        },
        "outputId": "3b0c23aa-b332-4025-9525-341a641c1167"
      },
      "source": [
        "data.head()"
      ],
      "execution_count": null,
      "outputs": [
        {
          "output_type": "execute_result",
          "data": {
            "text/html": [
              "<div>\n",
              "<style scoped>\n",
              "    .dataframe tbody tr th:only-of-type {\n",
              "        vertical-align: middle;\n",
              "    }\n",
              "\n",
              "    .dataframe tbody tr th {\n",
              "        vertical-align: top;\n",
              "    }\n",
              "\n",
              "    .dataframe thead th {\n",
              "        text-align: right;\n",
              "    }\n",
              "</style>\n",
              "<table border=\"1\" class=\"dataframe\">\n",
              "  <thead>\n",
              "    <tr style=\"text-align: right;\">\n",
              "      <th></th>\n",
              "      <th>mpg</th>\n",
              "      <th>cylinders</th>\n",
              "      <th>displacement</th>\n",
              "      <th>horsepower</th>\n",
              "      <th>weight</th>\n",
              "      <th>acceleration</th>\n",
              "      <th>model_year</th>\n",
              "      <th>origin</th>\n",
              "      <th>name</th>\n",
              "      <th>Type</th>\n",
              "    </tr>\n",
              "  </thead>\n",
              "  <tbody>\n",
              "    <tr>\n",
              "      <th>0</th>\n",
              "      <td>18.0</td>\n",
              "      <td>8.0</td>\n",
              "      <td>307.0</td>\n",
              "      <td>130.0</td>\n",
              "      <td>3504.0</td>\n",
              "      <td>12.0</td>\n",
              "      <td>70.0</td>\n",
              "      <td>usa</td>\n",
              "      <td>chevrolet</td>\n",
              "      <td>Sedan</td>\n",
              "    </tr>\n",
              "    <tr>\n",
              "      <th>1</th>\n",
              "      <td>14.0</td>\n",
              "      <td>8.0</td>\n",
              "      <td>454.0</td>\n",
              "      <td>220.0</td>\n",
              "      <td>4354.0</td>\n",
              "      <td>9.0</td>\n",
              "      <td>70.0</td>\n",
              "      <td>usa</td>\n",
              "      <td>chevrolet</td>\n",
              "      <td>Sedan</td>\n",
              "    </tr>\n",
              "    <tr>\n",
              "      <th>2</th>\n",
              "      <td>15.0</td>\n",
              "      <td>8.0</td>\n",
              "      <td>400.0</td>\n",
              "      <td>150.0</td>\n",
              "      <td>3761.0</td>\n",
              "      <td>9.5</td>\n",
              "      <td>70.0</td>\n",
              "      <td>usa</td>\n",
              "      <td>chevrolet</td>\n",
              "      <td>Sedan</td>\n",
              "    </tr>\n",
              "    <tr>\n",
              "      <th>3</th>\n",
              "      <td>24.0</td>\n",
              "      <td>4.0</td>\n",
              "      <td>113.0</td>\n",
              "      <td>95.0</td>\n",
              "      <td>2372.0</td>\n",
              "      <td>15.0</td>\n",
              "      <td>70.0</td>\n",
              "      <td>japan</td>\n",
              "      <td>toyota</td>\n",
              "      <td>Coupe</td>\n",
              "    </tr>\n",
              "    <tr>\n",
              "      <th>4</th>\n",
              "      <td>26.0</td>\n",
              "      <td>4.0</td>\n",
              "      <td>12.0</td>\n",
              "      <td>46.0</td>\n",
              "      <td>1835.0</td>\n",
              "      <td>20.5</td>\n",
              "      <td>70.0</td>\n",
              "      <td>europe</td>\n",
              "      <td>volkswagen</td>\n",
              "      <td>Coupe</td>\n",
              "    </tr>\n",
              "  </tbody>\n",
              "</table>\n",
              "</div>"
            ],
            "text/plain": [
              "    mpg  cylinders  displacement  ...  origin        name   Type\n",
              "0  18.0        8.0         307.0  ...     usa   chevrolet  Sedan\n",
              "1  14.0        8.0         454.0  ...     usa   chevrolet  Sedan\n",
              "2  15.0        8.0         400.0  ...     usa   chevrolet  Sedan\n",
              "3  24.0        4.0         113.0  ...   japan      toyota  Coupe\n",
              "4  26.0        4.0          12.0  ...  europe  volkswagen  Coupe\n",
              "\n",
              "[5 rows x 10 columns]"
            ]
          },
          "metadata": {
            "tags": []
          },
          "execution_count": 7
        }
      ]
    },
    {
      "cell_type": "markdown",
      "metadata": {
        "id": "0ruhcQ47wG95"
      },
      "source": [
        "#### let's look at type first\n",
        "\n",
        "#### I like to use a countplot here just to visualize the different categories"
      ]
    },
    {
      "cell_type": "code",
      "metadata": {
        "id": "qKGjiKY1v7gy",
        "colab": {
          "base_uri": "https://localhost:8080/",
          "height": 350
        },
        "outputId": "757a7794-ef08-45cf-9f80-070163d07e30"
      },
      "source": [
        "sns.countplot(data['Type'])"
      ],
      "execution_count": null,
      "outputs": [
        {
          "output_type": "stream",
          "text": [
            "/usr/local/lib/python3.7/dist-packages/seaborn/_decorators.py:43: FutureWarning: Pass the following variable as a keyword arg: x. From version 0.12, the only valid positional argument will be `data`, and passing other arguments without an explicit keyword will result in an error or misinterpretation.\n",
            "  FutureWarning\n"
          ],
          "name": "stderr"
        },
        {
          "output_type": "execute_result",
          "data": {
            "text/plain": [
              "<matplotlib.axes._subplots.AxesSubplot at 0x7f567cdfad50>"
            ]
          },
          "metadata": {
            "tags": []
          },
          "execution_count": 8
        },
        {
          "output_type": "display_data",
          "data": {
            "image/png": "[encoded data removed]",
            "text/plain": [
              "<Figure size 432x288 with 1 Axes>"
            ]
          },
          "metadata": {
            "tags": [],
            "needs_background": "light"
          }
        }
      ]
    },
    {
      "cell_type": "markdown",
      "metadata": {
        "id": "kZNEc4Q1wCd-"
      },
      "source": [
        "#### Seems fine. We can easily convert these two 1s and 0s like so"
      ]
    },
    {
      "cell_type": "code",
      "metadata": {
        "id": "2OI5yuwtwAvl"
      },
      "source": [
        "sedan_1 = np.where(data['Type']=='Sedan',1,0) # where is really helpful here! its like an if statement in excel"
      ],
      "execution_count": null,
      "outputs": []
    },
    {
      "cell_type": "code",
      "metadata": {
        "id": "azYFCFrZwVBY"
      },
      "source": [
        "sedan_1_df = pd.DataFrame(sedan_1,columns=['Sedans_1'])"
      ],
      "execution_count": null,
      "outputs": []
    },
    {
      "cell_type": "markdown",
      "metadata": {
        "id": "8bkDDNgWYH1K"
      },
      "source": [
        "#### That seems to work out okay!"
      ]
    },
    {
      "cell_type": "code",
      "metadata": {
        "id": "b_0Ieg9Az8lo",
        "colab": {
          "base_uri": "https://localhost:8080/"
        },
        "outputId": "535cad92-6ae0-47ae-ecfc-88972b711a0f"
      },
      "source": [
        "print(sedan_1_df)"
      ],
      "execution_count": null,
      "outputs": [
        {
          "output_type": "stream",
          "text": [
            "     Sedans_1\n",
            "0           1\n",
            "1           1\n",
            "2           1\n",
            "3           0\n",
            "4           0\n",
            "..        ...\n",
            "366         1\n",
            "367         0\n",
            "368         0\n",
            "369         1\n",
            "370         1\n",
            "\n",
            "[371 rows x 1 columns]\n"
          ],
          "name": "stdout"
        }
      ]
    },
    {
      "cell_type": "markdown",
      "metadata": {
        "id": "V_8Z0xLCwhNI"
      },
      "source": [
        "#### Before we concat with our data, let's check out our other categorical variables\n",
        "\n",
        "#### Let's do origin next\n",
        "\n"
      ]
    },
    {
      "cell_type": "code",
      "metadata": {
        "id": "_OPmRBvWzfpA",
        "colab": {
          "base_uri": "https://localhost:8080/",
          "height": 350
        },
        "outputId": "d19d84ff-ef10-4805-e310-4e183c4a116f"
      },
      "source": [
        "sns.countplot(data['origin'])"
      ],
      "execution_count": null,
      "outputs": [
        {
          "output_type": "stream",
          "text": [
            "/usr/local/lib/python3.7/dist-packages/seaborn/_decorators.py:43: FutureWarning: Pass the following variable as a keyword arg: x. From version 0.12, the only valid positional argument will be `data`, and passing other arguments without an explicit keyword will result in an error or misinterpretation.\n",
            "  FutureWarning\n"
          ],
          "name": "stderr"
        },
        {
          "output_type": "execute_result",
          "data": {
            "text/plain": [
              "<matplotlib.axes._subplots.AxesSubplot at 0x7f567c836590>"
            ]
          },
          "metadata": {
            "tags": []
          },
          "execution_count": 12
        },
        {
          "output_type": "display_data",
          "data": {
            "image/png": "[encoded data removed]",
            "text/plain": [
              "<Figure size 432x288 with 1 Axes>"
            ]
          },
          "metadata": {
            "tags": [],
            "needs_background": "light"
          }
        }
      ]
    },
    {
      "cell_type": "markdown",
      "metadata": {
        "id": "T0DEJjuw0BL9"
      },
      "source": [
        "#### This is a problem. If we want to convert this to 1s and 0s, how do we do that with 3 categories!?!?!\n",
        "\n",
        "We also don't want this to be 0, 1, and 2 because then, there is a \"rank\" to the data. This isn't ordinal or interval data, it is categorial. So, how do we handle this?\n",
        "\n",
        "#### We use dummy coding!"
      ]
    },
    {
      "cell_type": "code",
      "metadata": {
        "id": "lp5joEJaz_1T",
        "colab": {
          "base_uri": "https://localhost:8080/",
          "height": 419
        },
        "outputId": "278c1066-60d2-4a49-cd27-31756004b194"
      },
      "source": [
        "pd.get_dummies(data['origin'])"
      ],
      "execution_count": null,
      "outputs": [
        {
          "output_type": "execute_result",
          "data": {
            "text/html": [
              "<div>\n",
              "<style scoped>\n",
              "    .dataframe tbody tr th:only-of-type {\n",
              "        vertical-align: middle;\n",
              "    }\n",
              "\n",
              "    .dataframe tbody tr th {\n",
              "        vertical-align: top;\n",
              "    }\n",
              "\n",
              "    .dataframe thead th {\n",
              "        text-align: right;\n",
              "    }\n",
              "</style>\n",
              "<table border=\"1\" class=\"dataframe\">\n",
              "  <thead>\n",
              "    <tr style=\"text-align: right;\">\n",
              "      <th></th>\n",
              "      <th>europe</th>\n",
              "      <th>japan</th>\n",
              "      <th>usa</th>\n",
              "    </tr>\n",
              "  </thead>\n",
              "  <tbody>\n",
              "    <tr>\n",
              "      <th>0</th>\n",
              "      <td>0</td>\n",
              "      <td>0</td>\n",
              "      <td>1</td>\n",
              "    </tr>\n",
              "    <tr>\n",
              "      <th>1</th>\n",
              "      <td>0</td>\n",
              "      <td>0</td>\n",
              "      <td>1</td>\n",
              "    </tr>\n",
              "    <tr>\n",
              "      <th>2</th>\n",
              "      <td>0</td>\n",
              "      <td>0</td>\n",
              "      <td>1</td>\n",
              "    </tr>\n",
              "    <tr>\n",
              "      <th>3</th>\n",
              "      <td>0</td>\n",
              "      <td>1</td>\n",
              "      <td>0</td>\n",
              "    </tr>\n",
              "    <tr>\n",
              "      <th>4</th>\n",
              "      <td>1</td>\n",
              "      <td>0</td>\n",
              "      <td>0</td>\n",
              "    </tr>\n",
              "    <tr>\n",
              "      <th>...</th>\n",
              "      <td>...</td>\n",
              "      <td>...</td>\n",
              "      <td>...</td>\n",
              "    </tr>\n",
              "    <tr>\n",
              "      <th>366</th>\n",
              "      <td>0</td>\n",
              "      <td>0</td>\n",
              "      <td>1</td>\n",
              "    </tr>\n",
              "    <tr>\n",
              "      <th>367</th>\n",
              "      <td>1</td>\n",
              "      <td>0</td>\n",
              "      <td>0</td>\n",
              "    </tr>\n",
              "    <tr>\n",
              "      <th>368</th>\n",
              "      <td>0</td>\n",
              "      <td>0</td>\n",
              "      <td>1</td>\n",
              "    </tr>\n",
              "    <tr>\n",
              "      <th>369</th>\n",
              "      <td>0</td>\n",
              "      <td>0</td>\n",
              "      <td>1</td>\n",
              "    </tr>\n",
              "    <tr>\n",
              "      <th>370</th>\n",
              "      <td>0</td>\n",
              "      <td>0</td>\n",
              "      <td>1</td>\n",
              "    </tr>\n",
              "  </tbody>\n",
              "</table>\n",
              "<p>371 rows × 3 columns</p>\n",
              "</div>"
            ],
            "text/plain": [
              "     europe  japan  usa\n",
              "0         0      0    1\n",
              "1         0      0    1\n",
              "2         0      0    1\n",
              "3         0      1    0\n",
              "4         1      0    0\n",
              "..      ...    ...  ...\n",
              "366       0      0    1\n",
              "367       1      0    0\n",
              "368       0      0    1\n",
              "369       0      0    1\n",
              "370       0      0    1\n",
              "\n",
              "[371 rows x 3 columns]"
            ]
          },
          "metadata": {
            "tags": []
          },
          "execution_count": 13
        }
      ]
    },
    {
      "cell_type": "markdown",
      "metadata": {
        "id": "-H6HqZ6QNLgt"
      },
      "source": [
        "#### What dummy coding has done is that now we have converted our origin column into numerical (boolean) values across multiple columns\n",
        "\n",
        "#### but this is a little bit inefficient because we you don't need all of those columns\n",
        "\n",
        "#### in this case, if europe = 0 and japan = 0, then USA must be 1\n",
        "\n",
        "#### Instead of creating this dataframe and then dropping that column, we could drop_first = True"
      ]
    },
    {
      "cell_type": "code",
      "metadata": {
        "id": "FW5b3YqTOFh0",
        "colab": {
          "base_uri": "https://localhost:8080/"
        },
        "outputId": "87c53568-9896-4be1-98d5-7350e5eada47"
      },
      "source": [
        "origin_df = pd.get_dummies(data['origin'],drop_first=True)\n",
        "print(origin_df)"
      ],
      "execution_count": null,
      "outputs": [
        {
          "output_type": "stream",
          "text": [
            "     japan  usa\n",
            "0        0    1\n",
            "1        0    1\n",
            "2        0    1\n",
            "3        1    0\n",
            "4        0    0\n",
            "..     ...  ...\n",
            "366      0    1\n",
            "367      0    0\n",
            "368      0    1\n",
            "369      0    1\n",
            "370      0    1\n",
            "\n",
            "[371 rows x 2 columns]\n"
          ],
          "name": "stdout"
        }
      ]
    },
    {
      "cell_type": "markdown",
      "metadata": {
        "id": "o_oKszw30Ic9"
      },
      "source": [
        "#### Now that we have done that for origin, let's move on to the names\n",
        "\n",
        "#### We will need to dummy code these data as well, but let's look at it first"
      ]
    },
    {
      "cell_type": "code",
      "metadata": {
        "id": "NchHlUjqwfCW",
        "colab": {
          "base_uri": "https://localhost:8080/",
          "height": 350
        },
        "outputId": "97582e4d-5111-41c3-fc5b-bc84b4d82802"
      },
      "source": [
        "sns.countplot(data['name'])"
      ],
      "execution_count": null,
      "outputs": [
        {
          "output_type": "stream",
          "text": [
            "/usr/local/lib/python3.7/dist-packages/seaborn/_decorators.py:43: FutureWarning: Pass the following variable as a keyword arg: x. From version 0.12, the only valid positional argument will be `data`, and passing other arguments without an explicit keyword will result in an error or misinterpretation.\n",
            "  FutureWarning\n"
          ],
          "name": "stderr"
        },
        {
          "output_type": "execute_result",
          "data": {
            "text/plain": [
              "<matplotlib.axes._subplots.AxesSubplot at 0x7f567c82b490>"
            ]
          },
          "metadata": {
            "tags": []
          },
          "execution_count": 15
        },
        {
          "output_type": "display_data",
          "data": {
            "image/png": "[encoded data removed]",
            "text/plain": [
              "<Figure size 432x288 with 1 Axes>"
            ]
          },
          "metadata": {
            "tags": [],
            "needs_background": "light"
          }
        }
      ]
    },
    {
      "cell_type": "markdown",
      "metadata": {
        "id": "JNfErxqFYmyS"
      },
      "source": [
        "#### Kind of hard to see. Let's increase the figure size"
      ]
    },
    {
      "cell_type": "code",
      "metadata": {
        "id": "rFZ2hYV3wpzN",
        "colab": {
          "base_uri": "https://localhost:8080/",
          "height": 350
        },
        "outputId": "a7e1b5bb-b937-4c3e-9268-c2c55c1f66df"
      },
      "source": [
        "plt.figure(figsize=[12,4])\n",
        "sns.countplot(data['name'])"
      ],
      "execution_count": null,
      "outputs": [
        {
          "output_type": "stream",
          "text": [
            "/usr/local/lib/python3.7/dist-packages/seaborn/_decorators.py:43: FutureWarning: Pass the following variable as a keyword arg: x. From version 0.12, the only valid positional argument will be `data`, and passing other arguments without an explicit keyword will result in an error or misinterpretation.\n",
            "  FutureWarning\n"
          ],
          "name": "stderr"
        },
        {
          "output_type": "execute_result",
          "data": {
            "text/plain": [
              "<matplotlib.axes._subplots.AxesSubplot at 0x7f567c74bad0>"
            ]
          },
          "metadata": {
            "tags": []
          },
          "execution_count": 16
        },
        {
          "output_type": "display_data",
          "data": {
            "image/png": "[encoded data removed]",
            "text/plain": [
              "<Figure size 864x288 with 1 Axes>"
            ]
          },
          "metadata": {
            "tags": [],
            "needs_background": "light"
          }
        }
      ]
    },
    {
      "cell_type": "markdown",
      "metadata": {
        "id": "UdiJ7GXNt8Pg"
      },
      "source": [
        "#### Looks like some names have been inputted incorrectly!\n",
        "\n",
        "#### Let's fix this with a for loop"
      ]
    },
    {
      "cell_type": "code",
      "metadata": {
        "id": "ch1Vo9s5w6Jo"
      },
      "source": [
        "name_list = []\n",
        "for name in data['name']:\n",
        "  if name=='chevroelt':\n",
        "    name_list.append('chevrolet')\n",
        "  elif name=='toyouta':\n",
        "    name_list.append('toyota')\n",
        "  elif name=='vokswagen':\n",
        "    name_list.append('volkswagen')\n",
        "  else:\n",
        "    name_list.append(name)"
      ],
      "execution_count": null,
      "outputs": []
    },
    {
      "cell_type": "markdown",
      "metadata": {
        "id": "ujgeD4U4Urgw"
      },
      "source": [
        "Here is a different method using np.where which would be quicker than the for loops, especially when you have lots of data"
      ]
    },
    {
      "cell_type": "code",
      "metadata": {
        "id": "ivmKwvktUQMK"
      },
      "source": [
        "#data['name'] = np.where(data['name']=='chevroelt','chevrolet',data['name'])\n",
        "#data['name'] = np.where(data['name']=='toyouta','toyota',data['name'])\n",
        "#data['name'] = np.where(data['name']=='vokswagen','volkswagen',data['name'])"
      ],
      "execution_count": null,
      "outputs": []
    },
    {
      "cell_type": "markdown",
      "metadata": {
        "id": "cTzsPr7DZDED"
      },
      "source": [
        "#### Let's try this again"
      ]
    },
    {
      "cell_type": "code",
      "metadata": {
        "id": "fojEVxvBxB6x",
        "colab": {
          "base_uri": "https://localhost:8080/",
          "height": 339
        },
        "outputId": "286adddc-79f2-4e7d-99df-d3406c563aee"
      },
      "source": [
        "plt.figure(figsize=[12,4])\n",
        "sns.countplot(name_list)"
      ],
      "execution_count": null,
      "outputs": [
        {
          "output_type": "stream",
          "text": [
            "/usr/local/lib/python3.7/dist-packages/seaborn/_decorators.py:43: FutureWarning: Pass the following variable as a keyword arg: x. From version 0.12, the only valid positional argument will be `data`, and passing other arguments without an explicit keyword will result in an error or misinterpretation.\n",
            "  FutureWarning\n"
          ],
          "name": "stderr"
        },
        {
          "output_type": "execute_result",
          "data": {
            "text/plain": [
              "<matplotlib.axes._subplots.AxesSubplot at 0x7f5678305990>"
            ]
          },
          "metadata": {
            "tags": []
          },
          "execution_count": 23
        },
        {
          "output_type": "display_data",
          "data": {
            "image/png": "[encoded data removed]",
            "text/plain": [
              "<Figure size 864x288 with 1 Axes>"
            ]
          },
          "metadata": {
            "tags": [],
            "needs_background": "light"
          }
        }
      ]
    },
    {
      "cell_type": "markdown",
      "metadata": {
        "id": "VDCvDfF5zIu5"
      },
      "source": [
        "#### Much better!\n",
        "\n",
        "#### Now, let's dummy code these"
      ]
    },
    {
      "cell_type": "markdown",
      "metadata": {
        "id": "SN5Xmkp5OuSS"
      },
      "source": [
        "#### Can someone tell me how to dummy code this?"
      ]
    },
    {
      "cell_type": "code",
      "metadata": {
        "id": "_7tVLkDMzIWK",
        "colab": {
          "base_uri": "https://localhost:8080/"
        },
        "outputId": "cbd1a113-7aad-4914-9105-440b2a7202a4"
      },
      "source": [
        "name_df = pd.get_dummies(name_list,drop_first=True)\n",
        "print(name_df)"
      ],
      "execution_count": null,
      "outputs": [
        {
          "output_type": "stream",
          "text": [
            "     chevrolet  nissan  peugeot  saab  toyota  volkswagen  volvo\n",
            "0            1       0        0     0       0           0      0\n",
            "1            1       0        0     0       0           0      0\n",
            "2            1       0        0     0       0           0      0\n",
            "3            0       0        0     0       1           0      0\n",
            "4            0       0        0     0       0           1      0\n",
            "..         ...     ...      ...   ...     ...         ...    ...\n",
            "366          1       0        0     0       0           0      0\n",
            "367          0       0        0     0       0           1      0\n",
            "368          0       0        0     0       0           1      0\n",
            "369          1       0        0     0       0           0      0\n",
            "370          1       0        0     0       0           0      0\n",
            "\n",
            "[371 rows x 7 columns]\n"
          ],
          "name": "stdout"
        }
      ]
    },
    {
      "cell_type": "markdown",
      "metadata": {
        "id": "YLxzrOaXOxcP"
      },
      "source": [
        "#### Now, we are going to turn one of our continuous columns into binned data\n",
        "\n",
        "#### Sometimes, this is called bucketing\n",
        "\n",
        "#### This is especially useful if you have more possible data points than actual data. Alternatively, this basically smooths the data a bit, which means you have less precise data but it may help with analyses\n",
        "\n",
        "#### Let's do horsepower"
      ]
    },
    {
      "cell_type": "code",
      "metadata": {
        "id": "d1nddobG8ZZB",
        "colab": {
          "base_uri": "https://localhost:8080/",
          "height": 350
        },
        "outputId": "841b5096-f355-47a8-c642-aeb96ff030b2"
      },
      "source": [
        "sns.distplot(data['horsepower'])"
      ],
      "execution_count": null,
      "outputs": [
        {
          "output_type": "stream",
          "text": [
            "/usr/local/lib/python3.7/dist-packages/seaborn/distributions.py:2557: FutureWarning: `distplot` is a deprecated function and will be removed in a future version. Please adapt your code to use either `displot` (a figure-level function with similar flexibility) or `histplot` (an axes-level function for histograms).\n",
            "  warnings.warn(msg, FutureWarning)\n"
          ],
          "name": "stderr"
        },
        {
          "output_type": "execute_result",
          "data": {
            "text/plain": [
              "<matplotlib.axes._subplots.AxesSubplot at 0x7f5678292410>"
            ]
          },
          "metadata": {
            "tags": []
          },
          "execution_count": 26
        },
        {
          "output_type": "display_data",
          "data": {
            "image/png": "[encoded data removed]",
            "text/plain": [
              "<Figure size 432x288 with 1 Axes>"
            ]
          },
          "metadata": {
            "tags": [],
            "needs_background": "light"
          }
        }
      ]
    },
    {
      "cell_type": "markdown",
      "metadata": {
        "id": "qU9jouK8Plek"
      },
      "source": [
        "#### We want to bin this into low, medium, and high horsepower\n",
        "\n",
        "#### We could bin the data in a couple different ways: \n",
        "1. bins are equally separate\n",
        "2. bins have equal amounts of data inside of them"
      ]
    },
    {
      "cell_type": "code",
      "metadata": {
        "id": "38sefjBgPTUm",
        "colab": {
          "base_uri": "https://localhost:8080/"
        },
        "outputId": "067324c7-e867-4804-a7e7-2e53b337b2e5"
      },
      "source": [
        "equal_bin_size = pd.cut(data['horsepower'],3) # split data into 3 bins of equal separation\n",
        "print(equal_bin_size)"
      ],
      "execution_count": null,
      "outputs": [
        {
          "output_type": "stream",
          "text": [
            "0       (114.0, 182.0]\n",
            "1       (182.0, 250.0]\n",
            "2       (114.0, 182.0]\n",
            "3      (45.796, 114.0]\n",
            "4      (45.796, 114.0]\n",
            "            ...       \n",
            "366    (45.796, 114.0]\n",
            "367    (45.796, 114.0]\n",
            "368    (45.796, 114.0]\n",
            "369    (45.796, 114.0]\n",
            "370    (45.796, 114.0]\n",
            "Name: horsepower, Length: 371, dtype: category\n",
            "Categories (3, interval[float64]): [(45.796, 114.0] < (114.0, 182.0] < (182.0, 250.0]]\n"
          ],
          "name": "stdout"
        }
      ]
    },
    {
      "cell_type": "code",
      "metadata": {
        "id": "3KJqX9iNSF9B",
        "colab": {
          "base_uri": "https://localhost:8080/"
        },
        "outputId": "9c6fa12e-a304-4467-cd22-72257c07936f"
      },
      "source": [
        "equal_bin_size.unique()"
      ],
      "execution_count": null,
      "outputs": [
        {
          "output_type": "execute_result",
          "data": {
            "text/plain": [
              "[(114.0, 182.0], (182.0, 250.0], (45.796, 114.0]]\n",
              "Categories (3, interval[float64]): [(45.796, 114.0] < (114.0, 182.0] < (182.0, 250.0]]"
            ]
          },
          "metadata": {
            "tags": []
          },
          "execution_count": 28
        }
      ]
    },
    {
      "cell_type": "markdown",
      "metadata": {
        "id": "X9HrLj7rRh_q"
      },
      "source": [
        "#### but one big limitation of this is that look = there are very few data points in the largest bin"
      ]
    },
    {
      "cell_type": "code",
      "metadata": {
        "id": "Nf0LvDpnRgGu",
        "colab": {
          "base_uri": "https://localhost:8080/"
        },
        "outputId": "fef5ae32-7be4-43ba-a4d3-b35a0e3c5e41"
      },
      "source": [
        "equal_bin_size.value_counts()"
      ],
      "execution_count": null,
      "outputs": [
        {
          "output_type": "execute_result",
          "data": {
            "text/plain": [
              "(45.796, 114.0]    297\n",
              "(114.0, 182.0]      71\n",
              "(182.0, 250.0]       3\n",
              "Name: horsepower, dtype: int64"
            ]
          },
          "metadata": {
            "tags": []
          },
          "execution_count": 29
        }
      ]
    },
    {
      "cell_type": "markdown",
      "metadata": {
        "id": "nGOeo_WdRnfQ"
      },
      "source": [
        "#### Let's try creating the bins such that they contain roughly the same number of data\n",
        "\n",
        "#### For that, we will use qcut instead"
      ]
    },
    {
      "cell_type": "code",
      "metadata": {
        "id": "sUrCVlB_aLUe",
        "colab": {
          "base_uri": "https://localhost:8080/"
        },
        "outputId": "52f8faa1-b015-4ba1-8586-83691681ee59"
      },
      "source": [
        "equal_bin_counts = pd.qcut(data['horsepower'],3) # split data into 3 bins of equal separation\n",
        "print(equal_bin_counts)"
      ],
      "execution_count": null,
      "outputs": [
        {
          "output_type": "stream",
          "text": [
            "0      (100.0, 250.0]\n",
            "1      (100.0, 250.0]\n",
            "2      (100.0, 250.0]\n",
            "3       (78.0, 100.0]\n",
            "4      (45.999, 78.0]\n",
            "            ...      \n",
            "366     (78.0, 100.0]\n",
            "367    (45.999, 78.0]\n",
            "368     (78.0, 100.0]\n",
            "369     (78.0, 100.0]\n",
            "370     (78.0, 100.0]\n",
            "Name: horsepower, Length: 371, dtype: category\n",
            "Categories (3, interval[float64]): [(45.999, 78.0] < (78.0, 100.0] < (100.0, 250.0]]\n"
          ],
          "name": "stdout"
        }
      ]
    },
    {
      "cell_type": "code",
      "metadata": {
        "id": "QrfwwIbaaTnD",
        "colab": {
          "base_uri": "https://localhost:8080/"
        },
        "outputId": "b71c404e-6987-4608-ad83-042142515cfc"
      },
      "source": [
        "equal_bin_counts.value_counts()"
      ],
      "execution_count": null,
      "outputs": [
        {
          "output_type": "execute_result",
          "data": {
            "text/plain": [
              "(78.0, 100.0]     128\n",
              "(45.999, 78.0]    127\n",
              "(100.0, 250.0]    116\n",
              "Name: horsepower, dtype: int64"
            ]
          },
          "metadata": {
            "tags": []
          },
          "execution_count": 31
        }
      ]
    },
    {
      "cell_type": "markdown",
      "metadata": {
        "id": "0W8TVKLGabOF"
      },
      "source": [
        "#### If you want to define your own bins, that is certainly an option\n",
        "\n",
        "#### Maybe I want horsepower between 0 and 100, 100 to 150, and then anything above 150"
      ]
    },
    {
      "cell_type": "code",
      "metadata": {
        "id": "LSnGbNeEP_My",
        "colab": {
          "base_uri": "https://localhost:8080/"
        },
        "outputId": "fba31a2f-0c3b-41a8-dd47-8f981afa18b6"
      },
      "source": [
        "garrett_bins = pd.cut(data['horsepower'],[0,100,150,data['horsepower'].max()])\n",
        "print(garrett_bins)"
      ],
      "execution_count": null,
      "outputs": [
        {
          "output_type": "stream",
          "text": [
            "0      (100.0, 150.0]\n",
            "1      (150.0, 250.0]\n",
            "2      (100.0, 150.0]\n",
            "3        (0.0, 100.0]\n",
            "4        (0.0, 100.0]\n",
            "            ...      \n",
            "366      (0.0, 100.0]\n",
            "367      (0.0, 100.0]\n",
            "368      (0.0, 100.0]\n",
            "369      (0.0, 100.0]\n",
            "370      (0.0, 100.0]\n",
            "Name: horsepower, Length: 371, dtype: category\n",
            "Categories (3, interval[float64]): [(0.0, 100.0] < (100.0, 150.0] < (150.0, 250.0]]\n"
          ],
          "name": "stdout"
        }
      ]
    },
    {
      "cell_type": "markdown",
      "metadata": {
        "id": "nl8VuPBPTPcZ"
      },
      "source": [
        "#### I think I'm more of a fan of equally populated bins\n",
        "\n",
        "#### Now, we could do the same dummy coding as before. Here, we will pass in our cut values!"
      ]
    },
    {
      "cell_type": "code",
      "metadata": {
        "id": "_ft-sW8JTOyf",
        "colab": {
          "base_uri": "https://localhost:8080/"
        },
        "outputId": "d557e3db-ac78-4924-99cd-d2bed4e21c7a"
      },
      "source": [
        "horsepower_df = pd.get_dummies(equal_bin_counts,drop_first=True)\n",
        "print(horsepower_df)"
      ],
      "execution_count": null,
      "outputs": [
        {
          "output_type": "stream",
          "text": [
            "     (78.0, 100.0]  (100.0, 250.0]\n",
            "0                0               1\n",
            "1                0               1\n",
            "2                0               1\n",
            "3                1               0\n",
            "4                0               0\n",
            "..             ...             ...\n",
            "366              1               0\n",
            "367              0               0\n",
            "368              1               0\n",
            "369              1               0\n",
            "370              1               0\n",
            "\n",
            "[371 rows x 2 columns]\n"
          ],
          "name": "stdout"
        }
      ]
    },
    {
      "cell_type": "markdown",
      "metadata": {
        "id": "D7Mt8qiVbfRX"
      },
      "source": [
        "#### Just gonna rename these columns so that it makes sense later when I look at the data"
      ]
    },
    {
      "cell_type": "code",
      "metadata": {
        "id": "2ZvF6HS-W-Md"
      },
      "source": [
        "horsepower_df.columns = ['Medium_HP','High_HP']"
      ],
      "execution_count": null,
      "outputs": []
    },
    {
      "cell_type": "code",
      "metadata": {
        "id": "5Mymp9_cXD7y",
        "colab": {
          "base_uri": "https://localhost:8080/",
          "height": 204
        },
        "outputId": "d79cceee-3ead-4644-b435-b35c936b742d"
      },
      "source": [
        "horsepower_df.head()"
      ],
      "execution_count": null,
      "outputs": [
        {
          "output_type": "execute_result",
          "data": {
            "text/html": [
              "<div>\n",
              "<style scoped>\n",
              "    .dataframe tbody tr th:only-of-type {\n",
              "        vertical-align: middle;\n",
              "    }\n",
              "\n",
              "    .dataframe tbody tr th {\n",
              "        vertical-align: top;\n",
              "    }\n",
              "\n",
              "    .dataframe thead th {\n",
              "        text-align: right;\n",
              "    }\n",
              "</style>\n",
              "<table border=\"1\" class=\"dataframe\">\n",
              "  <thead>\n",
              "    <tr style=\"text-align: right;\">\n",
              "      <th></th>\n",
              "      <th>Medium_HP</th>\n",
              "      <th>High_HP</th>\n",
              "    </tr>\n",
              "  </thead>\n",
              "  <tbody>\n",
              "    <tr>\n",
              "      <th>0</th>\n",
              "      <td>0</td>\n",
              "      <td>1</td>\n",
              "    </tr>\n",
              "    <tr>\n",
              "      <th>1</th>\n",
              "      <td>0</td>\n",
              "      <td>1</td>\n",
              "    </tr>\n",
              "    <tr>\n",
              "      <th>2</th>\n",
              "      <td>0</td>\n",
              "      <td>1</td>\n",
              "    </tr>\n",
              "    <tr>\n",
              "      <th>3</th>\n",
              "      <td>1</td>\n",
              "      <td>0</td>\n",
              "    </tr>\n",
              "    <tr>\n",
              "      <th>4</th>\n",
              "      <td>0</td>\n",
              "      <td>0</td>\n",
              "    </tr>\n",
              "  </tbody>\n",
              "</table>\n",
              "</div>"
            ],
            "text/plain": [
              "   Medium_HP  High_HP\n",
              "0          0        1\n",
              "1          0        1\n",
              "2          0        1\n",
              "3          1        0\n",
              "4          0        0"
            ]
          },
          "metadata": {
            "tags": []
          },
          "execution_count": 35
        }
      ]
    },
    {
      "cell_type": "markdown",
      "metadata": {
        "id": "weoH2k9PTf5U"
      },
      "source": [
        "#### At this point, what have we turned horsepower from ratio to what kind of data?\n",
        "\n",
        "#### nominal! Categorical!\n",
        "\n",
        "#### But these seem to be ordinal data, right?\n",
        "\n",
        "#### Well, you could treat them as categorical. That is okay, but you lose information about the order. Alterantively, we could give each group a rank (1,2,3), but most models will just treat those ranks as interval data. So, there are tradeoffs.\n"
      ]
    },
    {
      "cell_type": "markdown",
      "metadata": {
        "id": "ZgATIyv5js8v"
      },
      "source": [
        "\n",
        "#### Outliers refer to data that are basically further away from the rest of the data\n",
        "\n",
        "#### just like missing data or duplicates, these could be real. For example, if you looked at wealth, I'm sure Bezos and some other billionaries would show up as outliers. They could be errors. For example, if you accidentally added another 0 to the zero\n",
        "\n"
      ]
    },
    {
      "cell_type": "code",
      "metadata": {
        "id": "RwWAjSv0kFN6",
        "colab": {
          "base_uri": "https://localhost:8080/",
          "height": 297
        },
        "outputId": "da7ca4e5-358d-4650-ed7e-1fa2a3a821d2"
      },
      "source": [
        "data.describe()"
      ],
      "execution_count": null,
      "outputs": [
        {
          "output_type": "execute_result",
          "data": {
            "text/html": [
              "<div>\n",
              "<style scoped>\n",
              "    .dataframe tbody tr th:only-of-type {\n",
              "        vertical-align: middle;\n",
              "    }\n",
              "\n",
              "    .dataframe tbody tr th {\n",
              "        vertical-align: top;\n",
              "    }\n",
              "\n",
              "    .dataframe thead th {\n",
              "        text-align: right;\n",
              "    }\n",
              "</style>\n",
              "<table border=\"1\" class=\"dataframe\">\n",
              "  <thead>\n",
              "    <tr style=\"text-align: right;\">\n",
              "      <th></th>\n",
              "      <th>mpg</th>\n",
              "      <th>cylinders</th>\n",
              "      <th>displacement</th>\n",
              "      <th>horsepower</th>\n",
              "      <th>weight</th>\n",
              "      <th>acceleration</th>\n",
              "      <th>model_year</th>\n",
              "    </tr>\n",
              "  </thead>\n",
              "  <tbody>\n",
              "    <tr>\n",
              "      <th>count</th>\n",
              "      <td>371.000000</td>\n",
              "      <td>371.000000</td>\n",
              "      <td>371.000000</td>\n",
              "      <td>371.000000</td>\n",
              "      <td>371.000000</td>\n",
              "      <td>371.000000</td>\n",
              "      <td>371.000000</td>\n",
              "    </tr>\n",
              "    <tr>\n",
              "      <th>mean</th>\n",
              "      <td>25.370350</td>\n",
              "      <td>5.086253</td>\n",
              "      <td>165.460916</td>\n",
              "      <td>94.814016</td>\n",
              "      <td>2871.509434</td>\n",
              "      <td>16.127493</td>\n",
              "      <td>77.350404</td>\n",
              "    </tr>\n",
              "    <tr>\n",
              "      <th>std</th>\n",
              "      <td>7.410867</td>\n",
              "      <td>1.520348</td>\n",
              "      <td>95.951313</td>\n",
              "      <td>29.642745</td>\n",
              "      <td>1253.447950</td>\n",
              "      <td>2.610001</td>\n",
              "      <td>3.100326</td>\n",
              "    </tr>\n",
              "    <tr>\n",
              "      <th>min</th>\n",
              "      <td>11.000000</td>\n",
              "      <td>3.000000</td>\n",
              "      <td>-600.000000</td>\n",
              "      <td>46.000000</td>\n",
              "      <td>1649.000000</td>\n",
              "      <td>9.000000</td>\n",
              "      <td>70.000000</td>\n",
              "    </tr>\n",
              "    <tr>\n",
              "      <th>25%</th>\n",
              "      <td>19.200000</td>\n",
              "      <td>4.000000</td>\n",
              "      <td>98.000000</td>\n",
              "      <td>72.000000</td>\n",
              "      <td>2189.000000</td>\n",
              "      <td>14.500000</td>\n",
              "      <td>75.000000</td>\n",
              "    </tr>\n",
              "    <tr>\n",
              "      <th>50%</th>\n",
              "      <td>25.000000</td>\n",
              "      <td>4.000000</td>\n",
              "      <td>134.000000</td>\n",
              "      <td>90.000000</td>\n",
              "      <td>2694.000000</td>\n",
              "      <td>15.800000</td>\n",
              "      <td>78.000000</td>\n",
              "    </tr>\n",
              "    <tr>\n",
              "      <th>75%</th>\n",
              "      <td>31.000000</td>\n",
              "      <td>6.000000</td>\n",
              "      <td>231.000000</td>\n",
              "      <td>110.000000</td>\n",
              "      <td>3344.500000</td>\n",
              "      <td>17.600000</td>\n",
              "      <td>80.000000</td>\n",
              "    </tr>\n",
              "    <tr>\n",
              "      <th>max</th>\n",
              "      <td>46.600000</td>\n",
              "      <td>8.000000</td>\n",
              "      <td>454.000000</td>\n",
              "      <td>250.000000</td>\n",
              "      <td>22280.000000</td>\n",
              "      <td>24.800000</td>\n",
              "      <td>82.000000</td>\n",
              "    </tr>\n",
              "  </tbody>\n",
              "</table>\n",
              "</div>"
            ],
            "text/plain": [
              "              mpg   cylinders  ...  acceleration  model_year\n",
              "count  371.000000  371.000000  ...    371.000000  371.000000\n",
              "mean    25.370350    5.086253  ...     16.127493   77.350404\n",
              "std      7.410867    1.520348  ...      2.610001    3.100326\n",
              "min     11.000000    3.000000  ...      9.000000   70.000000\n",
              "25%     19.200000    4.000000  ...     14.500000   75.000000\n",
              "50%     25.000000    4.000000  ...     15.800000   78.000000\n",
              "75%     31.000000    6.000000  ...     17.600000   80.000000\n",
              "max     46.600000    8.000000  ...     24.800000   82.000000\n",
              "\n",
              "[8 rows x 7 columns]"
            ]
          },
          "metadata": {
            "tags": []
          },
          "execution_count": 36
        }
      ]
    },
    {
      "cell_type": "markdown",
      "metadata": {
        "id": "mrNJK-BBkF9M"
      },
      "source": [
        "So, we can see some outliers with just describe. It looks like we have some horsepower values less than 0, which doesn't make sense! \n",
        "\n",
        "You could selectly find these values using boolean logic and remove them. That would totally be justified. \n",
        "\n",
        "Instead, let's use some established methods for outlier removal that may catch some unexpected outliers "
      ]
    },
    {
      "cell_type": "markdown",
      "metadata": {
        "id": "KyyjoYLKkm9N"
      },
      "source": [
        "#### Visualizations will help us see if we have outliers. Especially boxplots"
      ]
    },
    {
      "cell_type": "code",
      "metadata": {
        "id": "80WBEK9IkuaZ",
        "colab": {
          "base_uri": "https://localhost:8080/",
          "height": 792
        },
        "outputId": "8bd75ad9-ce6a-4db3-8ca3-99d89361b0df"
      },
      "source": [
        "fig,axes = plt.subplots(7,1,figsize=(12,12))\n",
        "\n",
        "count = 0\n",
        "for column in data.columns:\n",
        "  if isinstance(data[column][0],float)==1:\n",
        "    sns.boxplot(x = data[column],ax=axes[count])\n",
        "    count = count + 1\n",
        "\n",
        "plt.tight_layout()"
      ],
      "execution_count": null,
      "outputs": [
        {
          "output_type": "display_data",
          "data": {
            "image/png": "[encoded data removed]",
            "text/plain": [
              "<Figure size 864x864 with 7 Axes>"
            ]
          },
          "metadata": {
            "tags": [],
            "needs_background": "light"
          }
        }
      ]
    },
    {
      "cell_type": "markdown",
      "metadata": {
        "id": "SsOrDDgA9sv2"
      },
      "source": [
        "#### When we look at boxplots, we are checking for uni-variate outliers - which are outliers along one dimension\n",
        "\n",
        "#### These are outliers because they are far away from the other values\n",
        "\n",
        "#### You will typically see a couple different ways of finding these outliers\n",
        "\n",
        "1. multiple of the standard deviation\n",
        "2. outside of IQR which is basically what the boxplot is doing \n",
        "\n",
        "#### Both methods work similar. Use dispersion of the data to figure out what is too far away from the other data points. We thus create thresholds. Outliers are data beyond those thresholds "
      ]
    },
    {
      "cell_type": "code",
      "metadata": {
        "id": "awrqX-ch4xPY"
      },
      "source": [
        "temp_acc = data['acceleration'].copy()"
      ],
      "execution_count": null,
      "outputs": []
    },
    {
      "cell_type": "code",
      "metadata": {
        "id": "vd2aEdhw4YuC",
        "colab": {
          "base_uri": "https://localhost:8080/",
          "height": 350
        },
        "outputId": "95bd18c6-eda9-409b-b446-63f2fab02d08"
      },
      "source": [
        "sns.boxplot(temp_acc)"
      ],
      "execution_count": null,
      "outputs": [
        {
          "output_type": "stream",
          "text": [
            "/usr/local/lib/python3.7/dist-packages/seaborn/_decorators.py:43: FutureWarning: Pass the following variable as a keyword arg: x. From version 0.12, the only valid positional argument will be `data`, and passing other arguments without an explicit keyword will result in an error or misinterpretation.\n",
            "  FutureWarning\n"
          ],
          "name": "stderr"
        },
        {
          "output_type": "execute_result",
          "data": {
            "text/plain": [
              "<matplotlib.axes._subplots.AxesSubplot at 0x7f566c3f5990>"
            ]
          },
          "metadata": {
            "tags": []
          },
          "execution_count": 39
        },
        {
          "output_type": "display_data",
          "data": {
            "image/png": "[encoded data removed]",
            "text/plain": [
              "<Figure size 432x288 with 1 Axes>"
            ]
          },
          "metadata": {
            "tags": [],
            "needs_background": "light"
          }
        }
      ]
    },
    {
      "cell_type": "code",
      "metadata": {
        "id": "NpAC4YIdzGjy",
        "colab": {
          "base_uri": "https://localhost:8080/"
        },
        "outputId": "1099932f-4f87-4a6d-e446-03046480c1fd"
      },
      "source": [
        "threshold1_upper = temp_acc.mean()+2*temp_acc.std()\n",
        "threshold1_lower = temp_acc.mean()-2*temp_acc.std()\n",
        "print(threshold1_upper,threshold1_lower)"
      ],
      "execution_count": null,
      "outputs": [
        {
          "output_type": "stream",
          "text": [
            "21.34749592142496 10.907490601486057\n"
          ],
          "name": "stdout"
        }
      ]
    },
    {
      "cell_type": "markdown",
      "metadata": {
        "id": "opMwgtKKiH_-"
      },
      "source": [
        "#### Now that I have my thresholds created with the standard deviation, I can remove data that is either less than or greater than those thresholds"
      ]
    },
    {
      "cell_type": "code",
      "metadata": {
        "id": "05oWNHIJyz1z",
        "colab": {
          "base_uri": "https://localhost:8080/"
        },
        "outputId": "6026cc95-9e8a-47b5-bd90-7c6f53e5931f"
      },
      "source": [
        "temp_acc_std = temp_acc[(temp_acc < threshold1_upper) & (temp_acc > threshold1_lower)]\n",
        "temp_acc_std.shape"
      ],
      "execution_count": null,
      "outputs": [
        {
          "output_type": "execute_result",
          "data": {
            "text/plain": [
              "(353,)"
            ]
          },
          "metadata": {
            "tags": []
          },
          "execution_count": 41
        }
      ]
    },
    {
      "cell_type": "code",
      "metadata": {
        "id": "f0F6aq2r4fSX",
        "colab": {
          "base_uri": "https://localhost:8080/",
          "height": 384
        },
        "outputId": "37b7fc4f-0253-4826-8a8f-75987440e402"
      },
      "source": [
        "fig,axes = plt.subplots(2,1)\n",
        "sns.boxplot(temp_acc,ax=axes[0])\n",
        "sns.boxplot(temp_acc_std,ax=axes[1])\n",
        "axes[0].set_xlim([6,27])\n",
        "axes[1].set_xlim([6,27])"
      ],
      "execution_count": null,
      "outputs": [
        {
          "output_type": "stream",
          "text": [
            "/usr/local/lib/python3.7/dist-packages/seaborn/_decorators.py:43: FutureWarning: Pass the following variable as a keyword arg: x. From version 0.12, the only valid positional argument will be `data`, and passing other arguments without an explicit keyword will result in an error or misinterpretation.\n",
            "  FutureWarning\n",
            "/usr/local/lib/python3.7/dist-packages/seaborn/_decorators.py:43: FutureWarning: Pass the following variable as a keyword arg: x. From version 0.12, the only valid positional argument will be `data`, and passing other arguments without an explicit keyword will result in an error or misinterpretation.\n",
            "  FutureWarning\n"
          ],
          "name": "stderr"
        },
        {
          "output_type": "execute_result",
          "data": {
            "text/plain": [
              "(6.0, 27.0)"
            ]
          },
          "metadata": {
            "tags": []
          },
          "execution_count": 42
        },
        {
          "output_type": "display_data",
          "data": {
            "image/png": "[encoded data removed]",
            "text/plain": [
              "<Figure size 432x288 with 2 Axes>"
            ]
          },
          "metadata": {
            "tags": [],
            "needs_background": "light"
          }
        }
      ]
    },
    {
      "cell_type": "markdown",
      "metadata": {
        "id": "uUD5NwqW0Gaw"
      },
      "source": [
        "#### Let's try the second method with the IRQ"
      ]
    },
    {
      "cell_type": "code",
      "metadata": {
        "id": "uMeLbva2z2uG",
        "colab": {
          "base_uri": "https://localhost:8080/"
        },
        "outputId": "445f19fb-eaea-4b7e-9edc-b520b60c8593"
      },
      "source": [
        "Q1 = temp_acc.quantile(.25)\n",
        "Q3 = temp_acc.quantile(.75)\n",
        "IQR = Q3-Q1\n",
        "print(IQR)"
      ],
      "execution_count": null,
      "outputs": [
        {
          "output_type": "stream",
          "text": [
            "3.1000000000000014\n"
          ],
          "name": "stdout"
        }
      ]
    },
    {
      "cell_type": "code",
      "metadata": {
        "id": "TpFebfdm0kqt",
        "colab": {
          "base_uri": "https://localhost:8080/"
        },
        "outputId": "5425a842-ad38-4e3e-c3c1-7fb81f430379"
      },
      "source": [
        "temp_acc_iqr = temp_acc[(temp_acc > (Q1 - 1.5 * IQR)) & (temp_acc < (Q3 + 1.5 * IQR))]\n",
        "temp_acc_iqr.shape"
      ],
      "execution_count": null,
      "outputs": [
        {
          "output_type": "execute_result",
          "data": {
            "text/plain": [
              "(364,)"
            ]
          },
          "metadata": {
            "tags": []
          },
          "execution_count": 44
        }
      ]
    },
    {
      "cell_type": "code",
      "metadata": {
        "id": "OaPDTETp6Pg9",
        "colab": {
          "base_uri": "https://localhost:8080/",
          "height": 419
        },
        "outputId": "e4e96a18-b772-4027-8db2-18554880a6b8"
      },
      "source": [
        "fig,axes = plt.subplots(3,1)\n",
        "sns.boxplot(temp_acc,ax=axes[0])\n",
        "sns.boxplot(temp_acc_std,ax=axes[1])\n",
        "sns.boxplot(temp_acc_iqr,ax=axes[2])\n",
        "axes[0].set_xlim([6,27])\n",
        "axes[1].set_xlim([6,27])\n",
        "axes[2].set_xlim([6,27])\n",
        "plt.tight_layout()"
      ],
      "execution_count": null,
      "outputs": [
        {
          "output_type": "stream",
          "text": [
            "/usr/local/lib/python3.7/dist-packages/seaborn/_decorators.py:43: FutureWarning: Pass the following variable as a keyword arg: x. From version 0.12, the only valid positional argument will be `data`, and passing other arguments without an explicit keyword will result in an error or misinterpretation.\n",
            "  FutureWarning\n",
            "/usr/local/lib/python3.7/dist-packages/seaborn/_decorators.py:43: FutureWarning: Pass the following variable as a keyword arg: x. From version 0.12, the only valid positional argument will be `data`, and passing other arguments without an explicit keyword will result in an error or misinterpretation.\n",
            "  FutureWarning\n",
            "/usr/local/lib/python3.7/dist-packages/seaborn/_decorators.py:43: FutureWarning: Pass the following variable as a keyword arg: x. From version 0.12, the only valid positional argument will be `data`, and passing other arguments without an explicit keyword will result in an error or misinterpretation.\n",
            "  FutureWarning\n"
          ],
          "name": "stderr"
        },
        {
          "output_type": "display_data",
          "data": {
            "image/png": "[encoded data removed]",
            "text/plain": [
              "<Figure size 432x288 with 3 Axes>"
            ]
          },
          "metadata": {
            "tags": [],
            "needs_background": "light"
          }
        }
      ]
    },
    {
      "cell_type": "markdown",
      "metadata": {
        "id": "0VQslB25nqlh"
      },
      "source": [
        "#### First thing to note - 2 std takes away more data than the IQR method. You could do 2.5 std or 3 std. The other thing to note is that the median is pretty much the same in all cases."
      ]
    },
    {
      "cell_type": "markdown",
      "metadata": {
        "id": "hxw8FRcE6Ynq"
      },
      "source": [
        "#### Note that the outlier procedure is done once. So while there may be some \"new\" outliers that appear after removing outliers, that is okay! "
      ]
    },
    {
      "cell_type": "markdown",
      "metadata": {
        "id": "NJLk6CY02ce6"
      },
      "source": [
        "#### Now, let's remove the outliers from the other columns\n",
        "\n",
        "#### Any guesses on how we can do that? \n",
        "\n",
        "#### I'm suggesting a for loop like we made before!"
      ]
    },
    {
      "cell_type": "code",
      "metadata": {
        "id": "dhUC65Vk2lAE"
      },
      "source": [
        "for column in data.columns:\n",
        "  if isinstance(data[column][0],float)==1:\n",
        "    Q1 = data[column].quantile(.25)\n",
        "    Q3 = data[column].quantile(.75)\n",
        "    IQR = Q3-Q1\n",
        "\n",
        "    index = (data[column] > (Q1 - 1.5 * IQR)) & (data[column] < (Q3 + 1.5 * IQR))\n",
        "    data[column] = np.where(index, data[column],np.nan)"
      ],
      "execution_count": null,
      "outputs": []
    },
    {
      "cell_type": "code",
      "metadata": {
        "id": "a6mV8Z1z8Bh2",
        "colab": {
          "base_uri": "https://localhost:8080/",
          "height": 350
        },
        "outputId": "6970948d-b554-425a-93bf-905bd57d05bd"
      },
      "source": [
        "sns.boxplot(data['acceleration'])\n",
        "axes[0].set_xlim([6,27])"
      ],
      "execution_count": null,
      "outputs": [
        {
          "output_type": "stream",
          "text": [
            "/usr/local/lib/python3.7/dist-packages/seaborn/_decorators.py:43: FutureWarning: Pass the following variable as a keyword arg: x. From version 0.12, the only valid positional argument will be `data`, and passing other arguments without an explicit keyword will result in an error or misinterpretation.\n",
            "  FutureWarning\n"
          ],
          "name": "stderr"
        },
        {
          "output_type": "execute_result",
          "data": {
            "text/plain": [
              "(6.0, 27.0)"
            ]
          },
          "metadata": {
            "tags": []
          },
          "execution_count": 47
        },
        {
          "output_type": "display_data",
          "data": {
            "image/png": "[encoded data removed]",
            "text/plain": [
              "<Figure size 432x288 with 1 Axes>"
            ]
          },
          "metadata": {
            "tags": [],
            "needs_background": "light"
          }
        }
      ]
    },
    {
      "cell_type": "code",
      "metadata": {
        "id": "nwkktQQI3pSJ",
        "colab": {
          "base_uri": "https://localhost:8080/",
          "height": 344
        },
        "outputId": "9594a86f-1419-4b25-e9cd-bf6c3237422a"
      },
      "source": [
        "sns.heatmap(data.isnull(),cmap=['Green','Red'])"
      ],
      "execution_count": null,
      "outputs": [
        {
          "output_type": "execute_result",
          "data": {
            "text/plain": [
              "<matplotlib.axes._subplots.AxesSubplot at 0x7f566c36fa50>"
            ]
          },
          "metadata": {
            "tags": []
          },
          "execution_count": 48
        },
        {
          "output_type": "display_data",
          "data": {
            "image/png": "[encoded data removed]",
            "text/plain": [
              "<Figure size 432x288 with 2 Axes>"
            ]
          },
          "metadata": {
            "tags": [],
            "needs_background": "light"
          }
        }
      ]
    },
    {
      "cell_type": "markdown",
      "metadata": {
        "id": "IVqmy3L-4Ond"
      },
      "source": [
        "#### So now, our outliers have been replaced with nans. looks good!\n",
        "\n",
        "#### just to reiterate, we could have set those outliers to the median or mean values"
      ]
    },
    {
      "cell_type": "markdown",
      "metadata": {
        "id": "FioHfnrJx_lx"
      },
      "source": [
        "#### We can check for bi-variate outliers by plotting scatterplots\n",
        "\n",
        "#### Instead of showing all scatterplots at once, let's just focus on one scatterplot"
      ]
    },
    {
      "cell_type": "code",
      "metadata": {
        "id": "DHqQv8MU9rKD",
        "colab": {
          "base_uri": "https://localhost:8080/",
          "height": 296
        },
        "outputId": "c014bd93-bd85-4062-9b15-c7ccd4cb2504"
      },
      "source": [
        "sns.scatterplot(x= 'weight',y = 'displacement',data=data)"
      ],
      "execution_count": null,
      "outputs": [
        {
          "output_type": "execute_result",
          "data": {
            "text/plain": [
              "<matplotlib.axes._subplots.AxesSubplot at 0x7f566c374a10>"
            ]
          },
          "metadata": {
            "tags": []
          },
          "execution_count": 49
        },
        {
          "output_type": "display_data",
          "data": {
            "image/png": "[encoded data removed]",
            "text/plain": [
              "<Figure size 432x288 with 1 Axes>"
            ]
          },
          "metadata": {
            "tags": [],
            "needs_background": "light"
          }
        }
      ]
    },
    {
      "cell_type": "markdown",
      "metadata": {
        "id": "edtNdxa-IJPI"
      },
      "source": [
        "#### The datapoint on the far right appears to be pretty far from the others. We can quickly see this with the sns.lmplot"
      ]
    },
    {
      "cell_type": "code",
      "metadata": {
        "id": "DFZyEy1JIIbK",
        "colab": {
          "base_uri": "https://localhost:8080/",
          "height": 400
        },
        "outputId": "3b9450b7-2ef4-4836-812b-79dc26bf03c5"
      },
      "source": [
        "sns.lmplot(x= 'weight',y = 'displacement',data=data)\n",
        "plt.xlim([1500,5500])"
      ],
      "execution_count": null,
      "outputs": [
        {
          "output_type": "execute_result",
          "data": {
            "text/plain": [
              "(1500.0, 5500.0)"
            ]
          },
          "metadata": {
            "tags": []
          },
          "execution_count": 50
        },
        {
          "output_type": "display_data",
          "data": {
            "image/png": "[encoded data removed]",
            "text/plain": [
              "<Figure size 360x360 with 1 Axes>"
            ]
          },
          "metadata": {
            "tags": [],
            "needs_background": "light"
          }
        }
      ]
    },
    {
      "cell_type": "markdown",
      "metadata": {
        "id": "WsLZUNLoJJZR"
      },
      "source": [
        "#### Here, seaborn is plotting a best fit line. If that data point is far from others, it may be considered an outlier with high leverage. If that outlier is actually pulling that line towards it, then it may be considered influential.\n",
        "\n",
        "#### For now, we will leave these datapoints, but it is certainly something to be aware of and something we may touch on once we are discussing regression\n",
        "\n"
      ]
    },
    {
      "cell_type": "markdown",
      "metadata": {
        "id": "4OwQ5ENfK969"
      },
      "source": [
        "#### Now, let's just fill our data with medians\n",
        "\n",
        "#### Anyone remember how?"
      ]
    },
    {
      "cell_type": "code",
      "metadata": {
        "id": "JLbsZW1CKvSm"
      },
      "source": [
        "data2 = data.fillna(data.median())"
      ],
      "execution_count": null,
      "outputs": []
    },
    {
      "cell_type": "markdown",
      "metadata": {
        "id": "Vd1tRvwj_Lq5"
      },
      "source": [
        "Now, let's concatenate this with our dummy coded columns"
      ]
    },
    {
      "cell_type": "code",
      "metadata": {
        "id": "BukYn1OS_QAe"
      },
      "source": [
        "final_data = pd.concat([data2,sedan_1_df,origin_df,name_df,horsepower_df],axis=1)"
      ],
      "execution_count": null,
      "outputs": []
    },
    {
      "cell_type": "markdown",
      "metadata": {
        "id": "xLVyIYg8_qlG"
      },
      "source": [
        "Let's check to make sure that works"
      ]
    },
    {
      "cell_type": "code",
      "metadata": {
        "id": "542McBdA_o0a",
        "colab": {
          "base_uri": "https://localhost:8080/",
          "height": 224
        },
        "outputId": "dfa65aca-c6af-45c9-b020-9e0852986918"
      },
      "source": [
        "final_data.head()"
      ],
      "execution_count": null,
      "outputs": [
        {
          "output_type": "execute_result",
          "data": {
            "text/html": [
              "<div>\n",
              "<style scoped>\n",
              "    .dataframe tbody tr th:only-of-type {\n",
              "        vertical-align: middle;\n",
              "    }\n",
              "\n",
              "    .dataframe tbody tr th {\n",
              "        vertical-align: top;\n",
              "    }\n",
              "\n",
              "    .dataframe thead th {\n",
              "        text-align: right;\n",
              "    }\n",
              "</style>\n",
              "<table border=\"1\" class=\"dataframe\">\n",
              "  <thead>\n",
              "    <tr style=\"text-align: right;\">\n",
              "      <th></th>\n",
              "      <th>mpg</th>\n",
              "      <th>cylinders</th>\n",
              "      <th>displacement</th>\n",
              "      <th>horsepower</th>\n",
              "      <th>weight</th>\n",
              "      <th>acceleration</th>\n",
              "      <th>model_year</th>\n",
              "      <th>origin</th>\n",
              "      <th>name</th>\n",
              "      <th>Type</th>\n",
              "      <th>Sedans_1</th>\n",
              "      <th>japan</th>\n",
              "      <th>usa</th>\n",
              "      <th>chevrolet</th>\n",
              "      <th>nissan</th>\n",
              "      <th>peugeot</th>\n",
              "      <th>saab</th>\n",
              "      <th>toyota</th>\n",
              "      <th>volkswagen</th>\n",
              "      <th>volvo</th>\n",
              "      <th>Medium_HP</th>\n",
              "      <th>High_HP</th>\n",
              "    </tr>\n",
              "  </thead>\n",
              "  <tbody>\n",
              "    <tr>\n",
              "      <th>0</th>\n",
              "      <td>18.0</td>\n",
              "      <td>8.0</td>\n",
              "      <td>307.0</td>\n",
              "      <td>130.0</td>\n",
              "      <td>3504.0</td>\n",
              "      <td>12.0</td>\n",
              "      <td>70.0</td>\n",
              "      <td>usa</td>\n",
              "      <td>chevrolet</td>\n",
              "      <td>Sedan</td>\n",
              "      <td>1</td>\n",
              "      <td>0</td>\n",
              "      <td>1</td>\n",
              "      <td>1</td>\n",
              "      <td>0</td>\n",
              "      <td>0</td>\n",
              "      <td>0</td>\n",
              "      <td>0</td>\n",
              "      <td>0</td>\n",
              "      <td>0</td>\n",
              "      <td>0</td>\n",
              "      <td>1</td>\n",
              "    </tr>\n",
              "    <tr>\n",
              "      <th>1</th>\n",
              "      <td>14.0</td>\n",
              "      <td>8.0</td>\n",
              "      <td>134.0</td>\n",
              "      <td>90.0</td>\n",
              "      <td>4354.0</td>\n",
              "      <td>15.8</td>\n",
              "      <td>70.0</td>\n",
              "      <td>usa</td>\n",
              "      <td>chevrolet</td>\n",
              "      <td>Sedan</td>\n",
              "      <td>1</td>\n",
              "      <td>0</td>\n",
              "      <td>1</td>\n",
              "      <td>1</td>\n",
              "      <td>0</td>\n",
              "      <td>0</td>\n",
              "      <td>0</td>\n",
              "      <td>0</td>\n",
              "      <td>0</td>\n",
              "      <td>0</td>\n",
              "      <td>0</td>\n",
              "      <td>1</td>\n",
              "    </tr>\n",
              "    <tr>\n",
              "      <th>2</th>\n",
              "      <td>15.0</td>\n",
              "      <td>8.0</td>\n",
              "      <td>400.0</td>\n",
              "      <td>150.0</td>\n",
              "      <td>3761.0</td>\n",
              "      <td>15.8</td>\n",
              "      <td>70.0</td>\n",
              "      <td>usa</td>\n",
              "      <td>chevrolet</td>\n",
              "      <td>Sedan</td>\n",
              "      <td>1</td>\n",
              "      <td>0</td>\n",
              "      <td>1</td>\n",
              "      <td>1</td>\n",
              "      <td>0</td>\n",
              "      <td>0</td>\n",
              "      <td>0</td>\n",
              "      <td>0</td>\n",
              "      <td>0</td>\n",
              "      <td>0</td>\n",
              "      <td>0</td>\n",
              "      <td>1</td>\n",
              "    </tr>\n",
              "    <tr>\n",
              "      <th>3</th>\n",
              "      <td>24.0</td>\n",
              "      <td>4.0</td>\n",
              "      <td>113.0</td>\n",
              "      <td>95.0</td>\n",
              "      <td>2372.0</td>\n",
              "      <td>15.0</td>\n",
              "      <td>70.0</td>\n",
              "      <td>japan</td>\n",
              "      <td>toyota</td>\n",
              "      <td>Coupe</td>\n",
              "      <td>0</td>\n",
              "      <td>1</td>\n",
              "      <td>0</td>\n",
              "      <td>0</td>\n",
              "      <td>0</td>\n",
              "      <td>0</td>\n",
              "      <td>0</td>\n",
              "      <td>1</td>\n",
              "      <td>0</td>\n",
              "      <td>0</td>\n",
              "      <td>1</td>\n",
              "      <td>0</td>\n",
              "    </tr>\n",
              "    <tr>\n",
              "      <th>4</th>\n",
              "      <td>26.0</td>\n",
              "      <td>4.0</td>\n",
              "      <td>12.0</td>\n",
              "      <td>46.0</td>\n",
              "      <td>1835.0</td>\n",
              "      <td>20.5</td>\n",
              "      <td>70.0</td>\n",
              "      <td>europe</td>\n",
              "      <td>volkswagen</td>\n",
              "      <td>Coupe</td>\n",
              "      <td>0</td>\n",
              "      <td>0</td>\n",
              "      <td>0</td>\n",
              "      <td>0</td>\n",
              "      <td>0</td>\n",
              "      <td>0</td>\n",
              "      <td>0</td>\n",
              "      <td>0</td>\n",
              "      <td>1</td>\n",
              "      <td>0</td>\n",
              "      <td>0</td>\n",
              "      <td>0</td>\n",
              "    </tr>\n",
              "  </tbody>\n",
              "</table>\n",
              "</div>"
            ],
            "text/plain": [
              "    mpg  cylinders  displacement  ...  volvo  Medium_HP  High_HP\n",
              "0  18.0        8.0         307.0  ...      0          0        1\n",
              "1  14.0        8.0         134.0  ...      0          0        1\n",
              "2  15.0        8.0         400.0  ...      0          0        1\n",
              "3  24.0        4.0         113.0  ...      0          1        0\n",
              "4  26.0        4.0          12.0  ...      0          0        0\n",
              "\n",
              "[5 rows x 22 columns]"
            ]
          },
          "metadata": {
            "tags": []
          },
          "execution_count": 69
        }
      ]
    },
    {
      "cell_type": "markdown",
      "metadata": {
        "id": "Jey0lom5_sJd"
      },
      "source": [
        "And let's describe() and info() as well to double check some things"
      ]
    },
    {
      "cell_type": "code",
      "metadata": {
        "id": "4oeb_PZXK2gn",
        "colab": {
          "base_uri": "https://localhost:8080/",
          "height": 317
        },
        "outputId": "65e7c819-55ba-48bc-d9e2-b757aa63b831"
      },
      "source": [
        "final_data.describe()"
      ],
      "execution_count": null,
      "outputs": [
        {
          "output_type": "execute_result",
          "data": {
            "text/html": [
              "<div>\n",
              "<style scoped>\n",
              "    .dataframe tbody tr th:only-of-type {\n",
              "        vertical-align: middle;\n",
              "    }\n",
              "\n",
              "    .dataframe tbody tr th {\n",
              "        vertical-align: top;\n",
              "    }\n",
              "\n",
              "    .dataframe thead th {\n",
              "        text-align: right;\n",
              "    }\n",
              "</style>\n",
              "<table border=\"1\" class=\"dataframe\">\n",
              "  <thead>\n",
              "    <tr style=\"text-align: right;\">\n",
              "      <th></th>\n",
              "      <th>mpg</th>\n",
              "      <th>cylinders</th>\n",
              "      <th>displacement</th>\n",
              "      <th>horsepower</th>\n",
              "      <th>weight</th>\n",
              "      <th>acceleration</th>\n",
              "      <th>model_year</th>\n",
              "      <th>Sedans_1</th>\n",
              "      <th>japan</th>\n",
              "      <th>usa</th>\n",
              "      <th>chevrolet</th>\n",
              "      <th>nissan</th>\n",
              "      <th>peugeot</th>\n",
              "      <th>saab</th>\n",
              "      <th>toyota</th>\n",
              "      <th>volkswagen</th>\n",
              "      <th>volvo</th>\n",
              "      <th>Medium_HP</th>\n",
              "      <th>High_HP</th>\n",
              "    </tr>\n",
              "  </thead>\n",
              "  <tbody>\n",
              "    <tr>\n",
              "      <th>count</th>\n",
              "      <td>358.000000</td>\n",
              "      <td>358.000000</td>\n",
              "      <td>358.000000</td>\n",
              "      <td>358.000000</td>\n",
              "      <td>358.000000</td>\n",
              "      <td>358.000000</td>\n",
              "      <td>358.000000</td>\n",
              "      <td>358.000000</td>\n",
              "      <td>358.000000</td>\n",
              "      <td>358.000000</td>\n",
              "      <td>358.000000</td>\n",
              "      <td>358.000000</td>\n",
              "      <td>358.000000</td>\n",
              "      <td>358.000000</td>\n",
              "      <td>358.000000</td>\n",
              "      <td>358.000000</td>\n",
              "      <td>358.000000</td>\n",
              "      <td>358.000000</td>\n",
              "      <td>358.000000</td>\n",
              "    </tr>\n",
              "    <tr>\n",
              "      <th>mean</th>\n",
              "      <td>25.392179</td>\n",
              "      <td>5.081006</td>\n",
              "      <td>166.667598</td>\n",
              "      <td>92.441341</td>\n",
              "      <td>2819.290503</td>\n",
              "      <td>16.001676</td>\n",
              "      <td>77.357542</td>\n",
              "      <td>0.606145</td>\n",
              "      <td>0.231844</td>\n",
              "      <td>0.530726</td>\n",
              "      <td>0.405028</td>\n",
              "      <td>0.002793</td>\n",
              "      <td>0.094972</td>\n",
              "      <td>0.041899</td>\n",
              "      <td>0.189944</td>\n",
              "      <td>0.150838</td>\n",
              "      <td>0.055866</td>\n",
              "      <td>0.349162</td>\n",
              "      <td>0.310056</td>\n",
              "    </tr>\n",
              "    <tr>\n",
              "      <th>std</th>\n",
              "      <td>7.473984</td>\n",
              "      <td>1.514312</td>\n",
              "      <td>85.904276</td>\n",
              "      <td>25.432520</td>\n",
              "      <td>742.658786</td>\n",
              "      <td>2.275210</td>\n",
              "      <td>3.104273</td>\n",
              "      <td>0.489287</td>\n",
              "      <td>0.422600</td>\n",
              "      <td>0.499753</td>\n",
              "      <td>0.491585</td>\n",
              "      <td>0.052852</td>\n",
              "      <td>0.293587</td>\n",
              "      <td>0.200640</td>\n",
              "      <td>0.392806</td>\n",
              "      <td>0.358392</td>\n",
              "      <td>0.229984</td>\n",
              "      <td>0.477372</td>\n",
              "      <td>0.463164</td>\n",
              "    </tr>\n",
              "    <tr>\n",
              "      <th>min</th>\n",
              "      <td>11.000000</td>\n",
              "      <td>3.000000</td>\n",
              "      <td>-30.000000</td>\n",
              "      <td>46.000000</td>\n",
              "      <td>1649.000000</td>\n",
              "      <td>11.100000</td>\n",
              "      <td>70.000000</td>\n",
              "      <td>0.000000</td>\n",
              "      <td>0.000000</td>\n",
              "      <td>0.000000</td>\n",
              "      <td>0.000000</td>\n",
              "      <td>0.000000</td>\n",
              "      <td>0.000000</td>\n",
              "      <td>0.000000</td>\n",
              "      <td>0.000000</td>\n",
              "      <td>0.000000</td>\n",
              "      <td>0.000000</td>\n",
              "      <td>0.000000</td>\n",
              "      <td>0.000000</td>\n",
              "    </tr>\n",
              "    <tr>\n",
              "      <th>25%</th>\n",
              "      <td>19.125000</td>\n",
              "      <td>4.000000</td>\n",
              "      <td>98.000000</td>\n",
              "      <td>72.500000</td>\n",
              "      <td>2190.000000</td>\n",
              "      <td>14.500000</td>\n",
              "      <td>75.000000</td>\n",
              "      <td>0.000000</td>\n",
              "      <td>0.000000</td>\n",
              "      <td>0.000000</td>\n",
              "      <td>0.000000</td>\n",
              "      <td>0.000000</td>\n",
              "      <td>0.000000</td>\n",
              "      <td>0.000000</td>\n",
              "      <td>0.000000</td>\n",
              "      <td>0.000000</td>\n",
              "      <td>0.000000</td>\n",
              "      <td>0.000000</td>\n",
              "      <td>0.000000</td>\n",
              "    </tr>\n",
              "    <tr>\n",
              "      <th>50%</th>\n",
              "      <td>25.000000</td>\n",
              "      <td>4.000000</td>\n",
              "      <td>134.000000</td>\n",
              "      <td>90.000000</td>\n",
              "      <td>2694.000000</td>\n",
              "      <td>15.800000</td>\n",
              "      <td>77.500000</td>\n",
              "      <td>1.000000</td>\n",
              "      <td>0.000000</td>\n",
              "      <td>1.000000</td>\n",
              "      <td>0.000000</td>\n",
              "      <td>0.000000</td>\n",
              "      <td>0.000000</td>\n",
              "      <td>0.000000</td>\n",
              "      <td>0.000000</td>\n",
              "      <td>0.000000</td>\n",
              "      <td>0.000000</td>\n",
              "      <td>0.000000</td>\n",
              "      <td>0.000000</td>\n",
              "    </tr>\n",
              "    <tr>\n",
              "      <th>75%</th>\n",
              "      <td>31.000000</td>\n",
              "      <td>6.000000</td>\n",
              "      <td>231.000000</td>\n",
              "      <td>105.000000</td>\n",
              "      <td>3336.000000</td>\n",
              "      <td>17.300000</td>\n",
              "      <td>80.000000</td>\n",
              "      <td>1.000000</td>\n",
              "      <td>0.000000</td>\n",
              "      <td>1.000000</td>\n",
              "      <td>1.000000</td>\n",
              "      <td>0.000000</td>\n",
              "      <td>0.000000</td>\n",
              "      <td>0.000000</td>\n",
              "      <td>0.000000</td>\n",
              "      <td>0.000000</td>\n",
              "      <td>0.000000</td>\n",
              "      <td>1.000000</td>\n",
              "      <td>1.000000</td>\n",
              "    </tr>\n",
              "    <tr>\n",
              "      <th>max</th>\n",
              "      <td>46.600000</td>\n",
              "      <td>8.000000</td>\n",
              "      <td>400.000000</td>\n",
              "      <td>165.000000</td>\n",
              "      <td>4997.000000</td>\n",
              "      <td>22.100000</td>\n",
              "      <td>82.000000</td>\n",
              "      <td>1.000000</td>\n",
              "      <td>1.000000</td>\n",
              "      <td>1.000000</td>\n",
              "      <td>1.000000</td>\n",
              "      <td>1.000000</td>\n",
              "      <td>1.000000</td>\n",
              "      <td>1.000000</td>\n",
              "      <td>1.000000</td>\n",
              "      <td>1.000000</td>\n",
              "      <td>1.000000</td>\n",
              "      <td>1.000000</td>\n",
              "      <td>1.000000</td>\n",
              "    </tr>\n",
              "  </tbody>\n",
              "</table>\n",
              "</div>"
            ],
            "text/plain": [
              "              mpg   cylinders  displacement  ...       volvo   Medium_HP     High_HP\n",
              "count  358.000000  358.000000    358.000000  ...  358.000000  358.000000  358.000000\n",
              "mean    25.392179    5.081006    166.667598  ...    0.055866    0.349162    0.310056\n",
              "std      7.473984    1.514312     85.904276  ...    0.229984    0.477372    0.463164\n",
              "min     11.000000    3.000000    -30.000000  ...    0.000000    0.000000    0.000000\n",
              "25%     19.125000    4.000000     98.000000  ...    0.000000    0.000000    0.000000\n",
              "50%     25.000000    4.000000    134.000000  ...    0.000000    0.000000    0.000000\n",
              "75%     31.000000    6.000000    231.000000  ...    0.000000    1.000000    1.000000\n",
              "max     46.600000    8.000000    400.000000  ...    1.000000    1.000000    1.000000\n",
              "\n",
              "[8 rows x 19 columns]"
            ]
          },
          "metadata": {
            "tags": []
          },
          "execution_count": 67
        }
      ]
    },
    {
      "cell_type": "code",
      "metadata": {
        "id": "ZP189BPJK4k5",
        "colab": {
          "base_uri": "https://localhost:8080/",
          "height": 510
        },
        "outputId": "c23ed1e6-ef44-4821-88ec-d0aa8fe4c308"
      },
      "source": [
        "final_data.info()"
      ],
      "execution_count": null,
      "outputs": [
        {
          "output_type": "stream",
          "text": [
            "<class 'pandas.core.frame.DataFrame'>\n",
            "Int64Index: 358 entries, 0 to 357\n",
            "Data columns (total 22 columns):\n",
            " #   Column        Non-Null Count  Dtype  \n",
            "---  ------        --------------  -----  \n",
            " 0   mpg           358 non-null    float64\n",
            " 1   cylinders     358 non-null    float64\n",
            " 2   displacement  358 non-null    float64\n",
            " 3   horsepower    358 non-null    float64\n",
            " 4   weight        358 non-null    float64\n",
            " 5   acceleration  358 non-null    float64\n",
            " 6   model_year    358 non-null    float64\n",
            " 7   origin        358 non-null    object \n",
            " 8   name          358 non-null    object \n",
            " 9   Type          358 non-null    object \n",
            " 10  Sedans_1      358 non-null    int64  \n",
            " 11  japan         358 non-null    uint8  \n",
            " 12  usa           358 non-null    uint8  \n",
            " 13  chevrolet     358 non-null    uint8  \n",
            " 14  nissan        358 non-null    uint8  \n",
            " 15  peugeot       358 non-null    uint8  \n",
            " 16  saab          358 non-null    uint8  \n",
            " 17  toyota        358 non-null    uint8  \n",
            " 18  volkswagen    358 non-null    uint8  \n",
            " 19  volvo         358 non-null    uint8  \n",
            " 20  Medium_HP     358 non-null    uint8  \n",
            " 21  High_HP       358 non-null    uint8  \n",
            "dtypes: float64(7), int64(1), object(3), uint8(11)\n",
            "memory usage: 37.4+ KB\n"
          ],
          "name": "stdout"
        }
      ]
    },
    {
      "cell_type": "markdown",
      "metadata": {
        "id": "Qo0pbI8qLO5i"
      },
      "source": [
        "#### So, just to recap. Here was our procedure for engineering our features (columns)\n",
        "\n",
        "1. Remove mostly empty column = given that with so much missing data, the column appeared useless\n",
        "2. Remove mostly empty rows = given that with so much missing data, the rows appeared useless\n",
        "3. Replaced missing data with median = since median is less affected by outliers\n",
        "4. Removed duplicates = since we shouldn't have any in this dataset\n",
        "5. Dummy coded categorical columns = so we can analyze them later\n",
        "6. Binned Horsepower = to examine how binning affects analyses\n",
        "7. Removed clearly erroneous data = since we know our data is ratio and data below 0 cannot occur\n",
        "8. Removed outliers with IQR = since we had some outliers in the data"
      ]
    },
    {
      "cell_type": "markdown",
      "metadata": {
        "id": "949hYnxcpaNV"
      },
      "source": [
        "#### This is just one example of how to clean and transform the data. We could have done these steps in a slightly different order. We could have done more than this (e.g., transforming skewed data, remove bivariate outliers, bucket horsepower then make it numerical/ordinal, etc)"
      ]
    },
    {
      "cell_type": "code",
      "metadata": {
        "id": "xAMW1kNXK7Gd"
      },
      "source": [
        "final_data.to_csv('fixed_mpg.csv')"
      ],
      "execution_count": null,
      "outputs": []
    },
    {
      "cell_type": "markdown",
      "metadata": {
        "id": "G2Yf7eZXLql4"
      },
      "source": [
        "#### Now that the data is saved, we can being to analyze it next week or so!"
      ]
    }
  ]
}