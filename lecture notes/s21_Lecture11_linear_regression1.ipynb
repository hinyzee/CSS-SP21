{
  "nbformat": 4,
  "nbformat_minor": 0,
  "metadata": {
    "colab": {
      "name": "s21_Lecture11_linear_regression1.ipynb",
      "provenance": [],
      "collapsed_sections": []
    },
    "kernelspec": {
      "name": "python3",
      "display_name": "Python 3"
    },
    "language_info": {
      "name": "python"
    }
  },
  "cells": [
    {
      "cell_type": "markdown",
      "metadata": {
        "id": "h0KGQbYdDC3z"
      },
      "source": [
        "Announcements\n",
        "1. Problem set 6 and quiz 6 due\n",
        "2. Discussion board 2 and quiz 5 will be graded this weekend\n",
        "3. How is the final project coming along?\n",
        "\n",
        "Today's topic\n",
        "1. What is linear regression?\n",
        "2. Doing linear regression with linear algebra\n",
        "3. Doing linear regression with sklearn"
      ]
    },
    {
      "cell_type": "markdown",
      "metadata": {
        "id": "9t5ZW9WbkydI"
      },
      "source": [
        "First, let's get our libraries. We are also getting a library called inv, which we will need for our calculation"
      ]
    },
    {
      "cell_type": "code",
      "metadata": {
        "id": "uUe3kT265za3"
      },
      "source": [
        "import numpy as np\n",
        "import pandas as pd\n",
        "import matplotlib.pyplot as plt\n",
        "import seaborn as sns\n",
        "from numpy.linalg import inv"
      ],
      "execution_count": 1,
      "outputs": []
    },
    {
      "cell_type": "markdown",
      "metadata": {
        "id": "pzeaSkUOk3ET"
      },
      "source": [
        "Here, let's load our dataset that we feature engineered. "
      ]
    },
    {
      "cell_type": "code",
      "metadata": {
        "colab": {
          "base_uri": "https://localhost:8080/",
          "height": 224
        },
        "id": "kY3865pW6Pq3",
        "outputId": "431c3302-b81d-40c3-98fd-0ea090111f72"
      },
      "source": [
        "data = pd.read_csv('final_mpg_dataset.csv')\n",
        "data.head()"
      ],
      "execution_count": 2,
      "outputs": [
        {
          "output_type": "execute_result",
          "data": {
            "text/html": [
              "<div>\n",
              "<style scoped>\n",
              "    .dataframe tbody tr th:only-of-type {\n",
              "        vertical-align: middle;\n",
              "    }\n",
              "\n",
              "    .dataframe tbody tr th {\n",
              "        vertical-align: top;\n",
              "    }\n",
              "\n",
              "    .dataframe thead th {\n",
              "        text-align: right;\n",
              "    }\n",
              "</style>\n",
              "<table border=\"1\" class=\"dataframe\">\n",
              "  <thead>\n",
              "    <tr style=\"text-align: right;\">\n",
              "      <th></th>\n",
              "      <th>mpg</th>\n",
              "      <th>cylinders</th>\n",
              "      <th>displacement</th>\n",
              "      <th>horsepower</th>\n",
              "      <th>weight</th>\n",
              "      <th>acceleration</th>\n",
              "      <th>model_year</th>\n",
              "      <th>origin</th>\n",
              "      <th>name</th>\n",
              "      <th>Type</th>\n",
              "      <th>chevrolet</th>\n",
              "      <th>nevs</th>\n",
              "      <th>nissan</th>\n",
              "      <th>peugeot</th>\n",
              "      <th>toyota</th>\n",
              "      <th>volkswagen</th>\n",
              "      <th>volvo</th>\n",
              "      <th>Sedan0</th>\n",
              "      <th>japan</th>\n",
              "      <th>usa</th>\n",
              "      <th>MediumHP</th>\n",
              "      <th>HighHP</th>\n",
              "      <th>HP_ordinal</th>\n",
              "    </tr>\n",
              "  </thead>\n",
              "  <tbody>\n",
              "    <tr>\n",
              "      <th>0</th>\n",
              "      <td>18.0</td>\n",
              "      <td>8.0</td>\n",
              "      <td>307.000000</td>\n",
              "      <td>130.000000</td>\n",
              "      <td>3504.0</td>\n",
              "      <td>12.000000</td>\n",
              "      <td>70.0</td>\n",
              "      <td>usa</td>\n",
              "      <td>chevrolet</td>\n",
              "      <td>Sedan</td>\n",
              "      <td>1</td>\n",
              "      <td>0</td>\n",
              "      <td>0</td>\n",
              "      <td>0</td>\n",
              "      <td>0</td>\n",
              "      <td>0</td>\n",
              "      <td>0</td>\n",
              "      <td>0</td>\n",
              "      <td>0</td>\n",
              "      <td>1</td>\n",
              "      <td>0</td>\n",
              "      <td>1</td>\n",
              "      <td>3</td>\n",
              "    </tr>\n",
              "    <tr>\n",
              "      <th>1</th>\n",
              "      <td>14.0</td>\n",
              "      <td>8.0</td>\n",
              "      <td>167.405634</td>\n",
              "      <td>92.497143</td>\n",
              "      <td>4354.0</td>\n",
              "      <td>16.007471</td>\n",
              "      <td>70.0</td>\n",
              "      <td>usa</td>\n",
              "      <td>chevrolet</td>\n",
              "      <td>Sedan</td>\n",
              "      <td>1</td>\n",
              "      <td>0</td>\n",
              "      <td>0</td>\n",
              "      <td>0</td>\n",
              "      <td>0</td>\n",
              "      <td>0</td>\n",
              "      <td>0</td>\n",
              "      <td>0</td>\n",
              "      <td>0</td>\n",
              "      <td>1</td>\n",
              "      <td>0</td>\n",
              "      <td>1</td>\n",
              "      <td>3</td>\n",
              "    </tr>\n",
              "    <tr>\n",
              "      <th>2</th>\n",
              "      <td>15.0</td>\n",
              "      <td>8.0</td>\n",
              "      <td>400.000000</td>\n",
              "      <td>150.000000</td>\n",
              "      <td>3761.0</td>\n",
              "      <td>16.007471</td>\n",
              "      <td>70.0</td>\n",
              "      <td>usa</td>\n",
              "      <td>chevrolet</td>\n",
              "      <td>Sedan</td>\n",
              "      <td>1</td>\n",
              "      <td>0</td>\n",
              "      <td>0</td>\n",
              "      <td>0</td>\n",
              "      <td>0</td>\n",
              "      <td>0</td>\n",
              "      <td>0</td>\n",
              "      <td>0</td>\n",
              "      <td>0</td>\n",
              "      <td>1</td>\n",
              "      <td>0</td>\n",
              "      <td>1</td>\n",
              "      <td>3</td>\n",
              "    </tr>\n",
              "    <tr>\n",
              "      <th>3</th>\n",
              "      <td>24.0</td>\n",
              "      <td>4.0</td>\n",
              "      <td>113.000000</td>\n",
              "      <td>95.000000</td>\n",
              "      <td>2372.0</td>\n",
              "      <td>15.000000</td>\n",
              "      <td>70.0</td>\n",
              "      <td>japan</td>\n",
              "      <td>toyota</td>\n",
              "      <td>Coupe</td>\n",
              "      <td>0</td>\n",
              "      <td>0</td>\n",
              "      <td>0</td>\n",
              "      <td>0</td>\n",
              "      <td>1</td>\n",
              "      <td>0</td>\n",
              "      <td>0</td>\n",
              "      <td>1</td>\n",
              "      <td>1</td>\n",
              "      <td>0</td>\n",
              "      <td>1</td>\n",
              "      <td>0</td>\n",
              "      <td>2</td>\n",
              "    </tr>\n",
              "    <tr>\n",
              "      <th>4</th>\n",
              "      <td>26.0</td>\n",
              "      <td>4.0</td>\n",
              "      <td>12.000000</td>\n",
              "      <td>46.000000</td>\n",
              "      <td>1835.0</td>\n",
              "      <td>20.500000</td>\n",
              "      <td>70.0</td>\n",
              "      <td>europe</td>\n",
              "      <td>volkswagen</td>\n",
              "      <td>Coupe</td>\n",
              "      <td>0</td>\n",
              "      <td>0</td>\n",
              "      <td>0</td>\n",
              "      <td>0</td>\n",
              "      <td>0</td>\n",
              "      <td>1</td>\n",
              "      <td>0</td>\n",
              "      <td>1</td>\n",
              "      <td>0</td>\n",
              "      <td>0</td>\n",
              "      <td>0</td>\n",
              "      <td>0</td>\n",
              "      <td>1</td>\n",
              "    </tr>\n",
              "  </tbody>\n",
              "</table>\n",
              "</div>"
            ],
            "text/plain": [
              "    mpg  cylinders  displacement  horsepower  ...  usa  MediumHP  HighHP HP_ordinal\n",
              "0  18.0        8.0    307.000000  130.000000  ...    1         0       1          3\n",
              "1  14.0        8.0    167.405634   92.497143  ...    1         0       1          3\n",
              "2  15.0        8.0    400.000000  150.000000  ...    1         0       1          3\n",
              "3  24.0        4.0    113.000000   95.000000  ...    0         1       0          2\n",
              "4  26.0        4.0     12.000000   46.000000  ...    0         0       0          1\n",
              "\n",
              "[5 rows x 23 columns]"
            ]
          },
          "metadata": {
            "tags": []
          },
          "execution_count": 2
        }
      ]
    },
    {
      "cell_type": "markdown",
      "metadata": {
        "id": "-ZhkIHA9k6A6"
      },
      "source": [
        "I think a good relationship to investigate first is horsepower against weight\n",
        "\n",
        "Based on how the data looks, it looks like there is a strong positive relationship. As horsepower increases, so does weight "
      ]
    },
    {
      "cell_type": "code",
      "metadata": {
        "colab": {
          "base_uri": "https://localhost:8080/",
          "height": 350
        },
        "id": "Usb1AsZ86ULl",
        "outputId": "c7953302-1541-4eec-8282-74b53ab99cc8"
      },
      "source": [
        "sns.scatterplot(data['horsepower'],data['weight'])"
      ],
      "execution_count": 3,
      "outputs": [
        {
          "output_type": "stream",
          "text": [
            "/usr/local/lib/python3.7/dist-packages/seaborn/_decorators.py:43: FutureWarning: Pass the following variables as keyword args: x, y. From version 0.12, the only valid positional argument will be `data`, and passing other arguments without an explicit keyword will result in an error or misinterpretation.\n",
            "  FutureWarning\n"
          ],
          "name": "stderr"
        },
        {
          "output_type": "execute_result",
          "data": {
            "text/plain": [
              "<matplotlib.axes._subplots.AxesSubplot at 0x7f34e23a8f90>"
            ]
          },
          "metadata": {
            "tags": []
          },
          "execution_count": 3
        },
        {
          "output_type": "display_data",
          "data": {
            "image/png": "[encoded data removed]",
            "text/plain": [
              "<Figure size 432x288 with 1 Axes>"
            ]
          },
          "metadata": {
            "tags": [],
            "needs_background": "light"
          }
        }
      ]
    },
    {
      "cell_type": "markdown",
      "metadata": {
        "id": "u99AFDpFlPTs"
      },
      "source": [
        "Now, let's rearrange the data a little bit. To do our calculation using linear algebra, we will turn out horsepower series into an array that is n by 1, with n being the number of observations"
      ]
    },
    {
      "cell_type": "code",
      "metadata": {
        "colab": {
          "base_uri": "https://localhost:8080/"
        },
        "id": "iaKHRj1q6nZf",
        "outputId": "ce77e5f6-abd0-4fc2-b2f1-a7ea446a40e1"
      },
      "source": [
        "X = np.array(data['horsepower'])\n",
        "X = X.reshape((len(X), 1))\n",
        "X.shape"
      ],
      "execution_count": 4,
      "outputs": [
        {
          "output_type": "execute_result",
          "data": {
            "text/plain": [
              "(358, 1)"
            ]
          },
          "metadata": {
            "tags": []
          },
          "execution_count": 4
        }
      ]
    },
    {
      "cell_type": "markdown",
      "metadata": {
        "id": "ADy6cB92lYrB"
      },
      "source": [
        "And for the thing we want to predict or explain, we will create an array. Note that y should be 1-dimensional. It should just be size n. Not n by 1"
      ]
    },
    {
      "cell_type": "code",
      "metadata": {
        "colab": {
          "base_uri": "https://localhost:8080/"
        },
        "id": "VPZMPr4K68GL",
        "outputId": "65bfa2f9-a317-4b45-f3a4-364f3cfbcd64"
      },
      "source": [
        "y = np.array(data['weight'])\n",
        "y.shape"
      ],
      "execution_count": 5,
      "outputs": [
        {
          "output_type": "execute_result",
          "data": {
            "text/plain": [
              "(358,)"
            ]
          },
          "metadata": {
            "tags": []
          },
          "execution_count": 5
        }
      ]
    },
    {
      "cell_type": "markdown",
      "metadata": {
        "id": "KZ6RUe3ylj2h"
      },
      "source": [
        "Now, here is the equation we will use.\n",
        "\n",
        "Its a bit complicated. Its simply a rearranging of the variables in the equation \"yi = bxi\" (which is the samea s y = mx), whereby we are solving for b (our betas)\n"
      ]
    },
    {
      "cell_type": "code",
      "metadata": {
        "id": "Yh3GDUdv7AyU"
      },
      "source": [
        "b = inv(X.T.dot(X)).dot(X.T).dot(y)"
      ],
      "execution_count": 6,
      "outputs": []
    },
    {
      "cell_type": "markdown",
      "metadata": {
        "id": "s2yB06hWmww_"
      },
      "source": [
        "The beta that comes out tells us the slope of the line."
      ]
    },
    {
      "cell_type": "code",
      "metadata": {
        "colab": {
          "base_uri": "https://localhost:8080/"
        },
        "id": "EvRLzc667VM-",
        "outputId": "0786d790-4da5-4244-c2a7-6b2d825cfa0e"
      },
      "source": [
        "print(b)"
      ],
      "execution_count": 7,
      "outputs": [
        {
          "output_type": "stream",
          "text": [
            "[30.00934642]\n"
          ],
          "name": "stdout"
        }
      ]
    },
    {
      "cell_type": "markdown",
      "metadata": {
        "id": "68EW25rQm0i3"
      },
      "source": [
        "So, our equation is \n",
        "\n",
        "y = 30.009 * x\n",
        "\n",
        "or \n",
        "\n",
        "weight = 30.009 * horsepower"
      ]
    },
    {
      "cell_type": "markdown",
      "metadata": {
        "id": "c2kblgxAnCyI"
      },
      "source": [
        "We can then find the predicted y values by multiplying our X values by the return beta\n",
        "\n",
        "Note that it is using this dot multiplication, since X is a matrix\n",
        "\n",
        "If we printed the output, these are the corresponding y values from that equation"
      ]
    },
    {
      "cell_type": "code",
      "metadata": {
        "id": "o3IfoE4u7XKM"
      },
      "source": [
        "yhat = X.dot(b)\n",
        "print(yhat)"
      ],
      "execution_count": null,
      "outputs": []
    },
    {
      "cell_type": "markdown",
      "metadata": {
        "id": "l9ZMVQJUnMN8"
      },
      "source": [
        "We can plot these y values and see that it forms a line"
      ]
    },
    {
      "cell_type": "code",
      "metadata": {
        "colab": {
          "base_uri": "https://localhost:8080/",
          "height": 282
        },
        "id": "z_7YGph_7d8y",
        "outputId": "52a1490e-3e11-472d-a3e5-e4829d54fc32"
      },
      "source": [
        "plt.scatter(X, y)\n",
        "plt.plot(X, yhat, color='red')"
      ],
      "execution_count": 9,
      "outputs": [
        {
          "output_type": "execute_result",
          "data": {
            "text/plain": [
              "[<matplotlib.lines.Line2D at 0x7f34e0bbce90>]"
            ]
          },
          "metadata": {
            "tags": []
          },
          "execution_count": 9
        },
        {
          "output_type": "display_data",
          "data": {
            "image/png": "[encoded data removed]",
            "text/plain": [
              "<Figure size 432x288 with 1 Axes>"
            ]
          },
          "metadata": {
            "tags": [],
            "needs_background": "light"
          }
        }
      ]
    },
    {
      "cell_type": "markdown",
      "metadata": {
        "id": "rUuZqZO3nT9h"
      },
      "source": [
        "Super cool!\n",
        "\n",
        "But, something is missing from our regression.\n",
        "\n",
        "What do you think it is?\n",
        "\n",
        "It may be obvious in hindsight, but we didn't account for the intercept."
      ]
    },
    {
      "cell_type": "code",
      "metadata": {
        "colab": {
          "base_uri": "https://localhost:8080/",
          "height": 286
        },
        "id": "MEBOxkkBEDU4",
        "outputId": "d6df72e5-7a47-4f95-9083-0593a0a09089"
      },
      "source": [
        "plt.scatter(X, y)\n",
        "plt.plot(X, yhat, color='red')\n",
        "plt.ylim([0,5000])\n",
        "plt.xlim([0,170])"
      ],
      "execution_count": 10,
      "outputs": [
        {
          "output_type": "execute_result",
          "data": {
            "text/plain": [
              "(0.0, 170.0)"
            ]
          },
          "metadata": {
            "tags": []
          },
          "execution_count": 10
        },
        {
          "output_type": "display_data",
          "data": {
            "image/png": "[encoded data removed]",
            "text/plain": [
              "<Figure size 432x288 with 1 Axes>"
            ]
          },
          "metadata": {
            "tags": [],
            "needs_background": "light"
          }
        }
      ]
    },
    {
      "cell_type": "markdown",
      "metadata": {
        "id": "8VEdStRjnbX-"
      },
      "source": [
        "If you zoom out, you will see that the line will pass right through 0,0. "
      ]
    },
    {
      "cell_type": "markdown",
      "metadata": {
        "id": "GCcATf0HEIUu"
      },
      "source": [
        "Maybe the y-intercept will be pretty helpful, so let's add it \n",
        "\n",
        "To do so, we basically add a column of 1s to our X matrix. This is like adding a constant to our X values"
      ]
    },
    {
      "cell_type": "code",
      "metadata": {
        "id": "0tA0hWt3-DHt"
      },
      "source": [
        "b0 = np.ones((len(X), 1))"
      ],
      "execution_count": 11,
      "outputs": []
    },
    {
      "cell_type": "markdown",
      "metadata": {
        "id": "3iarNzaSnwGO"
      },
      "source": [
        "Now, we can concatenate with our original data to form this new n by 2 matrix"
      ]
    },
    {
      "cell_type": "code",
      "metadata": {
        "id": "l5GDZAJY-YcS"
      },
      "source": [
        "X2 = np.concatenate((b0,X),axis=1)\n",
        "print(X2,X2.shape)"
      ],
      "execution_count": null,
      "outputs": []
    },
    {
      "cell_type": "markdown",
      "metadata": {
        "id": "4-8nFOsPn5cm"
      },
      "source": [
        "We can now actually pass this new X2 directly into the formula we used before"
      ]
    },
    {
      "cell_type": "code",
      "metadata": {
        "colab": {
          "base_uri": "https://localhost:8080/"
        },
        "id": "nblE7WXPENvz",
        "outputId": "5a0f22ba-7988-4d37-9e57-9df747c36231"
      },
      "source": [
        "b_2 = inv(X2.T.dot(X2)).dot(X2.T).dot(y)\n",
        "print(b_2)"
      ],
      "execution_count": 13,
      "outputs": [
        {
          "output_type": "stream",
          "text": [
            "[625.80410928  23.71789311]\n"
          ],
          "name": "stdout"
        }
      ]
    },
    {
      "cell_type": "markdown",
      "metadata": {
        "id": "hONxEJRdn-jE"
      },
      "source": [
        "Now, we have two betas! These refer to b0 and b1, which b0 being y-intercept and b1 being the parameter for our horsepower\n",
        "\n",
        "Our equation is now:\n",
        "\n",
        "weight = 625.804 + 23.717*horsepower"
      ]
    },
    {
      "cell_type": "markdown",
      "metadata": {
        "id": "S9ByA973oJEz"
      },
      "source": [
        "Let's find our new predicted y values based on the new betas"
      ]
    },
    {
      "cell_type": "code",
      "metadata": {
        "id": "C2oj5HTJEQFL"
      },
      "source": [
        "yhat2 = X2.dot(b_2)"
      ],
      "execution_count": 14,
      "outputs": []
    },
    {
      "cell_type": "markdown",
      "metadata": {
        "id": "qS2HKl5QoLni"
      },
      "source": [
        "and now, let's look at the plot"
      ]
    },
    {
      "cell_type": "code",
      "metadata": {
        "colab": {
          "base_uri": "https://localhost:8080/",
          "height": 286
        },
        "id": "yPwdbKJeEXh3",
        "outputId": "9223bacb-fd8e-49c2-ab4b-d35669066e51"
      },
      "source": [
        "plt.scatter(X, y)\n",
        "plt.plot(X, yhat, color='red')\n",
        "plt.plot(X, yhat2, color='green')\n",
        "plt.ylim([0,5000])\n",
        "plt.xlim([0,170])"
      ],
      "execution_count": 15,
      "outputs": [
        {
          "output_type": "execute_result",
          "data": {
            "text/plain": [
              "(0.0, 170.0)"
            ]
          },
          "metadata": {
            "tags": []
          },
          "execution_count": 15
        },
        {
          "output_type": "display_data",
          "data": {
            "image/png": "[encoded data removed]",
            "text/plain": [
              "<Figure size 432x288 with 1 Axes>"
            ]
          },
          "metadata": {
            "tags": [],
            "needs_background": "light"
          }
        }
      ]
    },
    {
      "cell_type": "markdown",
      "metadata": {
        "id": "HD5TXP1Z7_zc"
      },
      "source": [
        "Now, this is awesome we can do this with math. And its basically just one line of code. But this isn't exactly the best approach.\n",
        "\n",
        "Instead, we can utilize existing libraries. One such library comes from sklearn"
      ]
    },
    {
      "cell_type": "code",
      "metadata": {
        "id": "d_OlgLov7mb8"
      },
      "source": [
        "from sklearn.linear_model import LinearRegression"
      ],
      "execution_count": 16,
      "outputs": []
    },
    {
      "cell_type": "markdown",
      "metadata": {
        "id": "N3EEolrZpWoS"
      },
      "source": [
        "Like we discussed, sklearn works by first defining the model\n",
        "\n",
        "Here, we also establish the hyperparameters. Different models will have different hyperparameters. For our linear regression, we will only ensure that the intercept is True (note: this is default, but its nice to have it visible, so we don't have to worry about it)"
      ]
    },
    {
      "cell_type": "code",
      "metadata": {
        "id": "2G8lckuf8AT1"
      },
      "source": [
        "model = LinearRegression(fit_intercept=True)"
      ],
      "execution_count": 17,
      "outputs": []
    },
    {
      "cell_type": "markdown",
      "metadata": {
        "id": "44wvuAu1qkq_"
      },
      "source": [
        "The next step is doing the actual fitting, the learning, if you will. We will pass in our X and y from before. Note that we do not need to have that extra column of 1s here because we have told it to include an intercept"
      ]
    },
    {
      "cell_type": "code",
      "metadata": {
        "colab": {
          "base_uri": "https://localhost:8080/"
        },
        "id": "NLzoOemc8EAc",
        "outputId": "7aaf1871-78de-461f-cb8d-d009b350e96e"
      },
      "source": [
        "model.fit(X,y) # convention is X and y"
      ],
      "execution_count": 18,
      "outputs": [
        {
          "output_type": "execute_result",
          "data": {
            "text/plain": [
              "LinearRegression(copy_X=True, fit_intercept=True, n_jobs=None, normalize=False)"
            ]
          },
          "metadata": {
            "tags": []
          },
          "execution_count": 18
        }
      ]
    },
    {
      "cell_type": "markdown",
      "metadata": {
        "id": "HUA5oPyVqw2i"
      },
      "source": [
        "and.... that it is\n",
        "\n",
        "Cool\n",
        "\n",
        "We can check out the coeffecient"
      ]
    },
    {
      "cell_type": "code",
      "metadata": {
        "colab": {
          "base_uri": "https://localhost:8080/"
        },
        "id": "ICYdubBq8GXz",
        "outputId": "3ac82739-b9dd-44df-e257-7cbca25b7022"
      },
      "source": [
        "model.coef_ # SLOPE of the model"
      ],
      "execution_count": 19,
      "outputs": [
        {
          "output_type": "execute_result",
          "data": {
            "text/plain": [
              "array([23.71789311])"
            ]
          },
          "metadata": {
            "tags": []
          },
          "execution_count": 19
        }
      ]
    },
    {
      "cell_type": "markdown",
      "metadata": {
        "id": "rw1lcp1nq2BC"
      },
      "source": [
        "And the intercept"
      ]
    },
    {
      "cell_type": "code",
      "metadata": {
        "colab": {
          "base_uri": "https://localhost:8080/"
        },
        "id": "tShmIVDq8JIZ",
        "outputId": "6ee2fcca-1f14-4d69-fcef-a7a454b998ab"
      },
      "source": [
        "model.intercept_ # INTERCEPT of the model"
      ],
      "execution_count": 20,
      "outputs": [
        {
          "output_type": "execute_result",
          "data": {
            "text/plain": [
              "625.8041092779536"
            ]
          },
          "metadata": {
            "tags": []
          },
          "execution_count": 20
        }
      ]
    },
    {
      "cell_type": "markdown",
      "metadata": {
        "id": "81Wb4a5Tq3uW"
      },
      "source": [
        "So, according to sklearn, our equation is:\n",
        "\n",
        "weight = 625.804 + 23.717*horsepower\n",
        "\n",
        "This is basically the same from what we found with our linear algebra! Awesome!\n",
        "\n",
        "We can get our predicted y values from our x values by using the predict method"
      ]
    },
    {
      "cell_type": "code",
      "metadata": {
        "id": "Vylttzxf8Lvg"
      },
      "source": [
        "yfit = model.predict(X)"
      ],
      "execution_count": 21,
      "outputs": []
    },
    {
      "cell_type": "markdown",
      "metadata": {
        "id": "j-1cjf1JrRDM"
      },
      "source": [
        "Now let's make a plot"
      ]
    },
    {
      "cell_type": "code",
      "metadata": {
        "colab": {
          "base_uri": "https://localhost:8080/",
          "height": 286
        },
        "id": "GhISo4DV8O5E",
        "outputId": "ab94ff28-9334-41ef-9af4-7a1d92d47e96"
      },
      "source": [
        "plt.scatter(X,y)\n",
        "plt.plot(X,yfit,c='r')\n",
        "plt.plot(X, yhat, color='g')\n",
        "plt.plot(X, yhat2, color='b',linestyle=':')\n",
        "plt.xlim([0,160])\n",
        "plt.ylim([0,5000])"
      ],
      "execution_count": 22,
      "outputs": [
        {
          "output_type": "execute_result",
          "data": {
            "text/plain": [
              "(0.0, 5000.0)"
            ]
          },
          "metadata": {
            "tags": []
          },
          "execution_count": 22
        },
        {
          "output_type": "display_data",
          "data": {
            "image/png": "[encoded data removed]",
            "text/plain": [
              "<Figure size 432x288 with 1 Axes>"
            ]
          },
          "metadata": {
            "tags": [],
            "needs_background": "light"
          }
        }
      ]
    },
    {
      "cell_type": "markdown",
      "metadata": {
        "id": "gy3mJv6OFi3_"
      },
      "source": [
        "We can look at the residuals to get a feel for how good the predictions are\n",
        "\n",
        "The residuals are the difference between the predicted y values and the actual y values.\n",
        "\n",
        "As you would expect, if the residuals = 0, then we did a perfect job of fitting the data. The further away the residuals are from 0, then the worse our prediction was"
      ]
    },
    {
      "cell_type": "code",
      "metadata": {
        "colab": {
          "base_uri": "https://localhost:8080/",
          "height": 350
        },
        "id": "3QP6mYYPFP9-",
        "outputId": "157c13ac-2398-44ea-e79c-142380210259"
      },
      "source": [
        "plt.hist(y-yfit)"
      ],
      "execution_count": 23,
      "outputs": [
        {
          "output_type": "execute_result",
          "data": {
            "text/plain": [
              "(array([  3.,  28.,  95., 103.,  73.,  27.,  19.,   3.,   5.,   2.]),\n",
              " array([-1094.2564725 ,  -799.99497091,  -505.73346931,  -211.47196772,\n",
              "           82.78953387,   377.05103546,   671.31253705,   965.57403864,\n",
              "         1259.83554023,  1554.09704183,  1848.35854342]),\n",
              " <a list of 10 Patch objects>)"
            ]
          },
          "metadata": {
            "tags": []
          },
          "execution_count": 23
        },
        {
          "output_type": "display_data",
          "data": {
            "image/png": "[encoded data removed]",
            "text/plain": [
              "<Figure size 432x288 with 1 Axes>"
            ]
          },
          "metadata": {
            "tags": [],
            "needs_background": "light"
          }
        }
      ]
    },
    {
      "cell_type": "markdown",
      "metadata": {
        "id": "EMCVYUfbRT04"
      },
      "source": [
        "In my experience, residuals are best compared between models"
      ]
    },
    {
      "cell_type": "code",
      "metadata": {
        "colab": {
          "base_uri": "https://localhost:8080/",
          "height": 282
        },
        "id": "V3RUf8V-RkWt",
        "outputId": "7151aa86-71c3-434d-fcdd-b8bab6cd2667"
      },
      "source": [
        "plt.subplot(2,1,1)\n",
        "plt.hist(y-yfit,50) # model fit with sklearn and with an intercept\n",
        "plt.xlim([-2000,2000])\n",
        "plt.subplot(2,1,2)\n",
        "plt.hist(y-yhat,50)  # model fit with math and without an intercept\n",
        "plt.xlim([-2000,2000])"
      ],
      "execution_count": 30,
      "outputs": [
        {
          "output_type": "execute_result",
          "data": {
            "text/plain": [
              "(-2000.0, 2000.0)"
            ]
          },
          "metadata": {
            "tags": []
          },
          "execution_count": 30
        },
        {
          "output_type": "display_data",
          "data": {
            "image/png": "[encoded data removed]",
            "text/plain": [
              "<Figure size 432x288 with 2 Axes>"
            ]
          },
          "metadata": {
            "tags": [],
            "needs_background": "light"
          }
        }
      ]
    },
    {
      "cell_type": "markdown",
      "metadata": {
        "id": "fpTNySXeR-l-"
      },
      "source": [
        "There isn't a whole lot of difference in the residuals between the model with the intercept and without the intercept in this case. It actually makes sense when we look at the plots above and see that the two lines are quite similar"
      ]
    },
    {
      "cell_type": "markdown",
      "metadata": {
        "id": "ZNHWDsQkFsep"
      },
      "source": [
        "a residual plot is the histgram plotted against the predicted values. Here, we can get a slightly better idea of the model. If we see a pattern here, for example, a wavy \"line\", then it suggests that our data is not really linear. Seeing a cloud (like below) is a good thing"
      ]
    },
    {
      "cell_type": "code",
      "metadata": {
        "colab": {
          "base_uri": "https://localhost:8080/",
          "height": 336
        },
        "id": "h71fa9z9FnnU",
        "outputId": "708f241b-3230-4f28-ee33-b7d1171d82a4"
      },
      "source": [
        "sns.scatterplot(yfit,yfit-y)"
      ],
      "execution_count": null,
      "outputs": [
        {
          "output_type": "stream",
          "text": [
            "/usr/local/lib/python3.7/dist-packages/seaborn/_decorators.py:43: FutureWarning: Pass the following variables as keyword args: x, y. From version 0.12, the only valid positional argument will be `data`, and passing other arguments without an explicit keyword will result in an error or misinterpretation.\n",
            "  FutureWarning\n"
          ],
          "name": "stderr"
        },
        {
          "output_type": "execute_result",
          "data": {
            "text/plain": [
              "<matplotlib.axes._subplots.AxesSubplot at 0x7f1b34f4e090>"
            ]
          },
          "metadata": {
            "tags": []
          },
          "execution_count": 111
        },
        {
          "output_type": "display_data",
          "data": {
            "image/png": "[encoded data removed]",
            "text/plain": [
              "<Figure size 432x288 with 1 Axes>"
            ]
          },
          "metadata": {
            "tags": [],
            "needs_background": "light"
          }
        }
      ]
    },
    {
      "cell_type": "markdown",
      "metadata": {
        "id": "TGS4HV1UFzRn"
      },
      "source": [
        "numerically, we can check out the R2 value, which quantifies the fit \n",
        "\n",
        "R2 is basically how much better our line is compared to a line that is completely horizontal. \n",
        "\n",
        "It is the proportion of the variance in the dependent variable that is predictable from the independent variable(s).\n",
        "\n",
        "The closer to 1 R2 is, the better our fit of the data"
      ]
    },
    {
      "cell_type": "code",
      "metadata": {
        "colab": {
          "base_uri": "https://localhost:8080/"
        },
        "id": "uo_zyLzJE4IG",
        "outputId": "c1893701-7f55-4cd1-ecf9-290b3b0bce67"
      },
      "source": [
        "model.score(X,y) # Return the coefficient of determination R^2 of the prediction"
      ],
      "execution_count": null,
      "outputs": [
        {
          "output_type": "execute_result",
          "data": {
            "text/plain": [
              "0.6596223228824938"
            ]
          },
          "metadata": {
            "tags": []
          },
          "execution_count": 104
        }
      ]
    },
    {
      "cell_type": "markdown",
      "metadata": {
        "id": "YrhBDnqzr7pt"
      },
      "source": [
        "Next class, we will talk about how to do this process in machine learning, since nothing here is actually machine learning (everything above is about fitting). And, we will talk about fitting multiple predictors, since that is what we will eventually want to do"
      ]
    }
  ]
}