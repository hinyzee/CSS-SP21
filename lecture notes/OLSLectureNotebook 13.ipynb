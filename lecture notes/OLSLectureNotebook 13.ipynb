{
  "nbformat": 4,
  "nbformat_minor": 0,
  "metadata": {
    "colab": {
      "name": "OLSLectureNotebook.ipynb",
      "provenance": []
    },
    "kernelspec": {
      "name": "python3",
      "display_name": "Python 3"
    },
    "language_info": {
      "name": "python"
    }
  },
  "cells": [
    {
      "cell_type": "code",
      "metadata": {
        "id": "Ao82Ag80MYnQ"
      },
      "source": [
        "import pandas as pd\n",
        "import seaborn as sns\n",
        "import matplotlib.pyplot as plt\n",
        "import numpy as np\n",
        "import statsmodels.api as sm"
      ],
      "execution_count": 59,
      "outputs": []
    },
    {
      "cell_type": "markdown",
      "metadata": {
        "id": "zoFEHPlrfHXw"
      },
      "source": [
        "# Omitted Variable Bias #"
      ]
    },
    {
      "cell_type": "code",
      "metadata": {
        "colab": {
          "base_uri": "https://localhost:8080/",
          "height": 352
        },
        "id": "iETU9UIrfKCC",
        "outputId": "e63a6a46-cf06-4b4d-b7ed-15e1789d2161"
      },
      "source": [
        "shark = pd.read_csv('http://uclspp.github.io/PUBLG100/data/shark_attacks.csv')\n",
        "sns.scatterplot(shark['IceCreamSales'], shark['SharkAttacks'])\n",
        "x1 = shark['IceCreamSales']\n",
        "y1 = shark['SharkAttacks']\n",
        "m1, b1 = np.polyfit(x1, y1, 1)\n",
        "plt.plot(x1, m1*x1+b1, color = 'red')"
      ],
      "execution_count": 60,
      "outputs": [
        {
          "output_type": "stream",
          "text": [
            "/usr/local/lib/python3.7/dist-packages/seaborn/_decorators.py:43: FutureWarning: Pass the following variables as keyword args: x, y. From version 0.12, the only valid positional argument will be `data`, and passing other arguments without an explicit keyword will result in an error or misinterpretation.\n",
            "  FutureWarning\n"
          ],
          "name": "stderr"
        },
        {
          "output_type": "execute_result",
          "data": {
            "text/plain": [
              "[<matplotlib.lines.Line2D at 0x7fe08c5eb450>]"
            ]
          },
          "metadata": {
            "tags": []
          },
          "execution_count": 60
        },
        {
          "output_type": "display_data",
          "data": {
            "image/png": "[encoded data removed]",
            "text/plain": [
              "<Figure size 432x288 with 1 Axes>"
            ]
          },
          "metadata": {
            "tags": [],
            "needs_background": "light"
          }
        }
      ]
    },
    {
      "cell_type": "code",
      "metadata": {
        "colab": {
          "base_uri": "https://localhost:8080/",
          "height": 426
        },
        "id": "csmwR6HXo2m_",
        "outputId": "861eba0b-5eb7-4d58-f6e9-460b6c89cf7e"
      },
      "source": [
        "X = sm.add_constant(shark[['IceCreamSales']])\n",
        "y = shark['SharkAttacks']\n",
        "model = sm.OLS(y, X).fit()\n",
        "model.summary()"
      ],
      "execution_count": 61,
      "outputs": [
        {
          "output_type": "execute_result",
          "data": {
            "text/html": [
              "<table class=\"simpletable\">\n",
              "<caption>OLS Regression Results</caption>\n",
              "<tr>\n",
              "  <th>Dep. Variable:</th>      <td>SharkAttacks</td>   <th>  R-squared:         </th> <td>   0.286</td>\n",
              "</tr>\n",
              "<tr>\n",
              "  <th>Model:</th>                   <td>OLS</td>       <th>  Adj. R-squared:    </th> <td>   0.277</td>\n",
              "</tr>\n",
              "<tr>\n",
              "  <th>Method:</th>             <td>Least Squares</td>  <th>  F-statistic:       </th> <td>   32.77</td>\n",
              "</tr>\n",
              "<tr>\n",
              "  <th>Date:</th>             <td>Tue, 11 May 2021</td> <th>  Prob (F-statistic):</th> <td>1.65e-07</td>\n",
              "</tr>\n",
              "<tr>\n",
              "  <th>Time:</th>                 <td>00:02:26</td>     <th>  Log-Likelihood:    </th> <td> -283.69</td>\n",
              "</tr>\n",
              "<tr>\n",
              "  <th>No. Observations:</th>      <td>    84</td>      <th>  AIC:               </th> <td>   571.4</td>\n",
              "</tr>\n",
              "<tr>\n",
              "  <th>Df Residuals:</th>          <td>    82</td>      <th>  BIC:               </th> <td>   576.2</td>\n",
              "</tr>\n",
              "<tr>\n",
              "  <th>Df Model:</th>              <td>     1</td>      <th>                     </th>     <td> </td>   \n",
              "</tr>\n",
              "<tr>\n",
              "  <th>Covariance Type:</th>      <td>nonrobust</td>    <th>                     </th>     <td> </td>   \n",
              "</tr>\n",
              "</table>\n",
              "<table class=\"simpletable\">\n",
              "<tr>\n",
              "        <td></td>           <th>coef</th>     <th>std err</th>      <th>t</th>      <th>P>|t|</th>  <th>[0.025</th>    <th>0.975]</th>  \n",
              "</tr>\n",
              "<tr>\n",
              "  <th>const</th>         <td>    4.3523</td> <td>    5.238</td> <td>    0.831</td> <td> 0.408</td> <td>   -6.067</td> <td>   14.772</td>\n",
              "</tr>\n",
              "<tr>\n",
              "  <th>IceCreamSales</th> <td>    0.3363</td> <td>    0.059</td> <td>    5.725</td> <td> 0.000</td> <td>    0.219</td> <td>    0.453</td>\n",
              "</tr>\n",
              "</table>\n",
              "<table class=\"simpletable\">\n",
              "<tr>\n",
              "  <th>Omnibus:</th>       <td> 0.421</td> <th>  Durbin-Watson:     </th> <td>   1.844</td>\n",
              "</tr>\n",
              "<tr>\n",
              "  <th>Prob(Omnibus):</th> <td> 0.810</td> <th>  Jarque-Bera (JB):  </th> <td>   0.423</td>\n",
              "</tr>\n",
              "<tr>\n",
              "  <th>Skew:</th>          <td> 0.161</td> <th>  Prob(JB):          </th> <td>   0.809</td>\n",
              "</tr>\n",
              "<tr>\n",
              "  <th>Kurtosis:</th>      <td> 2.871</td> <th>  Cond. No.          </th> <td>    597.</td>\n",
              "</tr>\n",
              "</table><br/><br/>Warnings:<br/>[1] Standard Errors assume that the covariance matrix of the errors is correctly specified."
            ],
            "text/plain": [
              "<class 'statsmodels.iolib.summary.Summary'>\n",
              "\"\"\"\n",
              "                            OLS Regression Results                            \n",
              "==============================================================================\n",
              "Dep. Variable:           SharkAttacks   R-squared:                       0.286\n",
              "Model:                            OLS   Adj. R-squared:                  0.277\n",
              "Method:                 Least Squares   F-statistic:                     32.77\n",
              "Date:                Tue, 11 May 2021   Prob (F-statistic):           1.65e-07\n",
              "Time:                        00:02:26   Log-Likelihood:                -283.69\n",
              "No. Observations:                  84   AIC:                             571.4\n",
              "Df Residuals:                      82   BIC:                             576.2\n",
              "Df Model:                           1                                         \n",
              "Covariance Type:            nonrobust                                         \n",
              "=================================================================================\n",
              "                    coef    std err          t      P>|t|      [0.025      0.975]\n",
              "---------------------------------------------------------------------------------\n",
              "const             4.3523      5.238      0.831      0.408      -6.067      14.772\n",
              "IceCreamSales     0.3363      0.059      5.725      0.000       0.219       0.453\n",
              "==============================================================================\n",
              "Omnibus:                        0.421   Durbin-Watson:                   1.844\n",
              "Prob(Omnibus):                  0.810   Jarque-Bera (JB):                0.423\n",
              "Skew:                           0.161   Prob(JB):                        0.809\n",
              "Kurtosis:                       2.871   Cond. No.                         597.\n",
              "==============================================================================\n",
              "\n",
              "Warnings:\n",
              "[1] Standard Errors assume that the covariance matrix of the errors is correctly specified.\n",
              "\"\"\""
            ]
          },
          "metadata": {
            "tags": []
          },
          "execution_count": 61
        }
      ]
    },
    {
      "cell_type": "code",
      "metadata": {
        "colab": {
          "base_uri": "https://localhost:8080/",
          "height": 195
        },
        "id": "7IU0Pcdkq_sP",
        "outputId": "2de0b908-a122-4c58-ffbb-0cd4d2512680"
      },
      "source": [
        "shark.corr()"
      ],
      "execution_count": 62,
      "outputs": [
        {
          "output_type": "execute_result",
          "data": {
            "text/html": [
              "<div>\n",
              "<style scoped>\n",
              "    .dataframe tbody tr th:only-of-type {\n",
              "        vertical-align: middle;\n",
              "    }\n",
              "\n",
              "    .dataframe tbody tr th {\n",
              "        vertical-align: top;\n",
              "    }\n",
              "\n",
              "    .dataframe thead th {\n",
              "        text-align: right;\n",
              "    }\n",
              "</style>\n",
              "<table border=\"1\" class=\"dataframe\">\n",
              "  <thead>\n",
              "    <tr style=\"text-align: right;\">\n",
              "      <th></th>\n",
              "      <th>Year</th>\n",
              "      <th>Month</th>\n",
              "      <th>SharkAttacks</th>\n",
              "      <th>Temperature</th>\n",
              "      <th>IceCreamSales</th>\n",
              "    </tr>\n",
              "  </thead>\n",
              "  <tbody>\n",
              "    <tr>\n",
              "      <th>Year</th>\n",
              "      <td>1.000000</td>\n",
              "      <td>0.000000</td>\n",
              "      <td>-0.033364</td>\n",
              "      <td>0.010930</td>\n",
              "      <td>0.013402</td>\n",
              "    </tr>\n",
              "    <tr>\n",
              "      <th>Month</th>\n",
              "      <td>0.000000</td>\n",
              "      <td>1.000000</td>\n",
              "      <td>0.275968</td>\n",
              "      <td>0.270830</td>\n",
              "      <td>-0.261145</td>\n",
              "    </tr>\n",
              "    <tr>\n",
              "      <th>SharkAttacks</th>\n",
              "      <td>-0.033364</td>\n",
              "      <td>0.275968</td>\n",
              "      <td>1.000000</td>\n",
              "      <td>0.716966</td>\n",
              "      <td>0.534358</td>\n",
              "    </tr>\n",
              "    <tr>\n",
              "      <th>Temperature</th>\n",
              "      <td>0.010930</td>\n",
              "      <td>0.270830</td>\n",
              "      <td>0.716966</td>\n",
              "      <td>1.000000</td>\n",
              "      <td>0.595769</td>\n",
              "    </tr>\n",
              "    <tr>\n",
              "      <th>IceCreamSales</th>\n",
              "      <td>0.013402</td>\n",
              "      <td>-0.261145</td>\n",
              "      <td>0.534358</td>\n",
              "      <td>0.595769</td>\n",
              "      <td>1.000000</td>\n",
              "    </tr>\n",
              "  </tbody>\n",
              "</table>\n",
              "</div>"
            ],
            "text/plain": [
              "                   Year     Month  SharkAttacks  Temperature  IceCreamSales\n",
              "Year           1.000000  0.000000     -0.033364     0.010930       0.013402\n",
              "Month          0.000000  1.000000      0.275968     0.270830      -0.261145\n",
              "SharkAttacks  -0.033364  0.275968      1.000000     0.716966       0.534358\n",
              "Temperature    0.010930  0.270830      0.716966     1.000000       0.595769\n",
              "IceCreamSales  0.013402 -0.261145      0.534358     0.595769       1.000000"
            ]
          },
          "metadata": {
            "tags": []
          },
          "execution_count": 62
        }
      ]
    },
    {
      "cell_type": "code",
      "metadata": {
        "colab": {
          "base_uri": "https://localhost:8080/",
          "height": 446
        },
        "id": "NkQ0ArIwrFM0",
        "outputId": "543c67cd-3861-4e35-925c-dccc9fcfb95d"
      },
      "source": [
        "X = sm.add_constant(shark[['IceCreamSales', 'Temperature']])\n",
        "y = shark['SharkAttacks']\n",
        "model = sm.OLS(y, X).fit()\n",
        "model.summary()"
      ],
      "execution_count": 63,
      "outputs": [
        {
          "output_type": "execute_result",
          "data": {
            "text/html": [
              "<table class=\"simpletable\">\n",
              "<caption>OLS Regression Results</caption>\n",
              "<tr>\n",
              "  <th>Dep. Variable:</th>      <td>SharkAttacks</td>   <th>  R-squared:         </th> <td>   0.532</td>\n",
              "</tr>\n",
              "<tr>\n",
              "  <th>Model:</th>                   <td>OLS</td>       <th>  Adj. R-squared:    </th> <td>   0.520</td>\n",
              "</tr>\n",
              "<tr>\n",
              "  <th>Method:</th>             <td>Least Squares</td>  <th>  F-statistic:       </th> <td>   46.01</td>\n",
              "</tr>\n",
              "<tr>\n",
              "  <th>Date:</th>             <td>Tue, 11 May 2021</td> <th>  Prob (F-statistic):</th> <td>4.47e-14</td>\n",
              "</tr>\n",
              "<tr>\n",
              "  <th>Time:</th>                 <td>00:02:26</td>     <th>  Log-Likelihood:    </th> <td> -265.94</td>\n",
              "</tr>\n",
              "<tr>\n",
              "  <th>No. Observations:</th>      <td>    84</td>      <th>  AIC:               </th> <td>   537.9</td>\n",
              "</tr>\n",
              "<tr>\n",
              "  <th>Df Residuals:</th>          <td>    81</td>      <th>  BIC:               </th> <td>   545.2</td>\n",
              "</tr>\n",
              "<tr>\n",
              "  <th>Df Model:</th>              <td>     2</td>      <th>                     </th>     <td> </td>   \n",
              "</tr>\n",
              "<tr>\n",
              "  <th>Covariance Type:</th>      <td>nonrobust</td>    <th>                     </th>     <td> </td>   \n",
              "</tr>\n",
              "</table>\n",
              "<table class=\"simpletable\">\n",
              "<tr>\n",
              "        <td></td>           <th>coef</th>     <th>std err</th>      <th>t</th>      <th>P>|t|</th>  <th>[0.025</th>    <th>0.975]</th>  \n",
              "</tr>\n",
              "<tr>\n",
              "  <th>const</th>         <td>    0.5651</td> <td>    4.305</td> <td>    0.131</td> <td> 0.896</td> <td>   -8.001</td> <td>    9.131</td>\n",
              "</tr>\n",
              "<tr>\n",
              "  <th>IceCreamSales</th> <td>    0.1046</td> <td>    0.060</td> <td>    1.756</td> <td> 0.083</td> <td>   -0.014</td> <td>    0.223</td>\n",
              "</tr>\n",
              "<tr>\n",
              "  <th>Temperature</th>   <td>    1.2928</td> <td>    0.198</td> <td>    6.528</td> <td> 0.000</td> <td>    0.899</td> <td>    1.687</td>\n",
              "</tr>\n",
              "</table>\n",
              "<table class=\"simpletable\">\n",
              "<tr>\n",
              "  <th>Omnibus:</th>       <td> 3.022</td> <th>  Durbin-Watson:     </th> <td>   2.505</td>\n",
              "</tr>\n",
              "<tr>\n",
              "  <th>Prob(Omnibus):</th> <td> 0.221</td> <th>  Jarque-Bera (JB):  </th> <td>   2.672</td>\n",
              "</tr>\n",
              "<tr>\n",
              "  <th>Skew:</th>          <td> 0.166</td> <th>  Prob(JB):          </th> <td>   0.263</td>\n",
              "</tr>\n",
              "<tr>\n",
              "  <th>Kurtosis:</th>      <td> 3.809</td> <th>  Cond. No.          </th> <td>    616.</td>\n",
              "</tr>\n",
              "</table><br/><br/>Warnings:<br/>[1] Standard Errors assume that the covariance matrix of the errors is correctly specified."
            ],
            "text/plain": [
              "<class 'statsmodels.iolib.summary.Summary'>\n",
              "\"\"\"\n",
              "                            OLS Regression Results                            \n",
              "==============================================================================\n",
              "Dep. Variable:           SharkAttacks   R-squared:                       0.532\n",
              "Model:                            OLS   Adj. R-squared:                  0.520\n",
              "Method:                 Least Squares   F-statistic:                     46.01\n",
              "Date:                Tue, 11 May 2021   Prob (F-statistic):           4.47e-14\n",
              "Time:                        00:02:26   Log-Likelihood:                -265.94\n",
              "No. Observations:                  84   AIC:                             537.9\n",
              "Df Residuals:                      81   BIC:                             545.2\n",
              "Df Model:                           2                                         \n",
              "Covariance Type:            nonrobust                                         \n",
              "=================================================================================\n",
              "                    coef    std err          t      P>|t|      [0.025      0.975]\n",
              "---------------------------------------------------------------------------------\n",
              "const             0.5651      4.305      0.131      0.896      -8.001       9.131\n",
              "IceCreamSales     0.1046      0.060      1.756      0.083      -0.014       0.223\n",
              "Temperature       1.2928      0.198      6.528      0.000       0.899       1.687\n",
              "==============================================================================\n",
              "Omnibus:                        3.022   Durbin-Watson:                   2.505\n",
              "Prob(Omnibus):                  0.221   Jarque-Bera (JB):                2.672\n",
              "Skew:                           0.166   Prob(JB):                        0.263\n",
              "Kurtosis:                       3.809   Cond. No.                         616.\n",
              "==============================================================================\n",
              "\n",
              "Warnings:\n",
              "[1] Standard Errors assume that the covariance matrix of the errors is correctly specified.\n",
              "\"\"\""
            ]
          },
          "metadata": {
            "tags": []
          },
          "execution_count": 63
        }
      ]
    },
    {
      "cell_type": "markdown",
      "metadata": {
        "id": "Up6NKpUPrxd4"
      },
      "source": [
        "The coefficient of ice cream sales decreased and the pvalue increased to above .05 indicating that the IceCreamSales predictor is not statistically signficant with 95% confidence"
      ]
    },
    {
      "cell_type": "markdown",
      "metadata": {
        "id": "THeCO8uGfKgx"
      },
      "source": [
        "# Perfect Multicollinearity #\n"
      ]
    },
    {
      "cell_type": "code",
      "metadata": {
        "colab": {
          "base_uri": "https://localhost:8080/",
          "height": 225
        },
        "id": "_DgXIHaLfOUc",
        "outputId": "125cc425-0d41-48f8-d24c-22f792229d97"
      },
      "source": [
        "shark['SalesNTax'] = shark['IceCreamSales'] * 1.25\n",
        "shark.corr()"
      ],
      "execution_count": 64,
      "outputs": [
        {
          "output_type": "execute_result",
          "data": {
            "text/html": [
              "<div>\n",
              "<style scoped>\n",
              "    .dataframe tbody tr th:only-of-type {\n",
              "        vertical-align: middle;\n",
              "    }\n",
              "\n",
              "    .dataframe tbody tr th {\n",
              "        vertical-align: top;\n",
              "    }\n",
              "\n",
              "    .dataframe thead th {\n",
              "        text-align: right;\n",
              "    }\n",
              "</style>\n",
              "<table border=\"1\" class=\"dataframe\">\n",
              "  <thead>\n",
              "    <tr style=\"text-align: right;\">\n",
              "      <th></th>\n",
              "      <th>Year</th>\n",
              "      <th>Month</th>\n",
              "      <th>SharkAttacks</th>\n",
              "      <th>Temperature</th>\n",
              "      <th>IceCreamSales</th>\n",
              "      <th>SalesNTax</th>\n",
              "    </tr>\n",
              "  </thead>\n",
              "  <tbody>\n",
              "    <tr>\n",
              "      <th>Year</th>\n",
              "      <td>1.000000</td>\n",
              "      <td>0.000000</td>\n",
              "      <td>-0.033364</td>\n",
              "      <td>0.010930</td>\n",
              "      <td>0.013402</td>\n",
              "      <td>0.013402</td>\n",
              "    </tr>\n",
              "    <tr>\n",
              "      <th>Month</th>\n",
              "      <td>0.000000</td>\n",
              "      <td>1.000000</td>\n",
              "      <td>0.275968</td>\n",
              "      <td>0.270830</td>\n",
              "      <td>-0.261145</td>\n",
              "      <td>-0.261145</td>\n",
              "    </tr>\n",
              "    <tr>\n",
              "      <th>SharkAttacks</th>\n",
              "      <td>-0.033364</td>\n",
              "      <td>0.275968</td>\n",
              "      <td>1.000000</td>\n",
              "      <td>0.716966</td>\n",
              "      <td>0.534358</td>\n",
              "      <td>0.534358</td>\n",
              "    </tr>\n",
              "    <tr>\n",
              "      <th>Temperature</th>\n",
              "      <td>0.010930</td>\n",
              "      <td>0.270830</td>\n",
              "      <td>0.716966</td>\n",
              "      <td>1.000000</td>\n",
              "      <td>0.595769</td>\n",
              "      <td>0.595769</td>\n",
              "    </tr>\n",
              "    <tr>\n",
              "      <th>IceCreamSales</th>\n",
              "      <td>0.013402</td>\n",
              "      <td>-0.261145</td>\n",
              "      <td>0.534358</td>\n",
              "      <td>0.595769</td>\n",
              "      <td>1.000000</td>\n",
              "      <td>1.000000</td>\n",
              "    </tr>\n",
              "    <tr>\n",
              "      <th>SalesNTax</th>\n",
              "      <td>0.013402</td>\n",
              "      <td>-0.261145</td>\n",
              "      <td>0.534358</td>\n",
              "      <td>0.595769</td>\n",
              "      <td>1.000000</td>\n",
              "      <td>1.000000</td>\n",
              "    </tr>\n",
              "  </tbody>\n",
              "</table>\n",
              "</div>"
            ],
            "text/plain": [
              "                   Year     Month  ...  IceCreamSales  SalesNTax\n",
              "Year           1.000000  0.000000  ...       0.013402   0.013402\n",
              "Month          0.000000  1.000000  ...      -0.261145  -0.261145\n",
              "SharkAttacks  -0.033364  0.275968  ...       0.534358   0.534358\n",
              "Temperature    0.010930  0.270830  ...       0.595769   0.595769\n",
              "IceCreamSales  0.013402 -0.261145  ...       1.000000   1.000000\n",
              "SalesNTax      0.013402 -0.261145  ...       1.000000   1.000000\n",
              "\n",
              "[6 rows x 6 columns]"
            ]
          },
          "metadata": {
            "tags": []
          },
          "execution_count": 64
        }
      ]
    },
    {
      "cell_type": "code",
      "metadata": {
        "colab": {
          "base_uri": "https://localhost:8080/",
          "height": 426
        },
        "id": "ohT6z7VMry4h",
        "outputId": "48fd61a2-99c7-468d-8f4c-ca00b84ac96b"
      },
      "source": [
        "#just ice cream sales\n",
        "X = sm.add_constant(shark[['IceCreamSales']])\n",
        "y = shark['SharkAttacks']\n",
        "model = sm.OLS(y, X).fit()\n",
        "model.summary()"
      ],
      "execution_count": 65,
      "outputs": [
        {
          "output_type": "execute_result",
          "data": {
            "text/html": [
              "<table class=\"simpletable\">\n",
              "<caption>OLS Regression Results</caption>\n",
              "<tr>\n",
              "  <th>Dep. Variable:</th>      <td>SharkAttacks</td>   <th>  R-squared:         </th> <td>   0.286</td>\n",
              "</tr>\n",
              "<tr>\n",
              "  <th>Model:</th>                   <td>OLS</td>       <th>  Adj. R-squared:    </th> <td>   0.277</td>\n",
              "</tr>\n",
              "<tr>\n",
              "  <th>Method:</th>             <td>Least Squares</td>  <th>  F-statistic:       </th> <td>   32.77</td>\n",
              "</tr>\n",
              "<tr>\n",
              "  <th>Date:</th>             <td>Tue, 11 May 2021</td> <th>  Prob (F-statistic):</th> <td>1.65e-07</td>\n",
              "</tr>\n",
              "<tr>\n",
              "  <th>Time:</th>                 <td>00:02:26</td>     <th>  Log-Likelihood:    </th> <td> -283.69</td>\n",
              "</tr>\n",
              "<tr>\n",
              "  <th>No. Observations:</th>      <td>    84</td>      <th>  AIC:               </th> <td>   571.4</td>\n",
              "</tr>\n",
              "<tr>\n",
              "  <th>Df Residuals:</th>          <td>    82</td>      <th>  BIC:               </th> <td>   576.2</td>\n",
              "</tr>\n",
              "<tr>\n",
              "  <th>Df Model:</th>              <td>     1</td>      <th>                     </th>     <td> </td>   \n",
              "</tr>\n",
              "<tr>\n",
              "  <th>Covariance Type:</th>      <td>nonrobust</td>    <th>                     </th>     <td> </td>   \n",
              "</tr>\n",
              "</table>\n",
              "<table class=\"simpletable\">\n",
              "<tr>\n",
              "        <td></td>           <th>coef</th>     <th>std err</th>      <th>t</th>      <th>P>|t|</th>  <th>[0.025</th>    <th>0.975]</th>  \n",
              "</tr>\n",
              "<tr>\n",
              "  <th>const</th>         <td>    4.3523</td> <td>    5.238</td> <td>    0.831</td> <td> 0.408</td> <td>   -6.067</td> <td>   14.772</td>\n",
              "</tr>\n",
              "<tr>\n",
              "  <th>IceCreamSales</th> <td>    0.3363</td> <td>    0.059</td> <td>    5.725</td> <td> 0.000</td> <td>    0.219</td> <td>    0.453</td>\n",
              "</tr>\n",
              "</table>\n",
              "<table class=\"simpletable\">\n",
              "<tr>\n",
              "  <th>Omnibus:</th>       <td> 0.421</td> <th>  Durbin-Watson:     </th> <td>   1.844</td>\n",
              "</tr>\n",
              "<tr>\n",
              "  <th>Prob(Omnibus):</th> <td> 0.810</td> <th>  Jarque-Bera (JB):  </th> <td>   0.423</td>\n",
              "</tr>\n",
              "<tr>\n",
              "  <th>Skew:</th>          <td> 0.161</td> <th>  Prob(JB):          </th> <td>   0.809</td>\n",
              "</tr>\n",
              "<tr>\n",
              "  <th>Kurtosis:</th>      <td> 2.871</td> <th>  Cond. No.          </th> <td>    597.</td>\n",
              "</tr>\n",
              "</table><br/><br/>Warnings:<br/>[1] Standard Errors assume that the covariance matrix of the errors is correctly specified."
            ],
            "text/plain": [
              "<class 'statsmodels.iolib.summary.Summary'>\n",
              "\"\"\"\n",
              "                            OLS Regression Results                            \n",
              "==============================================================================\n",
              "Dep. Variable:           SharkAttacks   R-squared:                       0.286\n",
              "Model:                            OLS   Adj. R-squared:                  0.277\n",
              "Method:                 Least Squares   F-statistic:                     32.77\n",
              "Date:                Tue, 11 May 2021   Prob (F-statistic):           1.65e-07\n",
              "Time:                        00:02:26   Log-Likelihood:                -283.69\n",
              "No. Observations:                  84   AIC:                             571.4\n",
              "Df Residuals:                      82   BIC:                             576.2\n",
              "Df Model:                           1                                         \n",
              "Covariance Type:            nonrobust                                         \n",
              "=================================================================================\n",
              "                    coef    std err          t      P>|t|      [0.025      0.975]\n",
              "---------------------------------------------------------------------------------\n",
              "const             4.3523      5.238      0.831      0.408      -6.067      14.772\n",
              "IceCreamSales     0.3363      0.059      5.725      0.000       0.219       0.453\n",
              "==============================================================================\n",
              "Omnibus:                        0.421   Durbin-Watson:                   1.844\n",
              "Prob(Omnibus):                  0.810   Jarque-Bera (JB):                0.423\n",
              "Skew:                           0.161   Prob(JB):                        0.809\n",
              "Kurtosis:                       2.871   Cond. No.                         597.\n",
              "==============================================================================\n",
              "\n",
              "Warnings:\n",
              "[1] Standard Errors assume that the covariance matrix of the errors is correctly specified.\n",
              "\"\"\""
            ]
          },
          "metadata": {
            "tags": []
          },
          "execution_count": 65
        }
      ]
    },
    {
      "cell_type": "code",
      "metadata": {
        "id": "5xLy__K6r25K",
        "colab": {
          "base_uri": "https://localhost:8080/",
          "height": 426
        },
        "outputId": "00faf184-c99a-4137-ac4a-69f38e121df9"
      },
      "source": [
        "#just sales and tax\n",
        "X = sm.add_constant(shark[['SalesNTax']])\n",
        "y = shark['SharkAttacks']\n",
        "model = sm.OLS(y, X).fit()\n",
        "model.summary()"
      ],
      "execution_count": 66,
      "outputs": [
        {
          "output_type": "execute_result",
          "data": {
            "text/html": [
              "<table class=\"simpletable\">\n",
              "<caption>OLS Regression Results</caption>\n",
              "<tr>\n",
              "  <th>Dep. Variable:</th>      <td>SharkAttacks</td>   <th>  R-squared:         </th> <td>   0.286</td>\n",
              "</tr>\n",
              "<tr>\n",
              "  <th>Model:</th>                   <td>OLS</td>       <th>  Adj. R-squared:    </th> <td>   0.277</td>\n",
              "</tr>\n",
              "<tr>\n",
              "  <th>Method:</th>             <td>Least Squares</td>  <th>  F-statistic:       </th> <td>   32.77</td>\n",
              "</tr>\n",
              "<tr>\n",
              "  <th>Date:</th>             <td>Tue, 11 May 2021</td> <th>  Prob (F-statistic):</th> <td>1.65e-07</td>\n",
              "</tr>\n",
              "<tr>\n",
              "  <th>Time:</th>                 <td>00:02:26</td>     <th>  Log-Likelihood:    </th> <td> -283.69</td>\n",
              "</tr>\n",
              "<tr>\n",
              "  <th>No. Observations:</th>      <td>    84</td>      <th>  AIC:               </th> <td>   571.4</td>\n",
              "</tr>\n",
              "<tr>\n",
              "  <th>Df Residuals:</th>          <td>    82</td>      <th>  BIC:               </th> <td>   576.2</td>\n",
              "</tr>\n",
              "<tr>\n",
              "  <th>Df Model:</th>              <td>     1</td>      <th>                     </th>     <td> </td>   \n",
              "</tr>\n",
              "<tr>\n",
              "  <th>Covariance Type:</th>      <td>nonrobust</td>    <th>                     </th>     <td> </td>   \n",
              "</tr>\n",
              "</table>\n",
              "<table class=\"simpletable\">\n",
              "<tr>\n",
              "      <td></td>         <th>coef</th>     <th>std err</th>      <th>t</th>      <th>P>|t|</th>  <th>[0.025</th>    <th>0.975]</th>  \n",
              "</tr>\n",
              "<tr>\n",
              "  <th>const</th>     <td>    4.3523</td> <td>    5.238</td> <td>    0.831</td> <td> 0.408</td> <td>   -6.067</td> <td>   14.772</td>\n",
              "</tr>\n",
              "<tr>\n",
              "  <th>SalesNTax</th> <td>    0.2690</td> <td>    0.047</td> <td>    5.725</td> <td> 0.000</td> <td>    0.176</td> <td>    0.362</td>\n",
              "</tr>\n",
              "</table>\n",
              "<table class=\"simpletable\">\n",
              "<tr>\n",
              "  <th>Omnibus:</th>       <td> 0.421</td> <th>  Durbin-Watson:     </th> <td>   1.844</td>\n",
              "</tr>\n",
              "<tr>\n",
              "  <th>Prob(Omnibus):</th> <td> 0.810</td> <th>  Jarque-Bera (JB):  </th> <td>   0.423</td>\n",
              "</tr>\n",
              "<tr>\n",
              "  <th>Skew:</th>          <td> 0.161</td> <th>  Prob(JB):          </th> <td>   0.809</td>\n",
              "</tr>\n",
              "<tr>\n",
              "  <th>Kurtosis:</th>      <td> 2.871</td> <th>  Cond. No.          </th> <td>    746.</td>\n",
              "</tr>\n",
              "</table><br/><br/>Warnings:<br/>[1] Standard Errors assume that the covariance matrix of the errors is correctly specified."
            ],
            "text/plain": [
              "<class 'statsmodels.iolib.summary.Summary'>\n",
              "\"\"\"\n",
              "                            OLS Regression Results                            \n",
              "==============================================================================\n",
              "Dep. Variable:           SharkAttacks   R-squared:                       0.286\n",
              "Model:                            OLS   Adj. R-squared:                  0.277\n",
              "Method:                 Least Squares   F-statistic:                     32.77\n",
              "Date:                Tue, 11 May 2021   Prob (F-statistic):           1.65e-07\n",
              "Time:                        00:02:26   Log-Likelihood:                -283.69\n",
              "No. Observations:                  84   AIC:                             571.4\n",
              "Df Residuals:                      82   BIC:                             576.2\n",
              "Df Model:                           1                                         \n",
              "Covariance Type:            nonrobust                                         \n",
              "==============================================================================\n",
              "                 coef    std err          t      P>|t|      [0.025      0.975]\n",
              "------------------------------------------------------------------------------\n",
              "const          4.3523      5.238      0.831      0.408      -6.067      14.772\n",
              "SalesNTax      0.2690      0.047      5.725      0.000       0.176       0.362\n",
              "==============================================================================\n",
              "Omnibus:                        0.421   Durbin-Watson:                   1.844\n",
              "Prob(Omnibus):                  0.810   Jarque-Bera (JB):                0.423\n",
              "Skew:                           0.161   Prob(JB):                        0.809\n",
              "Kurtosis:                       2.871   Cond. No.                         746.\n",
              "==============================================================================\n",
              "\n",
              "Warnings:\n",
              "[1] Standard Errors assume that the covariance matrix of the errors is correctly specified.\n",
              "\"\"\""
            ]
          },
          "metadata": {
            "tags": []
          },
          "execution_count": 66
        }
      ]
    },
    {
      "cell_type": "code",
      "metadata": {
        "colab": {
          "base_uri": "https://localhost:8080/",
          "height": 479
        },
        "id": "Gcb09riBsopX",
        "outputId": "5af6904c-43cf-4023-dab9-6c560e511ba2"
      },
      "source": [
        "X = sm.add_constant(shark[['IceCreamSales', 'SalesNTax']])\n",
        "y = shark['SharkAttacks']\n",
        "model = sm.OLS(y, X).fit()\n",
        "model.summary()"
      ],
      "execution_count": 67,
      "outputs": [
        {
          "output_type": "execute_result",
          "data": {
            "text/html": [
              "<table class=\"simpletable\">\n",
              "<caption>OLS Regression Results</caption>\n",
              "<tr>\n",
              "  <th>Dep. Variable:</th>      <td>SharkAttacks</td>   <th>  R-squared:         </th> <td>   0.286</td>\n",
              "</tr>\n",
              "<tr>\n",
              "  <th>Model:</th>                   <td>OLS</td>       <th>  Adj. R-squared:    </th> <td>   0.277</td>\n",
              "</tr>\n",
              "<tr>\n",
              "  <th>Method:</th>             <td>Least Squares</td>  <th>  F-statistic:       </th> <td>   32.77</td>\n",
              "</tr>\n",
              "<tr>\n",
              "  <th>Date:</th>             <td>Tue, 11 May 2021</td> <th>  Prob (F-statistic):</th> <td>1.65e-07</td>\n",
              "</tr>\n",
              "<tr>\n",
              "  <th>Time:</th>                 <td>00:02:26</td>     <th>  Log-Likelihood:    </th> <td> -283.69</td>\n",
              "</tr>\n",
              "<tr>\n",
              "  <th>No. Observations:</th>      <td>    84</td>      <th>  AIC:               </th> <td>   571.4</td>\n",
              "</tr>\n",
              "<tr>\n",
              "  <th>Df Residuals:</th>          <td>    82</td>      <th>  BIC:               </th> <td>   576.2</td>\n",
              "</tr>\n",
              "<tr>\n",
              "  <th>Df Model:</th>              <td>     1</td>      <th>                     </th>     <td> </td>   \n",
              "</tr>\n",
              "<tr>\n",
              "  <th>Covariance Type:</th>      <td>nonrobust</td>    <th>                     </th>     <td> </td>   \n",
              "</tr>\n",
              "</table>\n",
              "<table class=\"simpletable\">\n",
              "<tr>\n",
              "        <td></td>           <th>coef</th>     <th>std err</th>      <th>t</th>      <th>P>|t|</th>  <th>[0.025</th>    <th>0.975]</th>  \n",
              "</tr>\n",
              "<tr>\n",
              "  <th>const</th>         <td>    4.3523</td> <td>    5.238</td> <td>    0.831</td> <td> 0.408</td> <td>   -6.067</td> <td>   14.772</td>\n",
              "</tr>\n",
              "<tr>\n",
              "  <th>IceCreamSales</th> <td>    0.1312</td> <td>    0.023</td> <td>    5.725</td> <td> 0.000</td> <td>    0.086</td> <td>    0.177</td>\n",
              "</tr>\n",
              "<tr>\n",
              "  <th>SalesNTax</th>     <td>    0.1640</td> <td>    0.029</td> <td>    5.725</td> <td> 0.000</td> <td>    0.107</td> <td>    0.221</td>\n",
              "</tr>\n",
              "</table>\n",
              "<table class=\"simpletable\">\n",
              "<tr>\n",
              "  <th>Omnibus:</th>       <td> 0.421</td> <th>  Durbin-Watson:     </th> <td>   1.844</td>\n",
              "</tr>\n",
              "<tr>\n",
              "  <th>Prob(Omnibus):</th> <td> 0.810</td> <th>  Jarque-Bera (JB):  </th> <td>   0.423</td>\n",
              "</tr>\n",
              "<tr>\n",
              "  <th>Skew:</th>          <td> 0.161</td> <th>  Prob(JB):          </th> <td>   0.809</td>\n",
              "</tr>\n",
              "<tr>\n",
              "  <th>Kurtosis:</th>      <td> 2.871</td> <th>  Cond. No.          </th> <td>1.79e+16</td>\n",
              "</tr>\n",
              "</table><br/><br/>Warnings:<br/>[1] Standard Errors assume that the covariance matrix of the errors is correctly specified.<br/>[2] The smallest eigenvalue is 5.36e-27. This might indicate that there are<br/>strong multicollinearity problems or that the design matrix is singular."
            ],
            "text/plain": [
              "<class 'statsmodels.iolib.summary.Summary'>\n",
              "\"\"\"\n",
              "                            OLS Regression Results                            \n",
              "==============================================================================\n",
              "Dep. Variable:           SharkAttacks   R-squared:                       0.286\n",
              "Model:                            OLS   Adj. R-squared:                  0.277\n",
              "Method:                 Least Squares   F-statistic:                     32.77\n",
              "Date:                Tue, 11 May 2021   Prob (F-statistic):           1.65e-07\n",
              "Time:                        00:02:26   Log-Likelihood:                -283.69\n",
              "No. Observations:                  84   AIC:                             571.4\n",
              "Df Residuals:                      82   BIC:                             576.2\n",
              "Df Model:                           1                                         \n",
              "Covariance Type:            nonrobust                                         \n",
              "=================================================================================\n",
              "                    coef    std err          t      P>|t|      [0.025      0.975]\n",
              "---------------------------------------------------------------------------------\n",
              "const             4.3523      5.238      0.831      0.408      -6.067      14.772\n",
              "IceCreamSales     0.1312      0.023      5.725      0.000       0.086       0.177\n",
              "SalesNTax         0.1640      0.029      5.725      0.000       0.107       0.221\n",
              "==============================================================================\n",
              "Omnibus:                        0.421   Durbin-Watson:                   1.844\n",
              "Prob(Omnibus):                  0.810   Jarque-Bera (JB):                0.423\n",
              "Skew:                           0.161   Prob(JB):                        0.809\n",
              "Kurtosis:                       2.871   Cond. No.                     1.79e+16\n",
              "==============================================================================\n",
              "\n",
              "Warnings:\n",
              "[1] Standard Errors assume that the covariance matrix of the errors is correctly specified.\n",
              "[2] The smallest eigenvalue is 5.36e-27. This might indicate that there are\n",
              "strong multicollinearity problems or that the design matrix is singular.\n",
              "\"\"\""
            ]
          },
          "metadata": {
            "tags": []
          },
          "execution_count": 67
        }
      ]
    },
    {
      "cell_type": "markdown",
      "metadata": {
        "id": "J5gf52gUfSdv"
      },
      "source": [
        "# Heteroskedasticity #"
      ]
    },
    {
      "cell_type": "code",
      "metadata": {
        "id": "GccQ1jtPfUGN"
      },
      "source": [
        "n = 100\n",
        "x = 25*np.random.randn(n)\n",
        "x = x[x > 0]\n",
        "sigma = 2.5\n",
        "noise = sigma*np.random.randn(len(x))\n",
        "\n",
        "y = 280 + 3*x + noise*x\n",
        "#y = 280 + 3*x + noise"
      ],
      "execution_count": 68,
      "outputs": []
    },
    {
      "cell_type": "code",
      "metadata": {
        "colab": {
          "base_uri": "https://localhost:8080/",
          "height": 338
        },
        "id": "imyr0s4E5ymq",
        "outputId": "f6d491aa-584a-4f99-b72c-2f7c06c9511e"
      },
      "source": [
        "sns.scatterplot(x, y)"
      ],
      "execution_count": 69,
      "outputs": [
        {
          "output_type": "stream",
          "text": [
            "/usr/local/lib/python3.7/dist-packages/seaborn/_decorators.py:43: FutureWarning: Pass the following variables as keyword args: x, y. From version 0.12, the only valid positional argument will be `data`, and passing other arguments without an explicit keyword will result in an error or misinterpretation.\n",
            "  FutureWarning\n"
          ],
          "name": "stderr"
        },
        {
          "output_type": "execute_result",
          "data": {
            "text/plain": [
              "<matplotlib.axes._subplots.AxesSubplot at 0x7fe08c502750>"
            ]
          },
          "metadata": {
            "tags": []
          },
          "execution_count": 69
        },
        {
          "output_type": "display_data",
          "data": {
            "image/png": "[encoded data removed]",
            "text/plain": [
              "<Figure size 432x288 with 1 Axes>"
            ]
          },
          "metadata": {
            "tags": [],
            "needs_background": "light"
          }
        }
      ]
    },
    {
      "cell_type": "code",
      "metadata": {
        "colab": {
          "base_uri": "https://localhost:8080/",
          "height": 426
        },
        "id": "1_iMZIYySvOE",
        "outputId": "7ec30d8f-d097-4167-adb6-423bab42b776"
      },
      "source": [
        "X = sm.add_constant(x)\n",
        "model = sm.OLS(y, X).fit()\n",
        "\n",
        "model.summary()"
      ],
      "execution_count": 70,
      "outputs": [
        {
          "output_type": "execute_result",
          "data": {
            "text/html": [
              "<table class=\"simpletable\">\n",
              "<caption>OLS Regression Results</caption>\n",
              "<tr>\n",
              "  <th>Dep. Variable:</th>            <td>y</td>        <th>  R-squared:         </th> <td>   0.198</td>\n",
              "</tr>\n",
              "<tr>\n",
              "  <th>Model:</th>                   <td>OLS</td>       <th>  Adj. R-squared:    </th> <td>   0.182</td>\n",
              "</tr>\n",
              "<tr>\n",
              "  <th>Method:</th>             <td>Least Squares</td>  <th>  F-statistic:       </th> <td>   12.09</td>\n",
              "</tr>\n",
              "<tr>\n",
              "  <th>Date:</th>             <td>Tue, 11 May 2021</td> <th>  Prob (F-statistic):</th>  <td>0.00107</td>\n",
              "</tr>\n",
              "<tr>\n",
              "  <th>Time:</th>                 <td>00:02:27</td>     <th>  Log-Likelihood:    </th> <td> -294.11</td>\n",
              "</tr>\n",
              "<tr>\n",
              "  <th>No. Observations:</th>      <td>    51</td>      <th>  AIC:               </th> <td>   592.2</td>\n",
              "</tr>\n",
              "<tr>\n",
              "  <th>Df Residuals:</th>          <td>    49</td>      <th>  BIC:               </th> <td>   596.1</td>\n",
              "</tr>\n",
              "<tr>\n",
              "  <th>Df Model:</th>              <td>     1</td>      <th>                     </th>     <td> </td>   \n",
              "</tr>\n",
              "<tr>\n",
              "  <th>Covariance Type:</th>      <td>nonrobust</td>    <th>                     </th>     <td> </td>   \n",
              "</tr>\n",
              "</table>\n",
              "<table class=\"simpletable\">\n",
              "<tr>\n",
              "    <td></td>       <th>coef</th>     <th>std err</th>      <th>t</th>      <th>P>|t|</th>  <th>[0.025</th>    <th>0.975]</th>  \n",
              "</tr>\n",
              "<tr>\n",
              "  <th>const</th> <td>  280.6014</td> <td>   21.035</td> <td>   13.340</td> <td> 0.000</td> <td>  238.330</td> <td>  322.873</td>\n",
              "</tr>\n",
              "<tr>\n",
              "  <th>x1</th>    <td>    2.8817</td> <td>    0.829</td> <td>    3.477</td> <td> 0.001</td> <td>    1.216</td> <td>    4.547</td>\n",
              "</tr>\n",
              "</table>\n",
              "<table class=\"simpletable\">\n",
              "<tr>\n",
              "  <th>Omnibus:</th>       <td>21.254</td> <th>  Durbin-Watson:     </th> <td>   2.074</td>\n",
              "</tr>\n",
              "<tr>\n",
              "  <th>Prob(Omnibus):</th> <td> 0.000</td> <th>  Jarque-Bera (JB):  </th> <td>  86.877</td>\n",
              "</tr>\n",
              "<tr>\n",
              "  <th>Skew:</th>          <td> 0.788</td> <th>  Prob(JB):          </th> <td>1.36e-19</td>\n",
              "</tr>\n",
              "<tr>\n",
              "  <th>Kurtosis:</th>      <td> 9.197</td> <th>  Cond. No.          </th> <td>    48.4</td>\n",
              "</tr>\n",
              "</table><br/><br/>Warnings:<br/>[1] Standard Errors assume that the covariance matrix of the errors is correctly specified."
            ],
            "text/plain": [
              "<class 'statsmodels.iolib.summary.Summary'>\n",
              "\"\"\"\n",
              "                            OLS Regression Results                            \n",
              "==============================================================================\n",
              "Dep. Variable:                      y   R-squared:                       0.198\n",
              "Model:                            OLS   Adj. R-squared:                  0.182\n",
              "Method:                 Least Squares   F-statistic:                     12.09\n",
              "Date:                Tue, 11 May 2021   Prob (F-statistic):            0.00107\n",
              "Time:                        00:02:27   Log-Likelihood:                -294.11\n",
              "No. Observations:                  51   AIC:                             592.2\n",
              "Df Residuals:                      49   BIC:                             596.1\n",
              "Df Model:                           1                                         \n",
              "Covariance Type:            nonrobust                                         \n",
              "==============================================================================\n",
              "                 coef    std err          t      P>|t|      [0.025      0.975]\n",
              "------------------------------------------------------------------------------\n",
              "const        280.6014     21.035     13.340      0.000     238.330     322.873\n",
              "x1             2.8817      0.829      3.477      0.001       1.216       4.547\n",
              "==============================================================================\n",
              "Omnibus:                       21.254   Durbin-Watson:                   2.074\n",
              "Prob(Omnibus):                  0.000   Jarque-Bera (JB):               86.877\n",
              "Skew:                           0.788   Prob(JB):                     1.36e-19\n",
              "Kurtosis:                       9.197   Cond. No.                         48.4\n",
              "==============================================================================\n",
              "\n",
              "Warnings:\n",
              "[1] Standard Errors assume that the covariance matrix of the errors is correctly specified.\n",
              "\"\"\""
            ]
          },
          "metadata": {
            "tags": []
          },
          "execution_count": 70
        }
      ]
    },
    {
      "cell_type": "code",
      "metadata": {
        "colab": {
          "base_uri": "https://localhost:8080/",
          "height": 338
        },
        "id": "kN__E7OCSyuc",
        "outputId": "e41b613f-5e1a-40cd-dbab-c301720aa082"
      },
      "source": [
        "y_pred = model.predict(X)\n",
        "sns.scatterplot(y,y-y_pred)"
      ],
      "execution_count": 71,
      "outputs": [
        {
          "output_type": "stream",
          "text": [
            "/usr/local/lib/python3.7/dist-packages/seaborn/_decorators.py:43: FutureWarning: Pass the following variables as keyword args: x, y. From version 0.12, the only valid positional argument will be `data`, and passing other arguments without an explicit keyword will result in an error or misinterpretation.\n",
            "  FutureWarning\n"
          ],
          "name": "stderr"
        },
        {
          "output_type": "execute_result",
          "data": {
            "text/plain": [
              "<matplotlib.axes._subplots.AxesSubplot at 0x7fe08c562450>"
            ]
          },
          "metadata": {
            "tags": []
          },
          "execution_count": 71
        },
        {
          "output_type": "display_data",
          "data": {
            "image/png": "[encoded data removed]",
            "text/plain": [
              "<Figure size 432x288 with 1 Axes>"
            ]
          },
          "metadata": {
            "tags": [],
            "needs_background": "light"
          }
        }
      ]
    },
    {
      "cell_type": "code",
      "metadata": {
        "colab": {
          "base_uri": "https://localhost:8080/",
          "height": 344
        },
        "id": "2VeLzVz56ecw",
        "outputId": "e4910714-a462-4b64-ef95-667b3d8ea77a"
      },
      "source": [
        "model = sm.RLM(y, X).fit()\n",
        "\n",
        "model.summary()"
      ],
      "execution_count": 72,
      "outputs": [
        {
          "output_type": "execute_result",
          "data": {
            "text/html": [
              "<table class=\"simpletable\">\n",
              "<caption>Robust linear Model Regression Results</caption>\n",
              "<tr>\n",
              "  <th>Dep. Variable:</th>          <td>y</td>        <th>  No. Observations:  </th> <td>    51</td>\n",
              "</tr>\n",
              "<tr>\n",
              "  <th>Model:</th>                 <td>RLM</td>       <th>  Df Residuals:      </th> <td>    49</td>\n",
              "</tr>\n",
              "<tr>\n",
              "  <th>Method:</th>               <td>IRLS</td>       <th>  Df Model:          </th> <td>     1</td>\n",
              "</tr>\n",
              "<tr>\n",
              "  <th>Norm:</th>                <td>HuberT</td>      <th>                     </th>    <td> </td>  \n",
              "</tr>\n",
              "<tr>\n",
              "  <th>Scale Est.:</th>            <td>mad</td>       <th>                     </th>    <td> </td>  \n",
              "</tr>\n",
              "<tr>\n",
              "  <th>Cov Type:</th>              <td>H1</td>        <th>                     </th>    <td> </td>  \n",
              "</tr>\n",
              "<tr>\n",
              "  <th>Date:</th>           <td>Tue, 11 May 2021</td> <th>                     </th>    <td> </td>  \n",
              "</tr>\n",
              "<tr>\n",
              "  <th>Time:</th>               <td>00:02:27</td>     <th>                     </th>    <td> </td>  \n",
              "</tr>\n",
              "<tr>\n",
              "  <th>No. Iterations:</th>        <td>12</td>        <th>                     </th>    <td> </td>  \n",
              "</tr>\n",
              "</table>\n",
              "<table class=\"simpletable\">\n",
              "<tr>\n",
              "    <td></td>       <th>coef</th>     <th>std err</th>      <th>z</th>      <th>P>|z|</th>  <th>[0.025</th>    <th>0.975]</th>  \n",
              "</tr>\n",
              "<tr>\n",
              "  <th>const</th> <td>  279.3360</td> <td>   12.714</td> <td>   21.971</td> <td> 0.000</td> <td>  254.417</td> <td>  304.255</td>\n",
              "</tr>\n",
              "<tr>\n",
              "  <th>x1</th>    <td>    2.8074</td> <td>    0.501</td> <td>    5.604</td> <td> 0.000</td> <td>    1.826</td> <td>    3.789</td>\n",
              "</tr>\n",
              "</table><br/><br/>If the model instance has been used for another fit with different fit<br/>parameters, then the fit options might not be the correct ones anymore ."
            ],
            "text/plain": [
              "<class 'statsmodels.iolib.summary.Summary'>\n",
              "\"\"\"\n",
              "                    Robust linear Model Regression Results                    \n",
              "==============================================================================\n",
              "Dep. Variable:                      y   No. Observations:                   51\n",
              "Model:                            RLM   Df Residuals:                       49\n",
              "Method:                          IRLS   Df Model:                            1\n",
              "Norm:                          HuberT                                         \n",
              "Scale Est.:                       mad                                         \n",
              "Cov Type:                          H1                                         \n",
              "Date:                Tue, 11 May 2021                                         \n",
              "Time:                        00:02:27                                         \n",
              "No. Iterations:                    12                                         \n",
              "==============================================================================\n",
              "                 coef    std err          z      P>|z|      [0.025      0.975]\n",
              "------------------------------------------------------------------------------\n",
              "const        279.3360     12.714     21.971      0.000     254.417     304.255\n",
              "x1             2.8074      0.501      5.604      0.000       1.826       3.789\n",
              "==============================================================================\n",
              "\n",
              "If the model instance has been used for another fit with different fit\n",
              "parameters, then the fit options might not be the correct ones anymore .\n",
              "\"\"\""
            ]
          },
          "metadata": {
            "tags": []
          },
          "execution_count": 72
        }
      ]
    },
    {
      "cell_type": "code",
      "metadata": {
        "colab": {
          "base_uri": "https://localhost:8080/",
          "height": 338
        },
        "id": "cBjlVXVv7iGN",
        "outputId": "b4d519e2-3b6d-456f-b52f-b3d6d010d9b2"
      },
      "source": [
        "y_pred = model.predict(X)\n",
        "sns.scatterplot(y,y-y_pred)"
      ],
      "execution_count": 73,
      "outputs": [
        {
          "output_type": "stream",
          "text": [
            "/usr/local/lib/python3.7/dist-packages/seaborn/_decorators.py:43: FutureWarning: Pass the following variables as keyword args: x, y. From version 0.12, the only valid positional argument will be `data`, and passing other arguments without an explicit keyword will result in an error or misinterpretation.\n",
            "  FutureWarning\n"
          ],
          "name": "stderr"
        },
        {
          "output_type": "execute_result",
          "data": {
            "text/plain": [
              "<matplotlib.axes._subplots.AxesSubplot at 0x7fe08c46ec90>"
            ]
          },
          "metadata": {
            "tags": []
          },
          "execution_count": 73
        },
        {
          "output_type": "display_data",
          "data": {
            "image/png": "[encoded data removed]",
            "text/plain": [
              "<Figure size 432x288 with 1 Axes>"
            ]
          },
          "metadata": {
            "tags": [],
            "needs_background": "light"
          }
        }
      ]
    },
    {
      "cell_type": "markdown",
      "metadata": {
        "id": "zen3VeGrUFt6"
      },
      "source": [
        "# Nonlinearity #"
      ]
    },
    {
      "cell_type": "code",
      "metadata": {
        "colab": {
          "base_uri": "https://localhost:8080/",
          "height": 338
        },
        "id": "BVCWrFdkf5mx",
        "outputId": "1dfb9c1a-7253-4874-db33-cf5e9667ab6d"
      },
      "source": [
        "#True form of exponential data\n",
        "n = 100\n",
        "x = np.random.randn(n)\n",
        "ytrue = 5 + 0.5*x**2\n",
        "\n",
        "sns.scatterplot(x, ytrue)"
      ],
      "execution_count": 74,
      "outputs": [
        {
          "output_type": "stream",
          "text": [
            "/usr/local/lib/python3.7/dist-packages/seaborn/_decorators.py:43: FutureWarning: Pass the following variables as keyword args: x, y. From version 0.12, the only valid positional argument will be `data`, and passing other arguments without an explicit keyword will result in an error or misinterpretation.\n",
            "  FutureWarning\n"
          ],
          "name": "stderr"
        },
        {
          "output_type": "execute_result",
          "data": {
            "text/plain": [
              "<matplotlib.axes._subplots.AxesSubplot at 0x7fe08c3f3790>"
            ]
          },
          "metadata": {
            "tags": []
          },
          "execution_count": 74
        },
        {
          "output_type": "display_data",
          "data": {
            "image/png": "[encoded data removed]",
            "text/plain": [
              "<Figure size 432x288 with 1 Axes>"
            ]
          },
          "metadata": {
            "tags": [],
            "needs_background": "light"
          }
        }
      ]
    },
    {
      "cell_type": "code",
      "metadata": {
        "id": "-0Gn9SPu8Nh9",
        "colab": {
          "base_uri": "https://localhost:8080/",
          "height": 338
        },
        "outputId": "27488d0c-a9c1-4917-baa5-74f1135cdf51"
      },
      "source": [
        "#noisy form of exponential data\n",
        "noise = 1.5*np.random.randn(n)\n",
        "ynoise = ytrue+noise\n",
        "\n",
        "sns.scatterplot(x, ynoise)"
      ],
      "execution_count": 75,
      "outputs": [
        {
          "output_type": "stream",
          "text": [
            "/usr/local/lib/python3.7/dist-packages/seaborn/_decorators.py:43: FutureWarning: Pass the following variables as keyword args: x, y. From version 0.12, the only valid positional argument will be `data`, and passing other arguments without an explicit keyword will result in an error or misinterpretation.\n",
            "  FutureWarning\n"
          ],
          "name": "stderr"
        },
        {
          "output_type": "execute_result",
          "data": {
            "text/plain": [
              "<matplotlib.axes._subplots.AxesSubplot at 0x7fe08c360f10>"
            ]
          },
          "metadata": {
            "tags": []
          },
          "execution_count": 75
        },
        {
          "output_type": "display_data",
          "data": {
            "image/png": "[encoded data removed]",
            "text/plain": [
              "<Figure size 432x288 with 1 Axes>"
            ]
          },
          "metadata": {
            "tags": [],
            "needs_background": "light"
          }
        }
      ]
    },
    {
      "cell_type": "code",
      "metadata": {
        "colab": {
          "base_uri": "https://localhost:8080/",
          "height": 338
        },
        "id": "EDCvi_B3gIYi",
        "outputId": "e5c6a1d9-1142-4a10-f197-387435d37bf6"
      },
      "source": [
        "#True form linear regression\n",
        "sns.scatterplot(x, ytrue)\n",
        "m, b = np.polyfit(x, ytrue, 1)\n",
        "plt.plot(x, m*x+b, color = 'r')"
      ],
      "execution_count": 76,
      "outputs": [
        {
          "output_type": "stream",
          "text": [
            "/usr/local/lib/python3.7/dist-packages/seaborn/_decorators.py:43: FutureWarning: Pass the following variables as keyword args: x, y. From version 0.12, the only valid positional argument will be `data`, and passing other arguments without an explicit keyword will result in an error or misinterpretation.\n",
            "  FutureWarning\n"
          ],
          "name": "stderr"
        },
        {
          "output_type": "execute_result",
          "data": {
            "text/plain": [
              "[<matplotlib.lines.Line2D at 0x7fe08c2f6690>]"
            ]
          },
          "metadata": {
            "tags": []
          },
          "execution_count": 76
        },
        {
          "output_type": "display_data",
          "data": {
            "image/png": "[encoded data removed]",
            "text/plain": [
              "<Figure size 432x288 with 1 Axes>"
            ]
          },
          "metadata": {
            "tags": [],
            "needs_background": "light"
          }
        }
      ]
    },
    {
      "cell_type": "code",
      "metadata": {
        "colab": {
          "base_uri": "https://localhost:8080/",
          "height": 338
        },
        "id": "EGcKCvsge5vS",
        "outputId": "e14236b5-f671-4a7a-ffdd-f655d64bf5cd"
      },
      "source": [
        "#noisy form linear regression\n",
        "sns.scatterplot(x, ynoise)\n",
        "m, b = np.polyfit(x, ynoise, 1)\n",
        "plt.plot(x, m*x+b, color = 'r')"
      ],
      "execution_count": 77,
      "outputs": [
        {
          "output_type": "stream",
          "text": [
            "/usr/local/lib/python3.7/dist-packages/seaborn/_decorators.py:43: FutureWarning: Pass the following variables as keyword args: x, y. From version 0.12, the only valid positional argument will be `data`, and passing other arguments without an explicit keyword will result in an error or misinterpretation.\n",
            "  FutureWarning\n"
          ],
          "name": "stderr"
        },
        {
          "output_type": "execute_result",
          "data": {
            "text/plain": [
              "[<matplotlib.lines.Line2D at 0x7fe08c25cd10>]"
            ]
          },
          "metadata": {
            "tags": []
          },
          "execution_count": 77
        },
        {
          "output_type": "display_data",
          "data": {
            "image/png": "[encoded data removed]",
            "text/plain": [
              "<Figure size 432x288 with 1 Axes>"
            ]
          },
          "metadata": {
            "tags": [],
            "needs_background": "light"
          }
        }
      ]
    },
    {
      "cell_type": "code",
      "metadata": {
        "colab": {
          "base_uri": "https://localhost:8080/",
          "height": 426
        },
        "id": "Nv7RtRSAUnQ9",
        "outputId": "0f1002c9-2dcd-4797-e674-a5eb30a8e1a1"
      },
      "source": [
        "X = sm.add_constant(x)\n",
        "model = sm.OLS(ynoise, X).fit()\n",
        "\n",
        "model.summary()"
      ],
      "execution_count": 78,
      "outputs": [
        {
          "output_type": "execute_result",
          "data": {
            "text/html": [
              "<table class=\"simpletable\">\n",
              "<caption>OLS Regression Results</caption>\n",
              "<tr>\n",
              "  <th>Dep. Variable:</th>            <td>y</td>        <th>  R-squared:         </th> <td>   0.001</td>\n",
              "</tr>\n",
              "<tr>\n",
              "  <th>Model:</th>                   <td>OLS</td>       <th>  Adj. R-squared:    </th> <td>  -0.010</td>\n",
              "</tr>\n",
              "<tr>\n",
              "  <th>Method:</th>             <td>Least Squares</td>  <th>  F-statistic:       </th> <td> 0.06015</td>\n",
              "</tr>\n",
              "<tr>\n",
              "  <th>Date:</th>             <td>Tue, 11 May 2021</td> <th>  Prob (F-statistic):</th>  <td> 0.807</td> \n",
              "</tr>\n",
              "<tr>\n",
              "  <th>Time:</th>                 <td>00:02:28</td>     <th>  Log-Likelihood:    </th> <td> -186.45</td>\n",
              "</tr>\n",
              "<tr>\n",
              "  <th>No. Observations:</th>      <td>   100</td>      <th>  AIC:               </th> <td>   376.9</td>\n",
              "</tr>\n",
              "<tr>\n",
              "  <th>Df Residuals:</th>          <td>    98</td>      <th>  BIC:               </th> <td>   382.1</td>\n",
              "</tr>\n",
              "<tr>\n",
              "  <th>Df Model:</th>              <td>     1</td>      <th>                     </th>     <td> </td>   \n",
              "</tr>\n",
              "<tr>\n",
              "  <th>Covariance Type:</th>      <td>nonrobust</td>    <th>                     </th>     <td> </td>   \n",
              "</tr>\n",
              "</table>\n",
              "<table class=\"simpletable\">\n",
              "<tr>\n",
              "    <td></td>       <th>coef</th>     <th>std err</th>      <th>t</th>      <th>P>|t|</th>  <th>[0.025</th>    <th>0.975]</th>  \n",
              "</tr>\n",
              "<tr>\n",
              "  <th>const</th> <td>    5.4493</td> <td>    0.158</td> <td>   34.548</td> <td> 0.000</td> <td>    5.136</td> <td>    5.762</td>\n",
              "</tr>\n",
              "<tr>\n",
              "  <th>x1</th>    <td>    0.0418</td> <td>    0.171</td> <td>    0.245</td> <td> 0.807</td> <td>   -0.297</td> <td>    0.380</td>\n",
              "</tr>\n",
              "</table>\n",
              "<table class=\"simpletable\">\n",
              "<tr>\n",
              "  <th>Omnibus:</th>       <td> 1.210</td> <th>  Durbin-Watson:     </th> <td>   1.827</td>\n",
              "</tr>\n",
              "<tr>\n",
              "  <th>Prob(Omnibus):</th> <td> 0.546</td> <th>  Jarque-Bera (JB):  </th> <td>   1.251</td>\n",
              "</tr>\n",
              "<tr>\n",
              "  <th>Skew:</th>          <td> 0.252</td> <th>  Prob(JB):          </th> <td>   0.535</td>\n",
              "</tr>\n",
              "<tr>\n",
              "  <th>Kurtosis:</th>      <td> 2.786</td> <th>  Cond. No.          </th> <td>    1.08</td>\n",
              "</tr>\n",
              "</table><br/><br/>Warnings:<br/>[1] Standard Errors assume that the covariance matrix of the errors is correctly specified."
            ],
            "text/plain": [
              "<class 'statsmodels.iolib.summary.Summary'>\n",
              "\"\"\"\n",
              "                            OLS Regression Results                            \n",
              "==============================================================================\n",
              "Dep. Variable:                      y   R-squared:                       0.001\n",
              "Model:                            OLS   Adj. R-squared:                 -0.010\n",
              "Method:                 Least Squares   F-statistic:                   0.06015\n",
              "Date:                Tue, 11 May 2021   Prob (F-statistic):              0.807\n",
              "Time:                        00:02:28   Log-Likelihood:                -186.45\n",
              "No. Observations:                 100   AIC:                             376.9\n",
              "Df Residuals:                      98   BIC:                             382.1\n",
              "Df Model:                           1                                         \n",
              "Covariance Type:            nonrobust                                         \n",
              "==============================================================================\n",
              "                 coef    std err          t      P>|t|      [0.025      0.975]\n",
              "------------------------------------------------------------------------------\n",
              "const          5.4493      0.158     34.548      0.000       5.136       5.762\n",
              "x1             0.0418      0.171      0.245      0.807      -0.297       0.380\n",
              "==============================================================================\n",
              "Omnibus:                        1.210   Durbin-Watson:                   1.827\n",
              "Prob(Omnibus):                  0.546   Jarque-Bera (JB):                1.251\n",
              "Skew:                           0.252   Prob(JB):                        0.535\n",
              "Kurtosis:                       2.786   Cond. No.                         1.08\n",
              "==============================================================================\n",
              "\n",
              "Warnings:\n",
              "[1] Standard Errors assume that the covariance matrix of the errors is correctly specified.\n",
              "\"\"\""
            ]
          },
          "metadata": {
            "tags": []
          },
          "execution_count": 78
        }
      ]
    },
    {
      "cell_type": "code",
      "metadata": {
        "colab": {
          "base_uri": "https://localhost:8080/",
          "height": 338
        },
        "id": "Y_VSDahDeoti",
        "outputId": "a8f0af96-4b51-4749-8e46-b480f4a2350a"
      },
      "source": [
        "#check for nonlinearity using residual plot\n",
        "y_pred = model.predict(X)\n",
        "sns.scatterplot(ynoise,ynoise-y_pred)\n",
        "#if there is a pattern then there's a problem!"
      ],
      "execution_count": 79,
      "outputs": [
        {
          "output_type": "stream",
          "text": [
            "/usr/local/lib/python3.7/dist-packages/seaborn/_decorators.py:43: FutureWarning: Pass the following variables as keyword args: x, y. From version 0.12, the only valid positional argument will be `data`, and passing other arguments without an explicit keyword will result in an error or misinterpretation.\n",
            "  FutureWarning\n"
          ],
          "name": "stderr"
        },
        {
          "output_type": "execute_result",
          "data": {
            "text/plain": [
              "<matplotlib.axes._subplots.AxesSubplot at 0x7fe08c478590>"
            ]
          },
          "metadata": {
            "tags": []
          },
          "execution_count": 79
        },
        {
          "output_type": "display_data",
          "data": {
            "image/png": "[encoded data removed]",
            "text/plain": [
              "<Figure size 432x288 with 1 Axes>"
            ]
          },
          "metadata": {
            "tags": [],
            "needs_background": "light"
          }
        }
      ]
    }
  ]
}