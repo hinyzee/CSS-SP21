{
  "nbformat": 4,
  "nbformat_minor": 0,
  "metadata": {
    "colab": {
      "name": "css 2 class 2",
      "provenance": [],
      "collapsed_sections": []
    },
    "kernelspec": {
      "name": "python3",
      "display_name": "Python 3"
    },
    "language_info": {
      "name": "python"
    }
  },
  "cells": [
    {
      "cell_type": "code",
      "metadata": {
        "id": "LuBH3lVRvpQv"
      },
      "source": [
        "import numpy as np"
      ],
      "execution_count": 1,
      "outputs": []
    },
    {
      "cell_type": "code",
      "metadata": {
        "colab": {
          "base_uri": "https://localhost:8080/"
        },
        "id": "TtSRmTFHv0XG",
        "outputId": "1b567d3e-59fd-41ac-922a-0d6b3dced206"
      },
      "source": [
        "list1 = [1,2,3,4,5,6] # creating a list \n",
        "list1"
      ],
      "execution_count": 4,
      "outputs": [
        {
          "output_type": "execute_result",
          "data": {
            "text/plain": [
              "[1, 2, 3, 4, 5, 6]"
            ]
          },
          "metadata": {
            "tags": []
          },
          "execution_count": 4
        }
      ]
    },
    {
      "cell_type": "code",
      "metadata": {
        "colab": {
          "base_uri": "https://localhost:8080/"
        },
        "id": "lJd9nqvHwCiY",
        "outputId": "f687344d-d0b7-4d5e-9479-0bdd9ca6ac36"
      },
      "source": [
        "arr1 = np.array(list1) # numpy array \n",
        "type(arr1)"
      ],
      "execution_count": 7,
      "outputs": [
        {
          "output_type": "execute_result",
          "data": {
            "text/plain": [
              "numpy.ndarray"
            ]
          },
          "metadata": {
            "tags": []
          },
          "execution_count": 7
        }
      ]
    },
    {
      "cell_type": "code",
      "metadata": {
        "colab": {
          "base_uri": "https://localhost:8080/"
        },
        "id": "yRizFgJkwL57",
        "outputId": "7db92da0-2b18-48ce-f324-49f61d881cf9"
      },
      "source": [
        "arr1[0] # use square brackets to slice arrays\n",
        "        # python is 'zero-base'\n",
        "\n",
        "arr1[0:2] # slice from the first to the third entries"
      ],
      "execution_count": 12,
      "outputs": [
        {
          "output_type": "execute_result",
          "data": {
            "text/plain": [
              "array([1, 2])"
            ]
          },
          "metadata": {
            "tags": []
          },
          "execution_count": 12
        }
      ]
    },
    {
      "cell_type": "code",
      "metadata": {
        "colab": {
          "base_uri": "https://localhost:8080/"
        },
        "id": "xSocnLxUwnb0",
        "outputId": "23d642a3-6590-4bc1-b071-252378f9554b"
      },
      "source": [
        "# can pass in number that is larger than the array size when slicing \n",
        "arr1[0:1000]"
      ],
      "execution_count": 13,
      "outputs": [
        {
          "output_type": "execute_result",
          "data": {
            "text/plain": [
              "array([1, 2, 3, 4, 5, 6])"
            ]
          },
          "metadata": {
            "tags": []
          },
          "execution_count": 13
        }
      ]
    },
    {
      "cell_type": "code",
      "metadata": {
        "colab": {
          "base_uri": "https://localhost:8080/"
        },
        "id": "yvssgHVnx3p3",
        "outputId": "439bae82-59aa-43b5-c2c1-3342d7c2446e"
      },
      "source": [
        "# methods/functions \n",
        "print('max : ' + str(arr1.max()))\n",
        "print('square_root : ' + str(np.sqrt(arr1)))"
      ],
      "execution_count": 25,
      "outputs": [
        {
          "output_type": "stream",
          "text": [
            "max : 6\n",
            "square_root : [1.         1.41421356 1.73205081 2.         2.23606798 2.44948974]\n"
          ],
          "name": "stdout"
        }
      ]
    },
    {
      "cell_type": "code",
      "metadata": {
        "colab": {
          "base_uri": "https://localhost:8080/"
        },
        "id": "4wmdWVHQy6JZ",
        "outputId": "bd8ac811-fae9-4944-e775-4565e8b618ed"
      },
      "source": [
        "arr1.shape"
      ],
      "execution_count": 26,
      "outputs": [
        {
          "output_type": "execute_result",
          "data": {
            "text/plain": [
              "(6,)"
            ]
          },
          "metadata": {
            "tags": []
          },
          "execution_count": 26
        }
      ]
    },
    {
      "cell_type": "code",
      "metadata": {
        "colab": {
          "base_uri": "https://localhost:8080/"
        },
        "id": "QH10nxkBzhCN",
        "outputId": "8bc812b9-e74b-4d75-8081-61dcf059b9d5"
      },
      "source": [
        "arr1.reshape(6,1) # change the shape of the array "
      ],
      "execution_count": 42,
      "outputs": [
        {
          "output_type": "execute_result",
          "data": {
            "text/plain": [
              "array([[1],\n",
              "       [2],\n",
              "       [3],\n",
              "       [4],\n",
              "       [5],\n",
              "       [6]])"
            ]
          },
          "metadata": {
            "tags": []
          },
          "execution_count": 42
        }
      ]
    },
    {
      "cell_type": "code",
      "metadata": {
        "colab": {
          "base_uri": "https://localhost:8080/"
        },
        "id": "2WhOYohTz-JV",
        "outputId": "25037024-3223-45f2-8fe3-cbfa7a2d6c4a"
      },
      "source": [
        "new_array = np.array([1,2,1,2]).reshape(2,2)\n",
        "new_array"
      ],
      "execution_count": 46,
      "outputs": [
        {
          "output_type": "execute_result",
          "data": {
            "text/plain": [
              "array([[1, 2],\n",
              "       [1, 2]])"
            ]
          },
          "metadata": {
            "tags": []
          },
          "execution_count": 46
        }
      ]
    },
    {
      "cell_type": "code",
      "metadata": {
        "colab": {
          "base_uri": "https://localhost:8080/"
        },
        "id": "z457630i0vfT",
        "outputId": "592a7d73-c6c6-44a4-e452-122142f6bbe9"
      },
      "source": [
        "new_array.transpose()"
      ],
      "execution_count": 48,
      "outputs": [
        {
          "output_type": "execute_result",
          "data": {
            "text/plain": [
              "array([[1, 1],\n",
              "       [2, 2]])"
            ]
          },
          "metadata": {
            "tags": []
          },
          "execution_count": 48
        }
      ]
    },
    {
      "cell_type": "code",
      "metadata": {
        "colab": {
          "base_uri": "https://localhost:8080/"
        },
        "id": "5ClmHAsW1Nyj",
        "outputId": "388d6ae4-a45b-45fb-c8dd-56774d4c8c7b"
      },
      "source": [
        "# we can also reshape the array like this\n",
        "\n",
        "new_arr = np.array([[1,2],[1,2]])\n",
        "new_arr"
      ],
      "execution_count": 51,
      "outputs": [
        {
          "output_type": "execute_result",
          "data": {
            "text/plain": [
              "array([[1, 2],\n",
              "       [1, 2]])"
            ]
          },
          "metadata": {
            "tags": []
          },
          "execution_count": 51
        }
      ]
    },
    {
      "cell_type": "code",
      "metadata": {
        "colab": {
          "base_uri": "https://localhost:8080/"
        },
        "id": "mMCt8PcB1Yyt",
        "outputId": "a6660da4-bd14-4612-9cf9-ba130620fc86"
      },
      "source": [
        "# sum along x-axis\n",
        "new_array.sum(axis = 1)"
      ],
      "execution_count": 56,
      "outputs": [
        {
          "output_type": "execute_result",
          "data": {
            "text/plain": [
              "array([3, 3])"
            ]
          },
          "metadata": {
            "tags": []
          },
          "execution_count": 56
        }
      ]
    },
    {
      "cell_type": "code",
      "metadata": {
        "colab": {
          "base_uri": "https://localhost:8080/"
        },
        "id": "ctHxX9QL1mMr",
        "outputId": "36525629-a93d-49b4-ed0e-2745ea6826a6"
      },
      "source": [
        "# create an array with all zeros /ones\n",
        "zero = np.zeros((10,10))\n",
        "one = np.ones((10,10))\n",
        "# random numbers\n",
        "np.random.randint(0,10,[2,2])"
      ],
      "execution_count": 64,
      "outputs": [
        {
          "output_type": "execute_result",
          "data": {
            "text/plain": [
              "array([[6, 7],\n",
              "       [8, 6]])"
            ]
          },
          "metadata": {
            "tags": []
          },
          "execution_count": 64
        }
      ]
    },
    {
      "cell_type": "code",
      "metadata": {
        "colab": {
          "base_uri": "https://localhost:8080/"
        },
        "id": "TgLDhAVd180P",
        "outputId": "a4fefe9a-6dd7-42c0-deb6-f9e07217c007"
      },
      "source": [
        "# other random functions\n",
        "np.random.randn(10) # normal distribution"
      ],
      "execution_count": 65,
      "outputs": [
        {
          "output_type": "execute_result",
          "data": {
            "text/plain": [
              "array([-0.01354831,  0.5071122 ,  0.56723295,  3.09463518, -0.19471571,\n",
              "        0.72054954,  0.48815556,  0.94755157, -0.21959543, -0.55627439])"
            ]
          },
          "metadata": {
            "tags": []
          },
          "execution_count": 65
        }
      ]
    },
    {
      "cell_type": "code",
      "metadata": {
        "colab": {
          "base_uri": "https://localhost:8080/"
        },
        "id": "p0oWbqgR2eTz",
        "outputId": "1eb38d93-27c9-4a4d-c4a7-84a8cd1cab8e"
      },
      "source": [
        "# copy function\n",
        "np.copy(zero)"
      ],
      "execution_count": 67,
      "outputs": [
        {
          "output_type": "execute_result",
          "data": {
            "text/plain": [
              "array([[0., 0., 0., 0., 0., 0., 0., 0., 0., 0.],\n",
              "       [0., 0., 0., 0., 0., 0., 0., 0., 0., 0.],\n",
              "       [0., 0., 0., 0., 0., 0., 0., 0., 0., 0.],\n",
              "       [0., 0., 0., 0., 0., 0., 0., 0., 0., 0.],\n",
              "       [0., 0., 0., 0., 0., 0., 0., 0., 0., 0.],\n",
              "       [0., 0., 0., 0., 0., 0., 0., 0., 0., 0.],\n",
              "       [0., 0., 0., 0., 0., 0., 0., 0., 0., 0.],\n",
              "       [0., 0., 0., 0., 0., 0., 0., 0., 0., 0.],\n",
              "       [0., 0., 0., 0., 0., 0., 0., 0., 0., 0.],\n",
              "       [0., 0., 0., 0., 0., 0., 0., 0., 0., 0.]])"
            ]
          },
          "metadata": {
            "tags": []
          },
          "execution_count": 67
        }
      ]
    },
    {
      "cell_type": "code",
      "metadata": {
        "colab": {
          "base_uri": "https://localhost:8080/"
        },
        "id": "LcjdjrC33EwO",
        "outputId": "2c548d3d-7980-43f0-8a8c-3d7cc64e137b"
      },
      "source": [
        "# boolean values\n",
        "arr_5 = np.array([1,2,3,4,5,6,7,8])\n",
        "arr_5 >= 6"
      ],
      "execution_count": 74,
      "outputs": [
        {
          "output_type": "execute_result",
          "data": {
            "text/plain": [
              "array([False, False, False, False, False,  True,  True,  True])"
            ]
          },
          "metadata": {
            "tags": []
          },
          "execution_count": 74
        }
      ]
    },
    {
      "cell_type": "code",
      "metadata": {
        "id": "QlXcpBrr4Gl9"
      },
      "source": [
        "import pandas as pd"
      ],
      "execution_count": 75,
      "outputs": []
    },
    {
      "cell_type": "code",
      "metadata": {
        "id": "HuNYFUSo47qs"
      },
      "source": [
        "# create a series\n",
        "city_list = ['NYC','LA','Chicago','Houston','Phoenix']\n",
        "population = np.array([8.3,3.9,2.7,2.3,1.6])\n",
        "ser1 = pd.Series( data = population, index = city_list)"
      ],
      "execution_count": 81,
      "outputs": []
    },
    {
      "cell_type": "code",
      "metadata": {
        "colab": {
          "base_uri": "https://localhost:8080/"
        },
        "id": "YPjK-IM35F_8",
        "outputId": "c413c4b7-329f-4abd-e9b3-fcd73d33287b"
      },
      "source": [
        "ser1.iloc[-1]\n",
        "ser1['NYC']"
      ],
      "execution_count": 93,
      "outputs": [
        {
          "output_type": "execute_result",
          "data": {
            "text/plain": [
              "8.3"
            ]
          },
          "metadata": {
            "tags": []
          },
          "execution_count": 93
        }
      ]
    },
    {
      "cell_type": "code",
      "metadata": {
        "colab": {
          "base_uri": "https://localhost:8080/"
        },
        "id": "bMOEObKm5-be",
        "outputId": "2b730cf8-9c8f-4800-bb7e-5e4c0e296599"
      },
      "source": [
        "# add an extra roll to an existing series\n",
        "ser2 = pd.Series(data=[1.4],index=['SD'])\n",
        "\n",
        "combined_ser = ser1.append(ser2)\n",
        "combined_ser"
      ],
      "execution_count": 126,
      "outputs": [
        {
          "output_type": "execute_result",
          "data": {
            "text/plain": [
              "NYC        8.3\n",
              "LA         3.9\n",
              "Chicago    2.7\n",
              "Houston    2.3\n",
              "Phoenix    1.6\n",
              "SD         1.4\n",
              "dtype: float64"
            ]
          },
          "metadata": {
            "tags": []
          },
          "execution_count": 126
        }
      ]
    },
    {
      "cell_type": "code",
      "metadata": {
        "colab": {
          "base_uri": "https://localhost:8080/"
        },
        "id": "4Y5Bpm1O65ZZ",
        "outputId": "c9db2ff3-02b4-41b9-a727-9d02364e2d7f"
      },
      "source": [
        "ser1.sort_values(ascending = True)"
      ],
      "execution_count": 127,
      "outputs": [
        {
          "output_type": "execute_result",
          "data": {
            "text/plain": [
              "Phoenix    1.6\n",
              "Houston    2.3\n",
              "Chicago    2.7\n",
              "LA         3.9\n",
              "NYC        8.3\n",
              "dtype: float64"
            ]
          },
          "metadata": {
            "tags": []
          },
          "execution_count": 127
        }
      ]
    },
    {
      "cell_type": "code",
      "metadata": {
        "colab": {
          "base_uri": "https://localhost:8080/"
        },
        "id": "mGMIh3EL7Iam",
        "outputId": "2eb31261-6f36-4072-fd8c-80a647cfd8d5"
      },
      "source": [
        "pd.concat([ser1,ser2])"
      ],
      "execution_count": 128,
      "outputs": [
        {
          "output_type": "execute_result",
          "data": {
            "text/plain": [
              "NYC        8.3\n",
              "LA         3.9\n",
              "Chicago    2.7\n",
              "Houston    2.3\n",
              "Phoenix    1.6\n",
              "SD         1.4\n",
              "dtype: float64"
            ]
          },
          "metadata": {
            "tags": []
          },
          "execution_count": 128
        }
      ]
    },
    {
      "cell_type": "code",
      "metadata": {
        "colab": {
          "base_uri": "https://localhost:8080/",
          "height": 235
        },
        "id": "DKw4NsI07qw7",
        "outputId": "830b551f-ce3d-4b0f-b058-f75999694bee"
      },
      "source": [
        "# create a dataframe\n",
        "df1 = pd.DataFrame(combined_ser,columns=['Population'])\n",
        "df1"
      ],
      "execution_count": 129,
      "outputs": [
        {
          "output_type": "execute_result",
          "data": {
            "text/html": [
              "<div>\n",
              "<style scoped>\n",
              "    .dataframe tbody tr th:only-of-type {\n",
              "        vertical-align: middle;\n",
              "    }\n",
              "\n",
              "    .dataframe tbody tr th {\n",
              "        vertical-align: top;\n",
              "    }\n",
              "\n",
              "    .dataframe thead th {\n",
              "        text-align: right;\n",
              "    }\n",
              "</style>\n",
              "<table border=\"1\" class=\"dataframe\">\n",
              "  <thead>\n",
              "    <tr style=\"text-align: right;\">\n",
              "      <th></th>\n",
              "      <th>Population</th>\n",
              "    </tr>\n",
              "  </thead>\n",
              "  <tbody>\n",
              "    <tr>\n",
              "      <th>NYC</th>\n",
              "      <td>8.3</td>\n",
              "    </tr>\n",
              "    <tr>\n",
              "      <th>LA</th>\n",
              "      <td>3.9</td>\n",
              "    </tr>\n",
              "    <tr>\n",
              "      <th>Chicago</th>\n",
              "      <td>2.7</td>\n",
              "    </tr>\n",
              "    <tr>\n",
              "      <th>Houston</th>\n",
              "      <td>2.3</td>\n",
              "    </tr>\n",
              "    <tr>\n",
              "      <th>Phoenix</th>\n",
              "      <td>1.6</td>\n",
              "    </tr>\n",
              "    <tr>\n",
              "      <th>SD</th>\n",
              "      <td>1.4</td>\n",
              "    </tr>\n",
              "  </tbody>\n",
              "</table>\n",
              "</div>"
            ],
            "text/plain": [
              "         Population\n",
              "NYC             8.3\n",
              "LA              3.9\n",
              "Chicago         2.7\n",
              "Houston         2.3\n",
              "Phoenix         1.6\n",
              "SD              1.4"
            ]
          },
          "metadata": {
            "tags": []
          },
          "execution_count": 129
        }
      ]
    },
    {
      "cell_type": "code",
      "metadata": {
        "colab": {
          "base_uri": "https://localhost:8080/",
          "height": 235
        },
        "id": "K4JCE5ab8Z1a",
        "outputId": "58a8e858-8159-4fa0-ede8-c07b4848edbb"
      },
      "source": [
        "# add a new column \n",
        "city_list_2 = ['NYC','LA','Chicago','Houston','Phoenix','SD']\n",
        "arr6 = np.array([301,468,227,637,517,301])\n",
        "series_6 = pd.Series(data=arr6,index = city_list_2)\n",
        "df2 = pd.DataFrame(series_6,columns=['Area'])\n",
        "df2"
      ],
      "execution_count": 167,
      "outputs": [
        {
          "output_type": "execute_result",
          "data": {
            "text/html": [
              "<div>\n",
              "<style scoped>\n",
              "    .dataframe tbody tr th:only-of-type {\n",
              "        vertical-align: middle;\n",
              "    }\n",
              "\n",
              "    .dataframe tbody tr th {\n",
              "        vertical-align: top;\n",
              "    }\n",
              "\n",
              "    .dataframe thead th {\n",
              "        text-align: right;\n",
              "    }\n",
              "</style>\n",
              "<table border=\"1\" class=\"dataframe\">\n",
              "  <thead>\n",
              "    <tr style=\"text-align: right;\">\n",
              "      <th></th>\n",
              "      <th>Area</th>\n",
              "    </tr>\n",
              "  </thead>\n",
              "  <tbody>\n",
              "    <tr>\n",
              "      <th>NYC</th>\n",
              "      <td>301</td>\n",
              "    </tr>\n",
              "    <tr>\n",
              "      <th>LA</th>\n",
              "      <td>468</td>\n",
              "    </tr>\n",
              "    <tr>\n",
              "      <th>Chicago</th>\n",
              "      <td>227</td>\n",
              "    </tr>\n",
              "    <tr>\n",
              "      <th>Houston</th>\n",
              "      <td>637</td>\n",
              "    </tr>\n",
              "    <tr>\n",
              "      <th>Phoenix</th>\n",
              "      <td>517</td>\n",
              "    </tr>\n",
              "    <tr>\n",
              "      <th>SD</th>\n",
              "      <td>301</td>\n",
              "    </tr>\n",
              "  </tbody>\n",
              "</table>\n",
              "</div>"
            ],
            "text/plain": [
              "         Area\n",
              "NYC       301\n",
              "LA        468\n",
              "Chicago   227\n",
              "Houston   637\n",
              "Phoenix   517\n",
              "SD        301"
            ]
          },
          "metadata": {
            "tags": []
          },
          "execution_count": 167
        }
      ]
    },
    {
      "cell_type": "code",
      "metadata": {
        "colab": {
          "base_uri": "https://localhost:8080/",
          "height": 235
        },
        "id": "jg19dEXYALZc",
        "outputId": "fc1b1543-829b-413d-e5dc-5d7768e1ad29"
      },
      "source": [
        "series_7 = pd.concat([df1,df2],axis = 1)\n",
        "series_7"
      ],
      "execution_count": 169,
      "outputs": [
        {
          "output_type": "execute_result",
          "data": {
            "text/html": [
              "<div>\n",
              "<style scoped>\n",
              "    .dataframe tbody tr th:only-of-type {\n",
              "        vertical-align: middle;\n",
              "    }\n",
              "\n",
              "    .dataframe tbody tr th {\n",
              "        vertical-align: top;\n",
              "    }\n",
              "\n",
              "    .dataframe thead th {\n",
              "        text-align: right;\n",
              "    }\n",
              "</style>\n",
              "<table border=\"1\" class=\"dataframe\">\n",
              "  <thead>\n",
              "    <tr style=\"text-align: right;\">\n",
              "      <th></th>\n",
              "      <th>Population</th>\n",
              "      <th>Area</th>\n",
              "    </tr>\n",
              "  </thead>\n",
              "  <tbody>\n",
              "    <tr>\n",
              "      <th>NYC</th>\n",
              "      <td>8.3</td>\n",
              "      <td>301</td>\n",
              "    </tr>\n",
              "    <tr>\n",
              "      <th>LA</th>\n",
              "      <td>3.9</td>\n",
              "      <td>468</td>\n",
              "    </tr>\n",
              "    <tr>\n",
              "      <th>Chicago</th>\n",
              "      <td>2.7</td>\n",
              "      <td>227</td>\n",
              "    </tr>\n",
              "    <tr>\n",
              "      <th>Houston</th>\n",
              "      <td>2.3</td>\n",
              "      <td>637</td>\n",
              "    </tr>\n",
              "    <tr>\n",
              "      <th>Phoenix</th>\n",
              "      <td>1.6</td>\n",
              "      <td>517</td>\n",
              "    </tr>\n",
              "    <tr>\n",
              "      <th>SD</th>\n",
              "      <td>1.4</td>\n",
              "      <td>301</td>\n",
              "    </tr>\n",
              "  </tbody>\n",
              "</table>\n",
              "</div>"
            ],
            "text/plain": [
              "         Population  Area\n",
              "NYC             8.3   301\n",
              "LA              3.9   468\n",
              "Chicago         2.7   227\n",
              "Houston         2.3   637\n",
              "Phoenix         1.6   517\n",
              "SD              1.4   301"
            ]
          },
          "metadata": {
            "tags": []
          },
          "execution_count": 169
        }
      ]
    },
    {
      "cell_type": "code",
      "metadata": {
        "id": "xscZ9VGcB9MU"
      },
      "source": [
        ""
      ],
      "execution_count": null,
      "outputs": []
    }
  ]
}